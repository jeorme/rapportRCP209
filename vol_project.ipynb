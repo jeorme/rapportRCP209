{
 "cells": [
  {
   "cell_type": "markdown",
   "metadata": {},
   "source": [
    "# Projet RCP 209 : prédiction de rendement de stock"
   ]
  },
  {
   "cell_type": "markdown",
   "metadata": {},
   "source": [
    "## Import library"
   ]
  },
  {
   "cell_type": "code",
   "execution_count": 1,
   "metadata": {},
   "outputs": [],
   "source": [
    "import pandas as pd\n",
    "import numpy as np\n",
    "import matplotlib.pyplot as plt"
   ]
  },
  {
   "cell_type": "markdown",
   "metadata": {},
   "source": [
    "# Accuracy function"
   ]
  },
  {
   "cell_type": "code",
   "execution_count": 2,
   "metadata": {},
   "outputs": [],
   "source": [
    "def CFM_metrics(y_true, y_pred):\n",
    "    \"\"\"\n",
    "    Return the metrics used for the CFM Data Challenge 2019.\n",
    "\n",
    "    This metrics is simply the accuracy of the prediction of positive returns\n",
    "    (see below for details), but based on true *returns* (y_true) and\n",
    "    probabilities (of returns being positive).\n",
    "\n",
    "    Args\n",
    "        y_true: Pandas Dataframe\n",
    "            target returns. Positive returns will give True, and negative ones False.\n",
    "\n",
    "        y_pred: Pandas Dataframe\n",
    "            predicted probability of positive returns.\n",
    "\n",
    "    \"\"\"\n",
    "    return ((y_true.values > 0) == (y_pred.values > 0.5)).mean()"
   ]
  },
  {
   "cell_type": "markdown",
   "metadata": {},
   "source": [
    "# Get data"
   ]
  },
  {
   "cell_type": "code",
   "execution_count": 3,
   "metadata": {},
   "outputs": [],
   "source": [
    "data_test = pd.read_csv(\"data_stock\\\\test_input.csv\", sep=',')\n",
    "data_train = pd.read_csv(\"data_stock\\\\training_input.csv\", sep=',')\n",
    "output_train = pd.read_csv(\"data_stock\\\\training_output.csv\", sep=',')"
   ]
  },
  {
   "cell_type": "markdown",
   "metadata": {},
   "source": [
    "# Clean the data"
   ]
  },
  {
   "cell_type": "code",
   "execution_count": 4,
   "metadata": {},
   "outputs": [
    {
     "data": {
      "text/html": [
       "<div>\n",
       "<style scoped>\n",
       "    .dataframe tbody tr th:only-of-type {\n",
       "        vertical-align: middle;\n",
       "    }\n",
       "\n",
       "    .dataframe tbody tr th {\n",
       "        vertical-align: top;\n",
       "    }\n",
       "\n",
       "    .dataframe thead th {\n",
       "        text-align: right;\n",
       "    }\n",
       "</style>\n",
       "<table border=\"1\" class=\"dataframe\">\n",
       "  <thead>\n",
       "    <tr style=\"text-align: right;\">\n",
       "      <th></th>\n",
       "      <th>ID</th>\n",
       "      <th>eqt_code</th>\n",
       "      <th>date</th>\n",
       "      <th>09:30:00</th>\n",
       "      <th>09:35:00</th>\n",
       "      <th>09:40:00</th>\n",
       "      <th>09:45:00</th>\n",
       "      <th>09:50:00</th>\n",
       "      <th>09:55:00</th>\n",
       "      <th>10:00:00</th>\n",
       "      <th>...</th>\n",
       "      <th>14:35:00</th>\n",
       "      <th>14:40:00</th>\n",
       "      <th>14:45:00</th>\n",
       "      <th>14:50:00</th>\n",
       "      <th>14:55:00</th>\n",
       "      <th>15:00:00</th>\n",
       "      <th>15:05:00</th>\n",
       "      <th>15:10:00</th>\n",
       "      <th>15:15:00</th>\n",
       "      <th>15:20:00</th>\n",
       "    </tr>\n",
       "  </thead>\n",
       "  <tbody>\n",
       "    <tr>\n",
       "      <th>0</th>\n",
       "      <td>0</td>\n",
       "      <td>975514820</td>\n",
       "      <td>2059277756</td>\n",
       "      <td>0.378421</td>\n",
       "      <td>0.062977</td>\n",
       "      <td>-1.699955</td>\n",
       "      <td>-0.253532</td>\n",
       "      <td>0.317230</td>\n",
       "      <td>-1.394081</td>\n",
       "      <td>-1.338014</td>\n",
       "      <td>...</td>\n",
       "      <td>-0.258339</td>\n",
       "      <td>-0.193950</td>\n",
       "      <td>0.129398</td>\n",
       "      <td>0.064666</td>\n",
       "      <td>0.323250</td>\n",
       "      <td>0.193705</td>\n",
       "      <td>0.387117</td>\n",
       "      <td>0.257687</td>\n",
       "      <td>0.064357</td>\n",
       "      <td>-0.193022</td>\n",
       "    </tr>\n",
       "    <tr>\n",
       "      <th>1</th>\n",
       "      <td>1</td>\n",
       "      <td>975514820</td>\n",
       "      <td>661006643</td>\n",
       "      <td>-0.588441</td>\n",
       "      <td>-0.393182</td>\n",
       "      <td>0.918810</td>\n",
       "      <td>0.392393</td>\n",
       "      <td>0.195901</td>\n",
       "      <td>-0.195754</td>\n",
       "      <td>0.000000</td>\n",
       "      <td>...</td>\n",
       "      <td>0.000000</td>\n",
       "      <td>-0.260940</td>\n",
       "      <td>0.000000</td>\n",
       "      <td>-0.130601</td>\n",
       "      <td>0.130666</td>\n",
       "      <td>0.130601</td>\n",
       "      <td>0.130536</td>\n",
       "      <td>0.521881</td>\n",
       "      <td>0.260419</td>\n",
       "      <td>0.910557</td>\n",
       "    </tr>\n",
       "    <tr>\n",
       "      <th>2</th>\n",
       "      <td>2</td>\n",
       "      <td>975514820</td>\n",
       "      <td>2252275018</td>\n",
       "      <td>-0.974472</td>\n",
       "      <td>1.789703</td>\n",
       "      <td>-0.105310</td>\n",
       "      <td>-0.456042</td>\n",
       "      <td>0.894337</td>\n",
       "      <td>-0.341168</td>\n",
       "      <td>-0.373679</td>\n",
       "      <td>...</td>\n",
       "      <td>-0.331103</td>\n",
       "      <td>-0.236124</td>\n",
       "      <td>-0.256959</td>\n",
       "      <td>-0.229774</td>\n",
       "      <td>0.063974</td>\n",
       "      <td>-0.570371</td>\n",
       "      <td>0.133774</td>\n",
       "      <td>-0.123741</td>\n",
       "      <td>-0.764930</td>\n",
       "      <td>0.230346</td>\n",
       "    </tr>\n",
       "    <tr>\n",
       "      <th>3</th>\n",
       "      <td>3</td>\n",
       "      <td>975514820</td>\n",
       "      <td>901241465</td>\n",
       "      <td>-4.612982</td>\n",
       "      <td>1.746131</td>\n",
       "      <td>1.092367</td>\n",
       "      <td>-0.030626</td>\n",
       "      <td>0.996415</td>\n",
       "      <td>-1.391209</td>\n",
       "      <td>0.169799</td>\n",
       "      <td>...</td>\n",
       "      <td>0.336335</td>\n",
       "      <td>-0.185523</td>\n",
       "      <td>0.521719</td>\n",
       "      <td>-0.095356</td>\n",
       "      <td>-0.207925</td>\n",
       "      <td>0.318842</td>\n",
       "      <td>0.119798</td>\n",
       "      <td>-0.155044</td>\n",
       "      <td>0.290896</td>\n",
       "      <td>-0.058833</td>\n",
       "    </tr>\n",
       "    <tr>\n",
       "      <th>4</th>\n",
       "      <td>4</td>\n",
       "      <td>975514820</td>\n",
       "      <td>1213815424</td>\n",
       "      <td>-2.642804</td>\n",
       "      <td>-0.772708</td>\n",
       "      <td>-0.115318</td>\n",
       "      <td>0.145272</td>\n",
       "      <td>-0.136105</td>\n",
       "      <td>0.450894</td>\n",
       "      <td>-0.046230</td>\n",
       "      <td>...</td>\n",
       "      <td>0.631221</td>\n",
       "      <td>0.090185</td>\n",
       "      <td>-0.169416</td>\n",
       "      <td>-0.081212</td>\n",
       "      <td>-0.275152</td>\n",
       "      <td>-0.249646</td>\n",
       "      <td>0.042280</td>\n",
       "      <td>0.483204</td>\n",
       "      <td>0.394914</td>\n",
       "      <td>-0.619209</td>\n",
       "    </tr>\n",
       "  </tbody>\n",
       "</table>\n",
       "<p>5 rows × 74 columns</p>\n",
       "</div>"
      ],
      "text/plain": [
       "   ID   eqt_code        date  09:30:00  09:35:00  09:40:00  09:45:00  \\\n",
       "0   0  975514820  2059277756  0.378421  0.062977 -1.699955 -0.253532   \n",
       "1   1  975514820   661006643 -0.588441 -0.393182  0.918810  0.392393   \n",
       "2   2  975514820  2252275018 -0.974472  1.789703 -0.105310 -0.456042   \n",
       "3   3  975514820   901241465 -4.612982  1.746131  1.092367 -0.030626   \n",
       "4   4  975514820  1213815424 -2.642804 -0.772708 -0.115318  0.145272   \n",
       "\n",
       "   09:50:00  09:55:00  10:00:00    ...     14:35:00  14:40:00  14:45:00  \\\n",
       "0  0.317230 -1.394081 -1.338014    ...    -0.258339 -0.193950  0.129398   \n",
       "1  0.195901 -0.195754  0.000000    ...     0.000000 -0.260940  0.000000   \n",
       "2  0.894337 -0.341168 -0.373679    ...    -0.331103 -0.236124 -0.256959   \n",
       "3  0.996415 -1.391209  0.169799    ...     0.336335 -0.185523  0.521719   \n",
       "4 -0.136105  0.450894 -0.046230    ...     0.631221  0.090185 -0.169416   \n",
       "\n",
       "   14:50:00  14:55:00  15:00:00  15:05:00  15:10:00  15:15:00  15:20:00  \n",
       "0  0.064666  0.323250  0.193705  0.387117  0.257687  0.064357 -0.193022  \n",
       "1 -0.130601  0.130666  0.130601  0.130536  0.521881  0.260419  0.910557  \n",
       "2 -0.229774  0.063974 -0.570371  0.133774 -0.123741 -0.764930  0.230346  \n",
       "3 -0.095356 -0.207925  0.318842  0.119798 -0.155044  0.290896 -0.058833  \n",
       "4 -0.081212 -0.275152 -0.249646  0.042280  0.483204  0.394914 -0.619209  \n",
       "\n",
       "[5 rows x 74 columns]"
      ]
     },
     "execution_count": 4,
     "metadata": {},
     "output_type": "execute_result"
    }
   ],
   "source": [
    "data_train.head()"
   ]
  },
  {
   "cell_type": "code",
   "execution_count": 5,
   "metadata": {},
   "outputs": [
    {
     "data": {
      "text/plain": [
       "((745327, 74), (319769, 74), (745327, 2))"
      ]
     },
     "execution_count": 5,
     "metadata": {},
     "output_type": "execute_result"
    }
   ],
   "source": [
    "data_train.shape, data_test.shape, output_train.shape"
   ]
  },
  {
   "cell_type": "code",
   "execution_count": 7,
   "metadata": {},
   "outputs": [
    {
     "data": {
      "text/plain": [
       "eqt_code     680\n",
       "date        1511\n",
       "dtype: int64"
      ]
     },
     "execution_count": 7,
     "metadata": {},
     "output_type": "execute_result"
    }
   ],
   "source": [
    "data_train[[\"eqt_code\",\"date\"]].nunique()"
   ]
  },
  {
   "cell_type": "markdown",
   "metadata": {},
   "source": [
    "# Premiere analyse"
   ]
  },
  {
   "cell_type": "code",
   "execution_count": 8,
   "metadata": {},
   "outputs": [
    {
     "data": {
      "text/plain": [
       "(52918217, 347646, 0.6569495718270326)"
      ]
     },
     "execution_count": 8,
     "metadata": {},
     "output_type": "execute_result"
    }
   ],
   "source": [
    "nb_donnee = data_train.iloc[:,3:].size\n",
    "nb_nan = data_train.iloc[:,3:].isna().sum().sum()\n",
    "nb_donnee,nb_nan,nb_nan/nb_donnee * 100"
   ]
  },
  {
   "cell_type": "code",
   "execution_count": 16,
   "metadata": {},
   "outputs": [],
   "source": [
    "#we linearly interpolate the NaN for the volatility and extrapolate to 0 \n",
    "data_train.iloc[:,3:57] = data_train.iloc[:,3:].interpolate(axis=1)\n",
    "data_test.iloc[:,3:57]  = data_test.iloc[:,3:].interpolate(axis=1)\n",
    "#we use a flat extrapolation\n",
    "data_train.fillna(0,inplace=True)\n",
    "data_test.fillna(0,inplace=True)"
   ]
  },
  {
   "cell_type": "code",
   "execution_count": 14,
   "metadata": {},
   "outputs": [],
   "source": [
    "#check if there is some NaN\n",
    "#NAs = pd.concat([data_train.isnull().sum(), data_test.isnull().sum()], axis=1, keys=['Train', 'Test'])\n",
    "#NAs[NAs.sum(axis=1) > 0]"
   ]
  },
  {
   "cell_type": "code",
   "execution_count": 17,
   "metadata": {},
   "outputs": [],
   "source": [
    "#drop not necessary data\n",
    "data_train_clean = data_train.drop(['ID', 'eqt_code', 'date'], axis=1, inplace=False)\n",
    "data_test_clean = data_test.drop(['ID', 'eqt_code', 'date'], axis=1, inplace=False)"
   ]
  },
  {
   "cell_type": "code",
   "execution_count": 35,
   "metadata": {},
   "outputs": [
    {
     "data": {
      "text/plain": [
       "LinearRegression(copy_X=True, fit_intercept=True, n_jobs=1, normalize=False)"
      ]
     },
     "execution_count": 35,
     "metadata": {},
     "output_type": "execute_result"
    }
   ],
   "source": [
    "from sklearn.linear_model import LinearRegression\n",
    "regrLinWeighted = LinearRegression()\n",
    "regrLinWeighted.fit(data_train_clean, output_train[\"end_of_day_return\"].values)"
   ]
  },
  {
   "cell_type": "code",
   "execution_count": 36,
   "metadata": {},
   "outputs": [
    {
     "ename": "ValueError",
     "evalue": "Expected 2D array, got 1D array instead:\narray=[ 0.964025 -0.583286  2.191065 ...  0.067532 -0.19649  -0.795607].\nReshape your data either using array.reshape(-1, 1) if your data has a single feature or array.reshape(1, -1) if it contains a single sample.",
     "output_type": "error",
     "traceback": [
      "\u001b[1;31m---------------------------------------------------------------------------\u001b[0m",
      "\u001b[1;31mValueError\u001b[0m                                Traceback (most recent call last)",
      "\u001b[1;32m<ipython-input-36-ff3a8b949abb>\u001b[0m in \u001b[0;36m<module>\u001b[1;34m()\u001b[0m\n\u001b[1;32m----> 1\u001b[1;33m \u001b[0mprint\u001b[0m\u001b[1;33m(\u001b[0m\u001b[1;34m'Train error ='\u001b[0m\u001b[1;33m,\u001b[0m \u001b[0mround\u001b[0m\u001b[1;33m(\u001b[0m\u001b[0mCFM_metrics\u001b[0m\u001b[1;33m(\u001b[0m\u001b[0mpd\u001b[0m\u001b[1;33m.\u001b[0m\u001b[0mDataFrame\u001b[0m\u001b[1;33m(\u001b[0m\u001b[0mdata\u001b[0m\u001b[1;33m=\u001b[0m\u001b[0mtrain_y\u001b[0m\u001b[1;33m)\u001b[0m\u001b[1;33m,\u001b[0m \u001b[0mpd\u001b[0m\u001b[1;33m.\u001b[0m\u001b[0mDataFrame\u001b[0m\u001b[1;33m(\u001b[0m\u001b[0mregrLinWeighted\u001b[0m\u001b[1;33m.\u001b[0m\u001b[0mpredict\u001b[0m\u001b[1;33m(\u001b[0m\u001b[0moutput_train\u001b[0m\u001b[1;33m[\u001b[0m\u001b[1;34m\"end_of_day_return\"\u001b[0m\u001b[1;33m]\u001b[0m\u001b[1;33m.\u001b[0m\u001b[0mvalues\u001b[0m\u001b[1;33m)\u001b[0m\u001b[1;33m)\u001b[0m\u001b[1;33m)\u001b[0m\u001b[1;33m,\u001b[0m \u001b[1;36m4\u001b[0m\u001b[1;33m)\u001b[0m\u001b[1;33m,\u001b[0m \u001b[1;34m'%'\u001b[0m\u001b[1;33m)\u001b[0m\u001b[1;33m\u001b[0m\u001b[0m\n\u001b[0m\u001b[0;32m      2\u001b[0m \u001b[0mprint\u001b[0m\u001b[1;33m(\u001b[0m\u001b[1;34m'Test error  ='\u001b[0m\u001b[1;33m,\u001b[0m \u001b[0mround\u001b[0m\u001b[1;33m(\u001b[0m\u001b[0mCFM_metrics\u001b[0m\u001b[1;33m(\u001b[0m\u001b[0mpd\u001b[0m\u001b[1;33m.\u001b[0m\u001b[0mDataFrame\u001b[0m\u001b[1;33m(\u001b[0m\u001b[0mdata\u001b[0m\u001b[1;33m=\u001b[0m\u001b[0mtest_y\u001b[0m\u001b[1;33m)\u001b[0m\u001b[1;33m,\u001b[0m \u001b[0mpd\u001b[0m\u001b[1;33m.\u001b[0m\u001b[0mDataFrame\u001b[0m\u001b[1;33m(\u001b[0m\u001b[0mdata\u001b[0m\u001b[1;33m=\u001b[0m\u001b[0mregrLinWeighted\u001b[0m\u001b[1;33m.\u001b[0m\u001b[0mpredict\u001b[0m\u001b[1;33m(\u001b[0m\u001b[0mtest_X\u001b[0m\u001b[1;33m)\u001b[0m\u001b[1;33m)\u001b[0m\u001b[1;33m)\u001b[0m\u001b[1;33m,\u001b[0m \u001b[1;36m4\u001b[0m\u001b[1;33m)\u001b[0m\u001b[1;33m,\u001b[0m \u001b[1;34m'%'\u001b[0m\u001b[1;33m)\u001b[0m\u001b[1;33m\u001b[0m\u001b[0m\n",
      "\u001b[1;32m~\\AppData\\Local\\Continuum\\anaconda3\\lib\\site-packages\\sklearn\\linear_model\\base.py\u001b[0m in \u001b[0;36mpredict\u001b[1;34m(self, X)\u001b[0m\n\u001b[0;32m    254\u001b[0m             \u001b[0mReturns\u001b[0m \u001b[0mpredicted\u001b[0m \u001b[0mvalues\u001b[0m\u001b[1;33m.\u001b[0m\u001b[1;33m\u001b[0m\u001b[0m\n\u001b[0;32m    255\u001b[0m         \"\"\"\n\u001b[1;32m--> 256\u001b[1;33m         \u001b[1;32mreturn\u001b[0m \u001b[0mself\u001b[0m\u001b[1;33m.\u001b[0m\u001b[0m_decision_function\u001b[0m\u001b[1;33m(\u001b[0m\u001b[0mX\u001b[0m\u001b[1;33m)\u001b[0m\u001b[1;33m\u001b[0m\u001b[0m\n\u001b[0m\u001b[0;32m    257\u001b[0m \u001b[1;33m\u001b[0m\u001b[0m\n\u001b[0;32m    258\u001b[0m     \u001b[0m_preprocess_data\u001b[0m \u001b[1;33m=\u001b[0m \u001b[0mstaticmethod\u001b[0m\u001b[1;33m(\u001b[0m\u001b[0m_preprocess_data\u001b[0m\u001b[1;33m)\u001b[0m\u001b[1;33m\u001b[0m\u001b[0m\n",
      "\u001b[1;32m~\\AppData\\Local\\Continuum\\anaconda3\\lib\\site-packages\\sklearn\\linear_model\\base.py\u001b[0m in \u001b[0;36m_decision_function\u001b[1;34m(self, X)\u001b[0m\n\u001b[0;32m    237\u001b[0m         \u001b[0mcheck_is_fitted\u001b[0m\u001b[1;33m(\u001b[0m\u001b[0mself\u001b[0m\u001b[1;33m,\u001b[0m \u001b[1;34m\"coef_\"\u001b[0m\u001b[1;33m)\u001b[0m\u001b[1;33m\u001b[0m\u001b[0m\n\u001b[0;32m    238\u001b[0m \u001b[1;33m\u001b[0m\u001b[0m\n\u001b[1;32m--> 239\u001b[1;33m         \u001b[0mX\u001b[0m \u001b[1;33m=\u001b[0m \u001b[0mcheck_array\u001b[0m\u001b[1;33m(\u001b[0m\u001b[0mX\u001b[0m\u001b[1;33m,\u001b[0m \u001b[0maccept_sparse\u001b[0m\u001b[1;33m=\u001b[0m\u001b[1;33m[\u001b[0m\u001b[1;34m'csr'\u001b[0m\u001b[1;33m,\u001b[0m \u001b[1;34m'csc'\u001b[0m\u001b[1;33m,\u001b[0m \u001b[1;34m'coo'\u001b[0m\u001b[1;33m]\u001b[0m\u001b[1;33m)\u001b[0m\u001b[1;33m\u001b[0m\u001b[0m\n\u001b[0m\u001b[0;32m    240\u001b[0m         return safe_sparse_dot(X, self.coef_.T,\n\u001b[0;32m    241\u001b[0m                                dense_output=True) + self.intercept_\n",
      "\u001b[1;32m~\\AppData\\Local\\Continuum\\anaconda3\\lib\\site-packages\\sklearn\\utils\\validation.py\u001b[0m in \u001b[0;36mcheck_array\u001b[1;34m(array, accept_sparse, dtype, order, copy, force_all_finite, ensure_2d, allow_nd, ensure_min_samples, ensure_min_features, warn_on_dtype, estimator)\u001b[0m\n\u001b[0;32m    439\u001b[0m                     \u001b[1;34m\"Reshape your data either using array.reshape(-1, 1) if \"\u001b[0m\u001b[1;33m\u001b[0m\u001b[0m\n\u001b[0;32m    440\u001b[0m                     \u001b[1;34m\"your data has a single feature or array.reshape(1, -1) \"\u001b[0m\u001b[1;33m\u001b[0m\u001b[0m\n\u001b[1;32m--> 441\u001b[1;33m                     \"if it contains a single sample.\".format(array))\n\u001b[0m\u001b[0;32m    442\u001b[0m             \u001b[0marray\u001b[0m \u001b[1;33m=\u001b[0m \u001b[0mnp\u001b[0m\u001b[1;33m.\u001b[0m\u001b[0matleast_2d\u001b[0m\u001b[1;33m(\u001b[0m\u001b[0marray\u001b[0m\u001b[1;33m)\u001b[0m\u001b[1;33m\u001b[0m\u001b[0m\n\u001b[0;32m    443\u001b[0m             \u001b[1;31m# To ensure that array flags are maintained\u001b[0m\u001b[1;33m\u001b[0m\u001b[1;33m\u001b[0m\u001b[0m\n",
      "\u001b[1;31mValueError\u001b[0m: Expected 2D array, got 1D array instead:\narray=[ 0.964025 -0.583286  2.191065 ...  0.067532 -0.19649  -0.795607].\nReshape your data either using array.reshape(-1, 1) if your data has a single feature or array.reshape(1, -1) if it contains a single sample."
     ]
    }
   ],
   "source": [
    "print('Train error =', round(CFM_metrics(pd.DataFrame(data=train_y), pd.DataFrame(regrLinWeighted.predict(output_train[\"end_of_day_return\"].values))), 4), '%')\n",
    "print('Test error  =', round(CFM_metrics(pd.DataFrame(data=test_y), pd.DataFrame(data=regrLinWeighted.predict(test_X))), 4), '%')"
   ]
  },
  {
   "cell_type": "code",
   "execution_count": 27,
   "metadata": {},
   "outputs": [],
   "source": [
    "prediction = regrLinWeighted.predict(data_test_clean)"
   ]
  },
  {
   "cell_type": "code",
   "execution_count": 28,
   "metadata": {},
   "outputs": [],
   "source": [
    "data_test_clean[\"PREDICT\"] = prediction"
   ]
  },
  {
   "cell_type": "code",
   "execution_count": 29,
   "metadata": {},
   "outputs": [],
   "source": [
    "data_test_clean.to_csv('predictions.csv', sep=';', index=False)"
   ]
  },
  {
   "cell_type": "code",
   "execution_count": 30,
   "metadata": {},
   "outputs": [
    {
     "data": {
      "text/plain": [
       "[<matplotlib.lines.Line2D at 0xd215b70>]"
      ]
     },
     "execution_count": 30,
     "metadata": {},
     "output_type": "execute_result"
    },
    {
     "data": {
      "image/png": "[encoded data removed]",
      "text/plain": [
       "<Figure size 432x288 with 1 Axes>"
      ]
     },
     "metadata": {},
     "output_type": "display_data"
    }
   ],
   "source": [
    "plt.plot(prediction)"
   ]
  },
  {
   "cell_type": "code",
   "execution_count": null,
   "metadata": {},
   "outputs": [],
   "source": []
  }
 ],
 "metadata": {
  "kernelspec": {
   "display_name": "Python 3",
   "language": "python",
   "name": "python3"
  },
  "language_info": {
   "codemirror_mode": {
    "name": "ipython",
    "version": 3
   },
   "file_extension": ".py",
   "mimetype": "text/x-python",
   "name": "python",
   "nbconvert_exporter": "python",
   "pygments_lexer": "ipython3",
   "version": "3.6.4"
  }
 },
 "nbformat": 4,
 "nbformat_minor": 2
}
