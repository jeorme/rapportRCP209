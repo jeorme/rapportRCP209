{
 "cells": [
  {
   "cell_type": "markdown",
   "metadata": {},
   "source": [
    "# Projet RCP 209 : prédiction de rendement de stock"
   ]
  },
  {
   "cell_type": "markdown",
   "metadata": {},
   "source": [
    "## Import library"
   ]
  },
  {
   "cell_type": "code",
   "execution_count": 156,
   "metadata": {},
   "outputs": [],
   "source": [
    "import pandas as pd\n",
    "import numpy as np\n",
    "import matplotlib.pyplot as plt\n",
    "from sklearn.svm import LinearSVC\n",
    "from sklearn.linear_model import LinearRegression\n",
    "from sklearn.linear_model import Lasso\n",
    "from sklearn.linear_model import Ridge\n",
    "from sklearn.linear_model import LogisticRegression, LogisticRegressionCV\n",
    "from sklearn.svm import SVC\n",
    "from sklearn.model_selection import train_test_split\n",
    "from keras.layers import Dense, Activation, multiply, Dropout, Flatten\n",
    "from keras.models import Sequential\n",
    "from keras.optimizers import SGD, Adamax\n",
    "from keras.initializers import glorot_uniform, glorot_normal\n",
    "import keras.backend as K\n",
    "from keras.utils import np_utils\n",
    "from sklearn.preprocessing import MinMaxScaler, robust_scale, StandardScaler,minmax_scale, RobustScaler\n",
    "from statsmodels.graphics.gofplots import qqplot\n",
    "from matplotlib import pyplot\n",
    "from statsmodels.tsa.stattools import acf\n",
    "from statsmodels.graphics.tsaplots import plot_acf\n",
    "from sklearn.ensemble import GradientBoostingClassifier\n",
    "from sklearn.tree import DecisionTreeClassifier\n",
    "from sklearn.model_selection import KFold\n",
    "from sklearn.manifold import TSNE"
   ]
  },
  {
   "cell_type": "markdown",
   "metadata": {},
   "source": [
    "# Accuracy function"
   ]
  },
  {
   "cell_type": "code",
   "execution_count": 2,
   "metadata": {},
   "outputs": [],
   "source": [
    "def CFM_metrics(y_true, y_pred):\n",
    "    \"\"\"\n",
    "    Return the metrics used for the CFM Data Challenge 2019.\n",
    "\n",
    "    This metrics is simply the accuracy of the prediction of positive returns\n",
    "    (see below for details), but based on true *returns* (y_true) and\n",
    "    probabilities (of returns being positive).\n",
    "\n",
    "    Args\n",
    "        y_true: Pandas Dataframe\n",
    "            target returns. Positive returns will give True, and negative ones False.\n",
    "\n",
    "        y_pred: Pandas Dataframe\n",
    "            predicted probability of positive returns.\n",
    "\n",
    "    \"\"\"\n",
    "    return ((y_true.values > 0) == (y_pred.values > 0.5)).mean()"
   ]
  },
  {
   "cell_type": "markdown",
   "metadata": {},
   "source": [
    "# Get data"
   ]
  },
  {
   "cell_type": "code",
   "execution_count": 3,
   "metadata": {},
   "outputs": [],
   "source": [
    "data_test = pd.read_csv(\"data_stock\\\\test_input.csv\", sep=',')\n",
    "data_train = pd.read_csv(\"data_stock\\\\training_input.csv\", sep=',')\n",
    "output_train = pd.read_csv(\"data_stock\\\\training_output.csv\", sep=',')"
   ]
  },
  {
   "cell_type": "markdown",
   "metadata": {},
   "source": [
    "# Plot Data and Statistics"
   ]
  },
  {
   "cell_type": "code",
   "execution_count": 4,
   "metadata": {},
   "outputs": [],
   "source": [
    "def plotAndSave(data,title,xlabel,ylabel,fileName):\n",
    "    fig_equity = data.plot(title = title)\n",
    "    fig_equity.set_xlabel(xlabel)\n",
    "    fig_equity.set_ylabel(ylabel)\n",
    "    fig = fig_equity.get_figure()\n",
    "    fig.savefig(fileName)\n",
    "\n",
    "def getStat(data,groupName,dropName,axis=1):\n",
    "    data_mean = data.drop([dropName,\"ID\"],axis=1).groupby([groupName]).mean().mean(axis=axis)\n",
    "    data_median = data.drop([dropName,\"ID\"],axis=1).groupby([groupName]).median().median(axis=axis)\n",
    "    data_std = data.drop([dropName,\"ID\"],axis=1).groupby([groupName]).std().std(axis=axis)\n",
    "    data_skew = data.drop([dropName,\"ID\"],axis=1).groupby([groupName]).skew().std(axis=axis)\n",
    "    return data_mean,data_median,data_std,data_skew\n",
    "\n",
    "def getPreprocess(data,preprocess,minq=.01,maxq=.99):\n",
    "    if preprocess == \"StandardScaler\":\n",
    "        scale =  StandardScaler() \n",
    "    elif preprocess == \"RobustScaler\":\n",
    "        scale =  RobustScaler(quantile_range=(minq,maxq))\n",
    "    elif preprocess == \"MinMaxScaler\":\n",
    "        scale =  MinMaxScaler(feature_range=(-10,10))\n",
    "    elif preprocess == \"minMax\":\n",
    "        return  minmax_scale(data,axis=1,feature_range=(-1,1))\n",
    "    else:\n",
    "        raise NotFoundException()\n",
    "    scale = scale.fit_transform(data)\n",
    "    return scale\n",
    "\n",
    "def scaleData(data,preprocess):\n",
    "    data_scale = getPreprocess(data.iloc[:,3:],preprocess)\n",
    "    dataScale = pd.DataFrame(columns=data.columns)\n",
    "    dataScale[\"ID\"] = data[\"ID\"]\n",
    "    dataScale[\"eqt_code\"] = data[\"eqt_code\"]\n",
    "    dataScale[\"date\"] = data[\"date\"]\n",
    "    dataScale.iloc[:,3:]=data_scale\n",
    "    return dataScale\n",
    "    "
   ]
  },
  {
   "cell_type": "code",
   "execution_count": 5,
   "metadata": {},
   "outputs": [
    {
     "data": {
      "text/plain": [
       "((745327, 74), (319769, 74), (745327, 2))"
      ]
     },
     "execution_count": 5,
     "metadata": {},
     "output_type": "execute_result"
    }
   ],
   "source": [
    "data_train.shape, data_test.shape, output_train.shape"
   ]
  },
  {
   "cell_type": "code",
   "execution_count": 6,
   "metadata": {},
   "outputs": [
    {
     "data": {
      "text/plain": [
       "eqt_code     680\n",
       "date        1511\n",
       "dtype: int64"
      ]
     },
     "execution_count": 6,
     "metadata": {},
     "output_type": "execute_result"
    }
   ],
   "source": [
    "data_train[[\"eqt_code\",\"date\"]].nunique()"
   ]
  },
  {
   "cell_type": "markdown",
   "metadata": {},
   "source": [
    "# Premiere analyse"
   ]
  },
  {
   "cell_type": "code",
   "execution_count": 7,
   "metadata": {},
   "outputs": [
    {
     "name": "stdout",
     "output_type": "stream",
     "text": [
      "nb de données :  52918217  nb données manquantes :  347646 pourcentage données manquentes :  0.6569 %\n"
     ]
    }
   ],
   "source": [
    "nb_donnee = data_train.iloc[:,3:].size\n",
    "nb_nan = data_train.iloc[:,3:].isna().sum().sum()\n",
    "print(\"nb de données : \", nb_donnee, \" nb données manquantes : \", nb_nan, \"pourcentage données manquentes : \",round(nb_nan/nb_donnee * 100,4),\"%\")"
   ]
  },
  {
   "cell_type": "markdown",
   "metadata": {},
   "source": [
    "## Interpolation des valeurs Nan"
   ]
  },
  {
   "cell_type": "code",
   "execution_count": 8,
   "metadata": {},
   "outputs": [],
   "source": [
    "#we linearly interpolate the NaN for the volatility and extrapolate to 0 \n",
    "data_train.iloc[:,3:] = data_train.iloc[:,3:].interpolate(axis=1,method=\"linear\")\n",
    "data_test.iloc[:,3:]  = data_test.iloc[:,3:].interpolate(axis=1,method=\"linear\")\n",
    "#we use a flat extrapolation\n",
    "data_train = data_train.fillna(method='backfill',inplace=False,axis=1)\n",
    "data_test = data_test.fillna(method='backfill',inplace=False,axis=1)"
   ]
  },
  {
   "cell_type": "markdown",
   "metadata": {},
   "source": [
    "# Statitistique"
   ]
  },
  {
   "cell_type": "code",
   "execution_count": 9,
   "metadata": {},
   "outputs": [
    {
     "data": {
      "text/html": [
       "<div>\n",
       "<style scoped>\n",
       "    .dataframe tbody tr th:only-of-type {\n",
       "        vertical-align: middle;\n",
       "    }\n",
       "\n",
       "    .dataframe tbody tr th {\n",
       "        vertical-align: top;\n",
       "    }\n",
       "\n",
       "    .dataframe thead th {\n",
       "        text-align: right;\n",
       "    }\n",
       "</style>\n",
       "<table border=\"1\" class=\"dataframe\">\n",
       "  <thead>\n",
       "    <tr style=\"text-align: right;\">\n",
       "      <th></th>\n",
       "      <th>ID</th>\n",
       "      <th>eqt_code</th>\n",
       "      <th>date</th>\n",
       "      <th>09:30:00</th>\n",
       "      <th>09:35:00</th>\n",
       "      <th>09:40:00</th>\n",
       "      <th>09:45:00</th>\n",
       "      <th>09:50:00</th>\n",
       "      <th>09:55:00</th>\n",
       "      <th>10:00:00</th>\n",
       "      <th>...</th>\n",
       "      <th>14:35:00</th>\n",
       "      <th>14:40:00</th>\n",
       "      <th>14:45:00</th>\n",
       "      <th>14:50:00</th>\n",
       "      <th>14:55:00</th>\n",
       "      <th>15:00:00</th>\n",
       "      <th>15:05:00</th>\n",
       "      <th>15:10:00</th>\n",
       "      <th>15:15:00</th>\n",
       "      <th>15:20:00</th>\n",
       "    </tr>\n",
       "  </thead>\n",
       "  <tbody>\n",
       "    <tr>\n",
       "      <th>count</th>\n",
       "      <td>745327.000000</td>\n",
       "      <td>7.453270e+05</td>\n",
       "      <td>7.453270e+05</td>\n",
       "      <td>745327.000000</td>\n",
       "      <td>745327.000000</td>\n",
       "      <td>745327.000000</td>\n",
       "      <td>745327.000000</td>\n",
       "      <td>745327.000000</td>\n",
       "      <td>745327.000000</td>\n",
       "      <td>745327.000000</td>\n",
       "      <td>...</td>\n",
       "      <td>745327.000000</td>\n",
       "      <td>745327.000000</td>\n",
       "      <td>745327.000000</td>\n",
       "      <td>745327.000000</td>\n",
       "      <td>745327.000000</td>\n",
       "      <td>745327.000000</td>\n",
       "      <td>745327.000000</td>\n",
       "      <td>745327.000000</td>\n",
       "      <td>745327.000000</td>\n",
       "      <td>745327.000000</td>\n",
       "    </tr>\n",
       "    <tr>\n",
       "      <th>mean</th>\n",
       "      <td>372663.000000</td>\n",
       "      <td>2.096091e+09</td>\n",
       "      <td>2.130581e+09</td>\n",
       "      <td>-0.006423</td>\n",
       "      <td>-0.003866</td>\n",
       "      <td>-0.002146</td>\n",
       "      <td>-0.002278</td>\n",
       "      <td>-0.001458</td>\n",
       "      <td>-0.001421</td>\n",
       "      <td>-0.001942</td>\n",
       "      <td>...</td>\n",
       "      <td>-0.000685</td>\n",
       "      <td>-0.000856</td>\n",
       "      <td>-0.000621</td>\n",
       "      <td>-0.000375</td>\n",
       "      <td>-0.000294</td>\n",
       "      <td>-0.000062</td>\n",
       "      <td>-0.000867</td>\n",
       "      <td>0.000147</td>\n",
       "      <td>-0.000150</td>\n",
       "      <td>0.000376</td>\n",
       "    </tr>\n",
       "    <tr>\n",
       "      <th>std</th>\n",
       "      <td>215157.516379</td>\n",
       "      <td>1.253347e+09</td>\n",
       "      <td>1.216688e+09</td>\n",
       "      <td>3.914530</td>\n",
       "      <td>1.753805</td>\n",
       "      <td>1.295107</td>\n",
       "      <td>1.096991</td>\n",
       "      <td>0.980444</td>\n",
       "      <td>0.899452</td>\n",
       "      <td>0.869419</td>\n",
       "      <td>...</td>\n",
       "      <td>0.422537</td>\n",
       "      <td>0.410547</td>\n",
       "      <td>0.481891</td>\n",
       "      <td>0.509721</td>\n",
       "      <td>0.410415</td>\n",
       "      <td>0.415906</td>\n",
       "      <td>0.410821</td>\n",
       "      <td>0.409646</td>\n",
       "      <td>0.396945</td>\n",
       "      <td>0.396569</td>\n",
       "    </tr>\n",
       "    <tr>\n",
       "      <th>min</th>\n",
       "      <td>0.000000</td>\n",
       "      <td>3.667330e+06</td>\n",
       "      <td>1.003920e+05</td>\n",
       "      <td>-153.162990</td>\n",
       "      <td>-95.909324</td>\n",
       "      <td>-71.125139</td>\n",
       "      <td>-71.125139</td>\n",
       "      <td>-45.441346</td>\n",
       "      <td>-45.441346</td>\n",
       "      <td>-45.319171</td>\n",
       "      <td>...</td>\n",
       "      <td>-25.996122</td>\n",
       "      <td>-25.229842</td>\n",
       "      <td>-160.671402</td>\n",
       "      <td>-29.446519</td>\n",
       "      <td>-24.354434</td>\n",
       "      <td>-32.836121</td>\n",
       "      <td>-18.634157</td>\n",
       "      <td>-29.455000</td>\n",
       "      <td>-15.165875</td>\n",
       "      <td>-14.854894</td>\n",
       "    </tr>\n",
       "    <tr>\n",
       "      <th>25%</th>\n",
       "      <td>186331.500000</td>\n",
       "      <td>1.047929e+09</td>\n",
       "      <td>1.068003e+09</td>\n",
       "      <td>-1.299014</td>\n",
       "      <td>-0.812264</td>\n",
       "      <td>-0.656481</td>\n",
       "      <td>-0.578826</td>\n",
       "      <td>-0.520656</td>\n",
       "      <td>-0.489515</td>\n",
       "      <td>-0.484363</td>\n",
       "      <td>...</td>\n",
       "      <td>-0.213621</td>\n",
       "      <td>-0.211321</td>\n",
       "      <td>-0.211621</td>\n",
       "      <td>-0.211275</td>\n",
       "      <td>-0.210513</td>\n",
       "      <td>-0.220301</td>\n",
       "      <td>-0.213789</td>\n",
       "      <td>-0.211885</td>\n",
       "      <td>-0.210288</td>\n",
       "      <td>-0.211898</td>\n",
       "    </tr>\n",
       "    <tr>\n",
       "      <th>50%</th>\n",
       "      <td>372663.000000</td>\n",
       "      <td>2.002627e+09</td>\n",
       "      <td>2.208245e+09</td>\n",
       "      <td>0.004425</td>\n",
       "      <td>-0.005736</td>\n",
       "      <td>-0.003056</td>\n",
       "      <td>-0.004754</td>\n",
       "      <td>-0.002968</td>\n",
       "      <td>-0.005192</td>\n",
       "      <td>-0.006906</td>\n",
       "      <td>...</td>\n",
       "      <td>-0.001826</td>\n",
       "      <td>-0.002033</td>\n",
       "      <td>-0.001922</td>\n",
       "      <td>-0.001460</td>\n",
       "      <td>-0.001420</td>\n",
       "      <td>-0.000556</td>\n",
       "      <td>-0.001506</td>\n",
       "      <td>-0.001827</td>\n",
       "      <td>-0.001685</td>\n",
       "      <td>-0.001509</td>\n",
       "    </tr>\n",
       "    <tr>\n",
       "      <th>75%</th>\n",
       "      <td>558994.500000</td>\n",
       "      <td>3.195928e+09</td>\n",
       "      <td>3.143717e+09</td>\n",
       "      <td>1.307850</td>\n",
       "      <td>0.808518</td>\n",
       "      <td>0.650459</td>\n",
       "      <td>0.572898</td>\n",
       "      <td>0.515069</td>\n",
       "      <td>0.481718</td>\n",
       "      <td>0.475265</td>\n",
       "      <td>...</td>\n",
       "      <td>0.211057</td>\n",
       "      <td>0.210083</td>\n",
       "      <td>0.208638</td>\n",
       "      <td>0.208261</td>\n",
       "      <td>0.207653</td>\n",
       "      <td>0.218896</td>\n",
       "      <td>0.211230</td>\n",
       "      <td>0.209468</td>\n",
       "      <td>0.208600</td>\n",
       "      <td>0.209784</td>\n",
       "    </tr>\n",
       "    <tr>\n",
       "      <th>max</th>\n",
       "      <td>745326.000000</td>\n",
       "      <td>4.283129e+09</td>\n",
       "      <td>4.292409e+09</td>\n",
       "      <td>368.253598</td>\n",
       "      <td>135.032397</td>\n",
       "      <td>179.074335</td>\n",
       "      <td>135.032397</td>\n",
       "      <td>135.032397</td>\n",
       "      <td>22.164233</td>\n",
       "      <td>25.722954</td>\n",
       "      <td>...</td>\n",
       "      <td>100.111341</td>\n",
       "      <td>21.330212</td>\n",
       "      <td>39.419252</td>\n",
       "      <td>210.439179</td>\n",
       "      <td>49.129508</td>\n",
       "      <td>19.798548</td>\n",
       "      <td>23.236568</td>\n",
       "      <td>33.187879</td>\n",
       "      <td>28.411473</td>\n",
       "      <td>24.544605</td>\n",
       "    </tr>\n",
       "  </tbody>\n",
       "</table>\n",
       "<p>8 rows × 74 columns</p>\n",
       "</div>"
      ],
      "text/plain": [
       "                  ID      eqt_code          date       09:30:00  \\\n",
       "count  745327.000000  7.453270e+05  7.453270e+05  745327.000000   \n",
       "mean   372663.000000  2.096091e+09  2.130581e+09      -0.006423   \n",
       "std    215157.516379  1.253347e+09  1.216688e+09       3.914530   \n",
       "min         0.000000  3.667330e+06  1.003920e+05    -153.162990   \n",
       "25%    186331.500000  1.047929e+09  1.068003e+09      -1.299014   \n",
       "50%    372663.000000  2.002627e+09  2.208245e+09       0.004425   \n",
       "75%    558994.500000  3.195928e+09  3.143717e+09       1.307850   \n",
       "max    745326.000000  4.283129e+09  4.292409e+09     368.253598   \n",
       "\n",
       "            09:35:00       09:40:00       09:45:00       09:50:00  \\\n",
       "count  745327.000000  745327.000000  745327.000000  745327.000000   \n",
       "mean       -0.003866      -0.002146      -0.002278      -0.001458   \n",
       "std         1.753805       1.295107       1.096991       0.980444   \n",
       "min       -95.909324     -71.125139     -71.125139     -45.441346   \n",
       "25%        -0.812264      -0.656481      -0.578826      -0.520656   \n",
       "50%        -0.005736      -0.003056      -0.004754      -0.002968   \n",
       "75%         0.808518       0.650459       0.572898       0.515069   \n",
       "max       135.032397     179.074335     135.032397     135.032397   \n",
       "\n",
       "            09:55:00       10:00:00  ...       14:35:00       14:40:00  \\\n",
       "count  745327.000000  745327.000000  ...  745327.000000  745327.000000   \n",
       "mean       -0.001421      -0.001942  ...      -0.000685      -0.000856   \n",
       "std         0.899452       0.869419  ...       0.422537       0.410547   \n",
       "min       -45.441346     -45.319171  ...     -25.996122     -25.229842   \n",
       "25%        -0.489515      -0.484363  ...      -0.213621      -0.211321   \n",
       "50%        -0.005192      -0.006906  ...      -0.001826      -0.002033   \n",
       "75%         0.481718       0.475265  ...       0.211057       0.210083   \n",
       "max        22.164233      25.722954  ...     100.111341      21.330212   \n",
       "\n",
       "            14:45:00       14:50:00       14:55:00       15:00:00  \\\n",
       "count  745327.000000  745327.000000  745327.000000  745327.000000   \n",
       "mean       -0.000621      -0.000375      -0.000294      -0.000062   \n",
       "std         0.481891       0.509721       0.410415       0.415906   \n",
       "min      -160.671402     -29.446519     -24.354434     -32.836121   \n",
       "25%        -0.211621      -0.211275      -0.210513      -0.220301   \n",
       "50%        -0.001922      -0.001460      -0.001420      -0.000556   \n",
       "75%         0.208638       0.208261       0.207653       0.218896   \n",
       "max        39.419252     210.439179      49.129508      19.798548   \n",
       "\n",
       "            15:05:00       15:10:00       15:15:00       15:20:00  \n",
       "count  745327.000000  745327.000000  745327.000000  745327.000000  \n",
       "mean       -0.000867       0.000147      -0.000150       0.000376  \n",
       "std         0.410821       0.409646       0.396945       0.396569  \n",
       "min       -18.634157     -29.455000     -15.165875     -14.854894  \n",
       "25%        -0.213789      -0.211885      -0.210288      -0.211898  \n",
       "50%        -0.001506      -0.001827      -0.001685      -0.001509  \n",
       "75%         0.211230       0.209468       0.208600       0.209784  \n",
       "max        23.236568      33.187879      28.411473      24.544605  \n",
       "\n",
       "[8 rows x 74 columns]"
      ]
     },
     "execution_count": 9,
     "metadata": {},
     "output_type": "execute_result"
    }
   ],
   "source": [
    "data_train.describe()"
   ]
  },
  {
   "cell_type": "code",
   "execution_count": 243,
   "metadata": {},
   "outputs": [
    {
     "data": {
      "image/png": "[encoded data removed]",
      "text/plain": [
       "<Figure size 432x288 with 1 Axes>"
      ]
     },
     "metadata": {
      "needs_background": "light"
     },
     "output_type": "display_data"
    }
   ],
   "source": [
    "plot_acf(data_train.iloc[10000,3:])\n",
    "pyplot.savefig(\"acf.png\")"
   ]
  },
  {
   "cell_type": "code",
   "execution_count": 11,
   "metadata": {},
   "outputs": [
    {
     "data": {
      "image/png": "[encoded data removed]",
      "text/plain": [
       "<Figure size 432x288 with 1 Axes>"
      ]
     },
     "metadata": {
      "needs_background": "light"
     },
     "output_type": "display_data"
    }
   ],
   "source": [
    "import matplotlib.pyplot as plt\n",
    "fig = plt.hist( data_train.iloc[:,3:].values.reshape(-1,1),bins=1000)"
   ]
  },
  {
   "cell_type": "code",
   "execution_count": 12,
   "metadata": {},
   "outputs": [
    {
     "data": {
      "image/png": "[encoded data removed]",
      "text/plain": [
       "<Figure size 432x288 with 1 Axes>"
      ]
     },
     "metadata": {
      "needs_background": "light"
     },
     "output_type": "display_data"
    }
   ],
   "source": [
    "fig = plt.hist( output_train.iloc[:,1],bins=1000)"
   ]
  },
  {
   "cell_type": "code",
   "execution_count": 13,
   "metadata": {},
   "outputs": [
    {
     "data": {
      "text/html": [
       "<div>\n",
       "<style scoped>\n",
       "    .dataframe tbody tr th:only-of-type {\n",
       "        vertical-align: middle;\n",
       "    }\n",
       "\n",
       "    .dataframe tbody tr th {\n",
       "        vertical-align: top;\n",
       "    }\n",
       "\n",
       "    .dataframe thead th {\n",
       "        text-align: right;\n",
       "    }\n",
       "</style>\n",
       "<table border=\"1\" class=\"dataframe\">\n",
       "  <thead>\n",
       "    <tr style=\"text-align: right;\">\n",
       "      <th></th>\n",
       "      <th>ID</th>\n",
       "      <th>end_of_day_return</th>\n",
       "    </tr>\n",
       "  </thead>\n",
       "  <tbody>\n",
       "    <tr>\n",
       "      <th>count</th>\n",
       "      <td>745327.000000</td>\n",
       "      <td>745327.000000</td>\n",
       "    </tr>\n",
       "    <tr>\n",
       "      <th>mean</th>\n",
       "      <td>372663.000000</td>\n",
       "      <td>0.000232</td>\n",
       "    </tr>\n",
       "    <tr>\n",
       "      <th>std</th>\n",
       "      <td>215157.516379</td>\n",
       "      <td>0.992946</td>\n",
       "    </tr>\n",
       "    <tr>\n",
       "      <th>min</th>\n",
       "      <td>0.000000</td>\n",
       "      <td>-44.524667</td>\n",
       "    </tr>\n",
       "    <tr>\n",
       "      <th>25%</th>\n",
       "      <td>186331.500000</td>\n",
       "      <td>-0.535876</td>\n",
       "    </tr>\n",
       "    <tr>\n",
       "      <th>50%</th>\n",
       "      <td>372663.000000</td>\n",
       "      <td>-0.005758</td>\n",
       "    </tr>\n",
       "    <tr>\n",
       "      <th>75%</th>\n",
       "      <td>558994.500000</td>\n",
       "      <td>0.528500</td>\n",
       "    </tr>\n",
       "    <tr>\n",
       "      <th>max</th>\n",
       "      <td>745326.000000</td>\n",
       "      <td>80.188626</td>\n",
       "    </tr>\n",
       "  </tbody>\n",
       "</table>\n",
       "</div>"
      ],
      "text/plain": [
       "                  ID  end_of_day_return\n",
       "count  745327.000000      745327.000000\n",
       "mean   372663.000000           0.000232\n",
       "std    215157.516379           0.992946\n",
       "min         0.000000         -44.524667\n",
       "25%    186331.500000          -0.535876\n",
       "50%    372663.000000          -0.005758\n",
       "75%    558994.500000           0.528500\n",
       "max    745326.000000          80.188626"
      ]
     },
     "execution_count": 13,
     "metadata": {},
     "output_type": "execute_result"
    }
   ],
   "source": [
    "output_train.describe()"
   ]
  },
  {
   "cell_type": "code",
   "execution_count": 244,
   "metadata": {},
   "outputs": [
    {
     "data": {
      "image/png": "[encoded data removed]",
      "text/plain": [
       "<Figure size 432x288 with 1 Axes>"
      ]
     },
     "metadata": {
      "needs_background": "light"
     },
     "output_type": "display_data"
    }
   ],
   "source": [
    "qqplot(output_train.iloc[:,1], line='s')\n",
    "pyplot.savefig(\"qqplotReturn.png\")"
   ]
  },
  {
   "cell_type": "code",
   "execution_count": 15,
   "metadata": {},
   "outputs": [
    {
     "data": {
      "image/png": "[encoded data removed]",
      "text/plain": [
       "<Figure size 432x288 with 1 Axes>"
      ]
     },
     "metadata": {
      "needs_background": "light"
     },
     "output_type": "display_data"
    }
   ],
   "source": [
    "scale_output =  RobustScaler(quantile_range=(.01,.99)).fit_transform(output_train[\"end_of_day_return\"].values.reshape(-1,1))\n",
    "fig = plt.hist(scale_output,bins=1000)"
   ]
  },
  {
   "cell_type": "code",
   "execution_count": 16,
   "metadata": {},
   "outputs": [
    {
     "data": {
      "text/html": [
       "<div>\n",
       "<style scoped>\n",
       "    .dataframe tbody tr th:only-of-type {\n",
       "        vertical-align: middle;\n",
       "    }\n",
       "\n",
       "    .dataframe tbody tr th {\n",
       "        vertical-align: top;\n",
       "    }\n",
       "\n",
       "    .dataframe thead th {\n",
       "        text-align: right;\n",
       "    }\n",
       "</style>\n",
       "<table border=\"1\" class=\"dataframe\">\n",
       "  <thead>\n",
       "    <tr style=\"text-align: right;\">\n",
       "      <th></th>\n",
       "      <th>ID</th>\n",
       "      <th>end_of_day_return</th>\n",
       "    </tr>\n",
       "  </thead>\n",
       "  <tbody>\n",
       "    <tr>\n",
       "      <th>count</th>\n",
       "      <td>745327.000000</td>\n",
       "      <td>745327.000000</td>\n",
       "    </tr>\n",
       "    <tr>\n",
       "      <th>mean</th>\n",
       "      <td>372663.000000</td>\n",
       "      <td>0.000951</td>\n",
       "    </tr>\n",
       "    <tr>\n",
       "      <th>std</th>\n",
       "      <td>215157.516379</td>\n",
       "      <td>0.157642</td>\n",
       "    </tr>\n",
       "    <tr>\n",
       "      <th>min</th>\n",
       "      <td>0.000000</td>\n",
       "      <td>-7.067916</td>\n",
       "    </tr>\n",
       "    <tr>\n",
       "      <th>25%</th>\n",
       "      <td>186331.500000</td>\n",
       "      <td>-0.084163</td>\n",
       "    </tr>\n",
       "    <tr>\n",
       "      <th>50%</th>\n",
       "      <td>372663.000000</td>\n",
       "      <td>0.000000</td>\n",
       "    </tr>\n",
       "    <tr>\n",
       "      <th>75%</th>\n",
       "      <td>558994.500000</td>\n",
       "      <td>0.084820</td>\n",
       "    </tr>\n",
       "    <tr>\n",
       "      <th>max</th>\n",
       "      <td>745326.000000</td>\n",
       "      <td>12.731831</td>\n",
       "    </tr>\n",
       "  </tbody>\n",
       "</table>\n",
       "</div>"
      ],
      "text/plain": [
       "                  ID  end_of_day_return\n",
       "count  745327.000000      745327.000000\n",
       "mean   372663.000000           0.000951\n",
       "std    215157.516379           0.157642\n",
       "min         0.000000          -7.067916\n",
       "25%    186331.500000          -0.084163\n",
       "50%    372663.000000           0.000000\n",
       "75%    558994.500000           0.084820\n",
       "max    745326.000000          12.731831"
      ]
     },
     "execution_count": 16,
     "metadata": {},
     "output_type": "execute_result"
    }
   ],
   "source": [
    "scale_train_output = pd.DataFrame()\n",
    "scale_train_output[\"ID\"] = output_train[\"ID\"]\n",
    "scale_train_output[\"end_of_day_return\"] = scale_output\n",
    "scale_train_output.describe()"
   ]
  },
  {
   "cell_type": "code",
   "execution_count": 17,
   "metadata": {},
   "outputs": [
    {
     "data": {
      "image/png": "[encoded data removed]",
      "text/plain": [
       "<Figure size 432x288 with 1 Axes>"
      ]
     },
     "metadata": {
      "needs_background": "light"
     },
     "output_type": "display_data"
    }
   ],
   "source": [
    "qqplot(scale_output,line='s')\n",
    "pyplot.show()"
   ]
  },
  {
   "cell_type": "code",
   "execution_count": 18,
   "metadata": {
    "scrolled": true
   },
   "outputs": [],
   "source": [
    "equity_mean,equity_median,equity_std,equity_skew = getStat(data_train,groupName=\"eqt_code\",dropName=\"date\")"
   ]
  },
  {
   "cell_type": "code",
   "execution_count": 19,
   "metadata": {},
   "outputs": [
    {
     "data": {
      "text/plain": [
       "count    680.000000\n",
       "mean      -0.000862\n",
       "std        0.006353\n",
       "min       -0.095697\n",
       "25%       -0.003250\n",
       "50%       -0.000628\n",
       "75%        0.001468\n",
       "max        0.032099\n",
       "dtype: float64"
      ]
     },
     "execution_count": 19,
     "metadata": {},
     "output_type": "execute_result"
    },
    {
     "data": {
      "image/png": "[encoded data removed]",
      "text/plain": [
       "<Figure size 432x288 with 1 Axes>"
      ]
     },
     "metadata": {
      "needs_background": "light"
     },
     "output_type": "display_data"
    }
   ],
   "source": [
    "plotAndSave(equity_mean,title=\"mean value of the daily equity\",xlabel=\"equity\",ylabel=\"daily mean value\",fileName=\"plotEquityMean.pdf\")\n",
    "equity_mean.describe()"
   ]
  },
  {
   "cell_type": "code",
   "execution_count": 20,
   "metadata": {},
   "outputs": [
    {
     "data": {
      "text/plain": [
       "count    680.000000\n",
       "mean       0.463311\n",
       "std        0.165968\n",
       "min        0.180033\n",
       "25%        0.360350\n",
       "50%        0.436179\n",
       "75%        0.526251\n",
       "max        1.930447\n",
       "dtype: float64"
      ]
     },
     "execution_count": 20,
     "metadata": {},
     "output_type": "execute_result"
    },
    {
     "data": {
      "image/png": "[encoded data removed]",
      "text/plain": [
       "<Figure size 432x288 with 1 Axes>"
      ]
     },
     "metadata": {
      "needs_background": "light"
     },
     "output_type": "display_data"
    }
   ],
   "source": [
    "plotAndSave(equity_std,title=\"standard deviation value of the daily equity\",xlabel=\"equity\",ylabel=\"daily standard dev\",fileName=\"plotEquityStd.pdf\")\n",
    "equity_std.describe()"
   ]
  },
  {
   "cell_type": "code",
   "execution_count": 21,
   "metadata": {},
   "outputs": [
    {
     "data": {
      "text/plain": [
       "count    680.000000\n",
       "mean      -0.002312\n",
       "std        0.003776\n",
       "min       -0.028685\n",
       "25%       -0.003992\n",
       "50%       -0.002157\n",
       "75%       -0.000169\n",
       "max        0.022428\n",
       "dtype: float64"
      ]
     },
     "execution_count": 21,
     "metadata": {},
     "output_type": "execute_result"
    },
    {
     "data": {
      "image/png": "[encoded data removed]",
      "text/plain": [
       "<Figure size 432x288 with 1 Axes>"
      ]
     },
     "metadata": {
      "needs_background": "light"
     },
     "output_type": "display_data"
    }
   ],
   "source": [
    "plotAndSave(equity_median,title=\"median value of the daily equity\",xlabel=\"equity\",ylabel=\"daily median\",fileName=\"plotEquityMedian.pdf\")\n",
    "equity_median.describe()"
   ]
  },
  {
   "cell_type": "code",
   "execution_count": 22,
   "metadata": {
    "scrolled": true
   },
   "outputs": [
    {
     "data": {
      "text/plain": [
       "count    680.000000\n",
       "mean       1.861731\n",
       "std        1.401303\n",
       "min        0.271616\n",
       "25%        0.864189\n",
       "50%        1.449955\n",
       "75%        2.377612\n",
       "max       12.480709\n",
       "dtype: float64"
      ]
     },
     "execution_count": 22,
     "metadata": {},
     "output_type": "execute_result"
    },
    {
     "data": {
      "image/png": "[encoded data removed]",
      "text/plain": [
       "<Figure size 432x288 with 1 Axes>"
      ]
     },
     "metadata": {
      "needs_background": "light"
     },
     "output_type": "display_data"
    }
   ],
   "source": [
    "plotAndSave(equity_skew,title=\"skew of the daily equity\",xlabel=\"equity\",ylabel=\"daily skew\",fileName=\"plotEquitySkew.pdf\")\n",
    "equity_skew.describe()"
   ]
  },
  {
   "cell_type": "code",
   "execution_count": 23,
   "metadata": {},
   "outputs": [],
   "source": [
    "dataScale = scaleData(data_train,\"RobustScaler\")"
   ]
  },
  {
   "cell_type": "code",
   "execution_count": 24,
   "metadata": {},
   "outputs": [
    {
     "data": {
      "image/png": "[encoded data removed]",
      "text/plain": [
       "<Figure size 432x288 with 1 Axes>"
      ]
     },
     "metadata": {
      "needs_background": "light"
     },
     "output_type": "display_data"
    }
   ],
   "source": [
    "tmp = dataScale.iloc[:,3:].values.reshape(-1,1)\n",
    "fig = plt.hist(tmp,bins=1000)"
   ]
  },
  {
   "cell_type": "code",
   "execution_count": 25,
   "metadata": {},
   "outputs": [
    {
     "data": {
      "text/html": [
       "<div>\n",
       "<style scoped>\n",
       "    .dataframe tbody tr th:only-of-type {\n",
       "        vertical-align: middle;\n",
       "    }\n",
       "\n",
       "    .dataframe tbody tr th {\n",
       "        vertical-align: top;\n",
       "    }\n",
       "\n",
       "    .dataframe thead th {\n",
       "        text-align: right;\n",
       "    }\n",
       "</style>\n",
       "<table border=\"1\" class=\"dataframe\">\n",
       "  <thead>\n",
       "    <tr style=\"text-align: right;\">\n",
       "      <th></th>\n",
       "      <th>ID</th>\n",
       "      <th>eqt_code</th>\n",
       "      <th>date</th>\n",
       "      <th>09:30:00</th>\n",
       "      <th>09:35:00</th>\n",
       "      <th>09:40:00</th>\n",
       "      <th>09:45:00</th>\n",
       "      <th>09:50:00</th>\n",
       "      <th>09:55:00</th>\n",
       "      <th>10:00:00</th>\n",
       "      <th>...</th>\n",
       "      <th>14:35:00</th>\n",
       "      <th>14:40:00</th>\n",
       "      <th>14:45:00</th>\n",
       "      <th>14:50:00</th>\n",
       "      <th>14:55:00</th>\n",
       "      <th>15:00:00</th>\n",
       "      <th>15:05:00</th>\n",
       "      <th>15:10:00</th>\n",
       "      <th>15:15:00</th>\n",
       "      <th>15:20:00</th>\n",
       "    </tr>\n",
       "  </thead>\n",
       "  <tbody>\n",
       "    <tr>\n",
       "      <th>count</th>\n",
       "      <td>745327.000000</td>\n",
       "      <td>7.453270e+05</td>\n",
       "      <td>7.453270e+05</td>\n",
       "      <td>745327.000000</td>\n",
       "      <td>745327.000000</td>\n",
       "      <td>745327.000000</td>\n",
       "      <td>745327.000000</td>\n",
       "      <td>745327.000000</td>\n",
       "      <td>745327.000000</td>\n",
       "      <td>745327.000000</td>\n",
       "      <td>...</td>\n",
       "      <td>745327.000000</td>\n",
       "      <td>745327.000000</td>\n",
       "      <td>745327.000000</td>\n",
       "      <td>745327.000000</td>\n",
       "      <td>745327.000000</td>\n",
       "      <td>745327.000000</td>\n",
       "      <td>745327.000000</td>\n",
       "      <td>745327.000000</td>\n",
       "      <td>745327.000000</td>\n",
       "      <td>745327.000000</td>\n",
       "    </tr>\n",
       "    <tr>\n",
       "      <th>mean</th>\n",
       "      <td>372663.000000</td>\n",
       "      <td>2.096091e+09</td>\n",
       "      <td>2.130581e+09</td>\n",
       "      <td>-0.000184</td>\n",
       "      <td>0.000066</td>\n",
       "      <td>0.000046</td>\n",
       "      <td>0.000232</td>\n",
       "      <td>0.000188</td>\n",
       "      <td>0.000594</td>\n",
       "      <td>0.000894</td>\n",
       "      <td>...</td>\n",
       "      <td>0.000391</td>\n",
       "      <td>0.000263</td>\n",
       "      <td>0.000280</td>\n",
       "      <td>0.000204</td>\n",
       "      <td>0.000325</td>\n",
       "      <td>0.000159</td>\n",
       "      <td>0.000162</td>\n",
       "      <td>0.000647</td>\n",
       "      <td>0.000583</td>\n",
       "      <td>0.000711</td>\n",
       "    </tr>\n",
       "    <tr>\n",
       "      <th>std</th>\n",
       "      <td>215157.516379</td>\n",
       "      <td>1.253347e+09</td>\n",
       "      <td>1.216688e+09</td>\n",
       "      <td>0.066306</td>\n",
       "      <td>0.061797</td>\n",
       "      <td>0.065382</td>\n",
       "      <td>0.102709</td>\n",
       "      <td>0.121831</td>\n",
       "      <td>0.141772</td>\n",
       "      <td>0.156663</td>\n",
       "      <td>...</td>\n",
       "      <td>0.144764</td>\n",
       "      <td>0.091737</td>\n",
       "      <td>0.103648</td>\n",
       "      <td>0.095610</td>\n",
       "      <td>0.118398</td>\n",
       "      <td>0.133968</td>\n",
       "      <td>0.104358</td>\n",
       "      <td>0.134166</td>\n",
       "      <td>0.150679</td>\n",
       "      <td>0.149603</td>\n",
       "    </tr>\n",
       "    <tr>\n",
       "      <th>min</th>\n",
       "      <td>0.000000</td>\n",
       "      <td>3.667330e+06</td>\n",
       "      <td>1.003920e+05</td>\n",
       "      <td>-2.594426</td>\n",
       "      <td>-3.379257</td>\n",
       "      <td>-3.590523</td>\n",
       "      <td>-6.658874</td>\n",
       "      <td>-5.646200</td>\n",
       "      <td>-7.161657</td>\n",
       "      <td>-8.164946</td>\n",
       "      <td>...</td>\n",
       "      <td>-8.905830</td>\n",
       "      <td>-5.637155</td>\n",
       "      <td>-34.557901</td>\n",
       "      <td>-5.523097</td>\n",
       "      <td>-7.025453</td>\n",
       "      <td>-10.576710</td>\n",
       "      <td>-4.733144</td>\n",
       "      <td>-9.646408</td>\n",
       "      <td>-5.756274</td>\n",
       "      <td>-5.603336</td>\n",
       "    </tr>\n",
       "    <tr>\n",
       "      <th>25%</th>\n",
       "      <td>186331.500000</td>\n",
       "      <td>1.047929e+09</td>\n",
       "      <td>1.068003e+09</td>\n",
       "      <td>-0.022078</td>\n",
       "      <td>-0.028419</td>\n",
       "      <td>-0.032987</td>\n",
       "      <td>-0.053749</td>\n",
       "      <td>-0.064328</td>\n",
       "      <td>-0.076339</td>\n",
       "      <td>-0.086034</td>\n",
       "      <td>...</td>\n",
       "      <td>-0.072563</td>\n",
       "      <td>-0.046765</td>\n",
       "      <td>-0.045104</td>\n",
       "      <td>-0.039356</td>\n",
       "      <td>-0.060320</td>\n",
       "      <td>-0.070782</td>\n",
       "      <td>-0.053925</td>\n",
       "      <td>-0.068797</td>\n",
       "      <td>-0.079185</td>\n",
       "      <td>-0.079368</td>\n",
       "    </tr>\n",
       "    <tr>\n",
       "      <th>50%</th>\n",
       "      <td>372663.000000</td>\n",
       "      <td>2.002627e+09</td>\n",
       "      <td>2.208245e+09</td>\n",
       "      <td>0.000000</td>\n",
       "      <td>0.000000</td>\n",
       "      <td>0.000000</td>\n",
       "      <td>0.000000</td>\n",
       "      <td>0.000000</td>\n",
       "      <td>0.000000</td>\n",
       "      <td>0.000000</td>\n",
       "      <td>...</td>\n",
       "      <td>0.000000</td>\n",
       "      <td>0.000000</td>\n",
       "      <td>0.000000</td>\n",
       "      <td>0.000000</td>\n",
       "      <td>0.000000</td>\n",
       "      <td>0.000000</td>\n",
       "      <td>0.000000</td>\n",
       "      <td>0.000000</td>\n",
       "      <td>0.000000</td>\n",
       "      <td>0.000000</td>\n",
       "    </tr>\n",
       "    <tr>\n",
       "      <th>75%</th>\n",
       "      <td>558994.500000</td>\n",
       "      <td>3.195928e+09</td>\n",
       "      <td>3.143717e+09</td>\n",
       "      <td>0.022078</td>\n",
       "      <td>0.028691</td>\n",
       "      <td>0.032992</td>\n",
       "      <td>0.054085</td>\n",
       "      <td>0.064372</td>\n",
       "      <td>0.076747</td>\n",
       "      <td>0.086884</td>\n",
       "      <td>...</td>\n",
       "      <td>0.072935</td>\n",
       "      <td>0.047397</td>\n",
       "      <td>0.045289</td>\n",
       "      <td>0.039338</td>\n",
       "      <td>0.060314</td>\n",
       "      <td>0.070688</td>\n",
       "      <td>0.054040</td>\n",
       "      <td>0.069202</td>\n",
       "      <td>0.079823</td>\n",
       "      <td>0.079709</td>\n",
       "    </tr>\n",
       "    <tr>\n",
       "      <th>max</th>\n",
       "      <td>745326.000000</td>\n",
       "      <td>4.283129e+09</td>\n",
       "      <td>4.292409e+09</td>\n",
       "      <td>6.237587</td>\n",
       "      <td>4.758201</td>\n",
       "      <td>9.040534</td>\n",
       "      <td>12.643287</td>\n",
       "      <td>16.779576</td>\n",
       "      <td>3.494350</td>\n",
       "      <td>4.636337</td>\n",
       "      <td>...</td>\n",
       "      <td>34.299482</td>\n",
       "      <td>4.766691</td>\n",
       "      <td>8.478978</td>\n",
       "      <td>39.472975</td>\n",
       "      <td>14.173483</td>\n",
       "      <td>6.377517</td>\n",
       "      <td>5.903032</td>\n",
       "      <td>10.870185</td>\n",
       "      <td>10.785536</td>\n",
       "      <td>9.259850</td>\n",
       "    </tr>\n",
       "  </tbody>\n",
       "</table>\n",
       "<p>8 rows × 74 columns</p>\n",
       "</div>"
      ],
      "text/plain": [
       "                  ID      eqt_code          date       09:30:00  \\\n",
       "count  745327.000000  7.453270e+05  7.453270e+05  745327.000000   \n",
       "mean   372663.000000  2.096091e+09  2.130581e+09      -0.000184   \n",
       "std    215157.516379  1.253347e+09  1.216688e+09       0.066306   \n",
       "min         0.000000  3.667330e+06  1.003920e+05      -2.594426   \n",
       "25%    186331.500000  1.047929e+09  1.068003e+09      -0.022078   \n",
       "50%    372663.000000  2.002627e+09  2.208245e+09       0.000000   \n",
       "75%    558994.500000  3.195928e+09  3.143717e+09       0.022078   \n",
       "max    745326.000000  4.283129e+09  4.292409e+09       6.237587   \n",
       "\n",
       "            09:35:00       09:40:00       09:45:00       09:50:00  \\\n",
       "count  745327.000000  745327.000000  745327.000000  745327.000000   \n",
       "mean        0.000066       0.000046       0.000232       0.000188   \n",
       "std         0.061797       0.065382       0.102709       0.121831   \n",
       "min        -3.379257      -3.590523      -6.658874      -5.646200   \n",
       "25%        -0.028419      -0.032987      -0.053749      -0.064328   \n",
       "50%         0.000000       0.000000       0.000000       0.000000   \n",
       "75%         0.028691       0.032992       0.054085       0.064372   \n",
       "max         4.758201       9.040534      12.643287      16.779576   \n",
       "\n",
       "            09:55:00       10:00:00  ...       14:35:00       14:40:00  \\\n",
       "count  745327.000000  745327.000000  ...  745327.000000  745327.000000   \n",
       "mean        0.000594       0.000894  ...       0.000391       0.000263   \n",
       "std         0.141772       0.156663  ...       0.144764       0.091737   \n",
       "min        -7.161657      -8.164946  ...      -8.905830      -5.637155   \n",
       "25%        -0.076339      -0.086034  ...      -0.072563      -0.046765   \n",
       "50%         0.000000       0.000000  ...       0.000000       0.000000   \n",
       "75%         0.076747       0.086884  ...       0.072935       0.047397   \n",
       "max         3.494350       4.636337  ...      34.299482       4.766691   \n",
       "\n",
       "            14:45:00       14:50:00       14:55:00       15:00:00  \\\n",
       "count  745327.000000  745327.000000  745327.000000  745327.000000   \n",
       "mean        0.000280       0.000204       0.000325       0.000159   \n",
       "std         0.103648       0.095610       0.118398       0.133968   \n",
       "min       -34.557901      -5.523097      -7.025453     -10.576710   \n",
       "25%        -0.045104      -0.039356      -0.060320      -0.070782   \n",
       "50%         0.000000       0.000000       0.000000       0.000000   \n",
       "75%         0.045289       0.039338       0.060314       0.070688   \n",
       "max         8.478978      39.472975      14.173483       6.377517   \n",
       "\n",
       "            15:05:00       15:10:00       15:15:00       15:20:00  \n",
       "count  745327.000000  745327.000000  745327.000000  745327.000000  \n",
       "mean        0.000162       0.000647       0.000583       0.000711  \n",
       "std         0.104358       0.134166       0.150679       0.149603  \n",
       "min        -4.733144      -9.646408      -5.756274      -5.603336  \n",
       "25%        -0.053925      -0.068797      -0.079185      -0.079368  \n",
       "50%         0.000000       0.000000       0.000000       0.000000  \n",
       "75%         0.054040       0.069202       0.079823       0.079709  \n",
       "max         5.903032      10.870185      10.785536       9.259850  \n",
       "\n",
       "[8 rows x 74 columns]"
      ]
     },
     "execution_count": 25,
     "metadata": {},
     "output_type": "execute_result"
    }
   ],
   "source": [
    "dataScale.describe()"
   ]
  },
  {
   "cell_type": "code",
   "execution_count": 67,
   "metadata": {},
   "outputs": [],
   "source": [
    "equity_scale_mean,equity_scale_median,equity_scale_std,equity_scale_skew = getStat(dataScale,groupName=\"eqt_code\",dropName=\"date\")"
   ]
  },
  {
   "cell_type": "code",
   "execution_count": 246,
   "metadata": {},
   "outputs": [
    {
     "data": {
      "text/plain": [
       "count    680.000000\n",
       "mean       0.000394\n",
       "std        0.001240\n",
       "min       -0.018845\n",
       "25%       -0.000029\n",
       "50%        0.000414\n",
       "75%        0.000848\n",
       "max        0.007914\n",
       "dtype: float64"
      ]
     },
     "execution_count": 246,
     "metadata": {},
     "output_type": "execute_result"
    },
    {
     "data": {
      "image/png": "[encoded data removed]",
      "text/plain": [
       "<Figure size 432x288 with 1 Axes>"
      ]
     },
     "metadata": {
      "needs_background": "light"
     },
     "output_type": "display_data"
    }
   ],
   "source": [
    "plotAndSave(equity_scale_mean,title=\"mean value of the daily scaled equity\",xlabel=\"equity\",ylabel=\"daily mean value\",fileName=\"plotEquityScaleMean.png\")\n",
    "equity_scale_mean.describe()"
   ]
  },
  {
   "cell_type": "code",
   "execution_count": 247,
   "metadata": {},
   "outputs": [
    {
     "data": {
      "text/plain": [
       "count    680.000000\n",
       "mean       0.032972\n",
       "std        0.017569\n",
       "min        0.020032\n",
       "25%        0.027010\n",
       "50%        0.029799\n",
       "75%        0.033598\n",
       "max        0.285208\n",
       "dtype: float64"
      ]
     },
     "execution_count": 247,
     "metadata": {},
     "output_type": "execute_result"
    },
    {
     "data": {
      "image/png": "[encoded data removed]",
      "text/plain": [
       "<Figure size 432x288 with 1 Axes>"
      ]
     },
     "metadata": {
      "needs_background": "light"
     },
     "output_type": "display_data"
    }
   ],
   "source": [
    "plotAndSave(equity_scale_std,title=\"standard deviation of the daily equity\",xlabel=\"equity\",ylabel=\"daily standard deviation\",fileName=\"plotEquityScaleStd.png\")\n",
    "equity_scale_std.describe()"
   ]
  },
  {
   "cell_type": "code",
   "execution_count": 70,
   "metadata": {},
   "outputs": [
    {
     "data": {
      "text/plain": [
       "count    6.800000e+02\n",
       "mean    -5.840450e-05\n",
       "std      9.270646e-04\n",
       "min     -6.775678e-03\n",
       "25%     -5.021252e-04\n",
       "50%      6.988971e-07\n",
       "75%      4.378703e-04\n",
       "max      5.686465e-03\n",
       "dtype: float64"
      ]
     },
     "execution_count": 70,
     "metadata": {},
     "output_type": "execute_result"
    },
    {
     "data": {
      "image/png": "[encoded data removed]",
      "text/plain": [
       "<Figure size 432x288 with 1 Axes>"
      ]
     },
     "metadata": {
      "needs_background": "light"
     },
     "output_type": "display_data"
    }
   ],
   "source": [
    "plotAndSave(equity_scale_median,title=\"median of the daily equity\",xlabel=\"equity\",ylabel=\"daily median\",fileName=\"plotEquityScaleMedian.pdf\")\n",
    "equity_scale_median.describe()"
   ]
  },
  {
   "cell_type": "code",
   "execution_count": 248,
   "metadata": {},
   "outputs": [
    {
     "data": {
      "text/plain": [
       "count    680.000000\n",
       "mean       1.861731\n",
       "std        1.401303\n",
       "min        0.271616\n",
       "25%        0.864189\n",
       "50%        1.449955\n",
       "75%        2.377612\n",
       "max       12.480709\n",
       "dtype: float64"
      ]
     },
     "execution_count": 248,
     "metadata": {},
     "output_type": "execute_result"
    },
    {
     "data": {
      "image/png": "[encoded data removed]",
      "text/plain": [
       "<Figure size 432x288 with 1 Axes>"
      ]
     },
     "metadata": {
      "needs_background": "light"
     },
     "output_type": "display_data"
    }
   ],
   "source": [
    "plotAndSave(equity_scale_skew,title=\"skew of the daily equity\",xlabel=\"equity\",ylabel=\"daily skew\",fileName=\"plotEquityScaleSkew.png\")\n",
    "equity_scale_skew.describe()"
   ]
  },
  {
   "cell_type": "code",
   "execution_count": 72,
   "metadata": {},
   "outputs": [
    {
     "data": {
      "text/html": [
       "<div>\n",
       "<style scoped>\n",
       "    .dataframe tbody tr th:only-of-type {\n",
       "        vertical-align: middle;\n",
       "    }\n",
       "\n",
       "    .dataframe tbody tr th {\n",
       "        vertical-align: top;\n",
       "    }\n",
       "\n",
       "    .dataframe thead th {\n",
       "        text-align: right;\n",
       "    }\n",
       "</style>\n",
       "<table border=\"1\" class=\"dataframe\">\n",
       "  <thead>\n",
       "    <tr style=\"text-align: right;\">\n",
       "      <th></th>\n",
       "      <th>equity mean</th>\n",
       "      <th>equity median</th>\n",
       "      <th>equity std</th>\n",
       "      <th>equity skew</th>\n",
       "    </tr>\n",
       "  </thead>\n",
       "  <tbody>\n",
       "    <tr>\n",
       "      <th>count</th>\n",
       "      <td>680.000000</td>\n",
       "      <td>6.800000e+02</td>\n",
       "      <td>680.000000</td>\n",
       "      <td>680.000000</td>\n",
       "    </tr>\n",
       "    <tr>\n",
       "      <th>mean</th>\n",
       "      <td>0.000394</td>\n",
       "      <td>-5.840450e-05</td>\n",
       "      <td>0.032972</td>\n",
       "      <td>1.861731</td>\n",
       "    </tr>\n",
       "    <tr>\n",
       "      <th>std</th>\n",
       "      <td>0.001240</td>\n",
       "      <td>9.270646e-04</td>\n",
       "      <td>0.017569</td>\n",
       "      <td>1.401303</td>\n",
       "    </tr>\n",
       "    <tr>\n",
       "      <th>min</th>\n",
       "      <td>-0.018845</td>\n",
       "      <td>-6.775678e-03</td>\n",
       "      <td>0.020032</td>\n",
       "      <td>0.271616</td>\n",
       "    </tr>\n",
       "    <tr>\n",
       "      <th>25%</th>\n",
       "      <td>-0.000029</td>\n",
       "      <td>-5.021252e-04</td>\n",
       "      <td>0.027010</td>\n",
       "      <td>0.864189</td>\n",
       "    </tr>\n",
       "    <tr>\n",
       "      <th>50%</th>\n",
       "      <td>0.000414</td>\n",
       "      <td>6.988971e-07</td>\n",
       "      <td>0.029799</td>\n",
       "      <td>1.449955</td>\n",
       "    </tr>\n",
       "    <tr>\n",
       "      <th>75%</th>\n",
       "      <td>0.000848</td>\n",
       "      <td>4.378703e-04</td>\n",
       "      <td>0.033598</td>\n",
       "      <td>2.377612</td>\n",
       "    </tr>\n",
       "    <tr>\n",
       "      <th>max</th>\n",
       "      <td>0.007914</td>\n",
       "      <td>5.686465e-03</td>\n",
       "      <td>0.285208</td>\n",
       "      <td>12.480709</td>\n",
       "    </tr>\n",
       "  </tbody>\n",
       "</table>\n",
       "</div>"
      ],
      "text/plain": [
       "       equity mean  equity median  equity std  equity skew\n",
       "count   680.000000   6.800000e+02  680.000000   680.000000\n",
       "mean      0.000394  -5.840450e-05    0.032972     1.861731\n",
       "std       0.001240   9.270646e-04    0.017569     1.401303\n",
       "min      -0.018845  -6.775678e-03    0.020032     0.271616\n",
       "25%      -0.000029  -5.021252e-04    0.027010     0.864189\n",
       "50%       0.000414   6.988971e-07    0.029799     1.449955\n",
       "75%       0.000848   4.378703e-04    0.033598     2.377612\n",
       "max       0.007914   5.686465e-03    0.285208    12.480709"
      ]
     },
     "execution_count": 72,
     "metadata": {},
     "output_type": "execute_result"
    }
   ],
   "source": [
    "stat = pd.DataFrame()\n",
    "stat[\"equity mean\"] = equity_scale_mean.describe()\n",
    "stat[\"equity median\"] = equity_scale_median.describe()\n",
    "stat[\"equity std\"] = equity_scale_std.describe()\n",
    "stat[\"equity skew\"] = equity_scale_skew.describe()\n",
    "stat"
   ]
  },
  {
   "cell_type": "code",
   "execution_count": 32,
   "metadata": {},
   "outputs": [],
   "source": [
    "equity_date_mean,equity_date_median,equity_date_std,equity_date_skew = getStat(data_train,groupName=\"date\",dropName=\"eqt_code\",axis=0)"
   ]
  },
  {
   "cell_type": "code",
   "execution_count": 33,
   "metadata": {},
   "outputs": [
    {
     "data": {
      "text/plain": [
       "count    680.000000\n",
       "mean      -0.000862\n",
       "std        0.006353\n",
       "min       -0.095697\n",
       "25%       -0.003250\n",
       "50%       -0.000628\n",
       "75%        0.001468\n",
       "max        0.032099\n",
       "dtype: float64"
      ]
     },
     "execution_count": 33,
     "metadata": {},
     "output_type": "execute_result"
    },
    {
     "data": {
      "image/png": "[encoded data removed]",
      "text/plain": [
       "<Figure size 432x288 with 1 Axes>"
      ]
     },
     "metadata": {
      "needs_background": "light"
     },
     "output_type": "display_data"
    }
   ],
   "source": [
    "plotAndSave(equity_date_mean,title=\"mean value of the intraday equity\",xlabel=\"hour\",ylabel=\"daily mean value\",fileName=\"plotIntradayMean.pdf\")\n",
    "equity_scale_mean.describe()"
   ]
  },
  {
   "cell_type": "code",
   "execution_count": 34,
   "metadata": {},
   "outputs": [
    {
     "data": {
      "text/plain": [
       "count    680.000000\n",
       "mean      -0.000862\n",
       "std        0.006353\n",
       "min       -0.095697\n",
       "25%       -0.003250\n",
       "50%       -0.000628\n",
       "75%        0.001468\n",
       "max        0.032099\n",
       "dtype: float64"
      ]
     },
     "execution_count": 34,
     "metadata": {},
     "output_type": "execute_result"
    },
    {
     "data": {
      "image/png": "[encoded data removed]",
      "text/plain": [
       "<Figure size 432x288 with 1 Axes>"
      ]
     },
     "metadata": {
      "needs_background": "light"
     },
     "output_type": "display_data"
    }
   ],
   "source": [
    "plotAndSave(equity_date_median,title=\"median value of the intraday equity\",xlabel=\"hour\",ylabel=\"daily median value\",fileName=\"plotIntradayMedian.pdf\")\n",
    "equity_scale_mean.describe()"
   ]
  },
  {
   "cell_type": "code",
   "execution_count": 35,
   "metadata": {},
   "outputs": [
    {
     "data": {
      "text/plain": [
       "count    680.000000\n",
       "mean      -0.000862\n",
       "std        0.006353\n",
       "min       -0.095697\n",
       "25%       -0.003250\n",
       "50%       -0.000628\n",
       "75%        0.001468\n",
       "max        0.032099\n",
       "dtype: float64"
      ]
     },
     "execution_count": 35,
     "metadata": {},
     "output_type": "execute_result"
    },
    {
     "data": {
      "image/png": "[encoded data removed]",
      "text/plain": [
       "<Figure size 432x288 with 1 Axes>"
      ]
     },
     "metadata": {
      "needs_background": "light"
     },
     "output_type": "display_data"
    }
   ],
   "source": [
    "plotAndSave(equity_date_std,title=\"standard deviation of the intraday equity\",xlabel=\"hour\",ylabel=\"standard deviation value\",fileName=\"plotIntradayStd.pdf\")\n",
    "equity_scale_mean.describe()"
   ]
  },
  {
   "cell_type": "code",
   "execution_count": 36,
   "metadata": {},
   "outputs": [],
   "source": [
    "equity_scale_date_mean,equity_scale_date_median,equity_scale_date_std,equity_scale_date_skew = getStat(dataScale,groupName=\"date\",dropName=\"eqt_code\",axis=0)"
   ]
  },
  {
   "cell_type": "code",
   "execution_count": 249,
   "metadata": {},
   "outputs": [
    {
     "data": {
      "text/plain": [
       "count    71.000000\n",
       "mean      0.000394\n",
       "std       0.000265\n",
       "min      -0.000186\n",
       "25%       0.000187\n",
       "50%       0.000366\n",
       "75%       0.000602\n",
       "max       0.000994\n",
       "dtype: float64"
      ]
     },
     "execution_count": 249,
     "metadata": {},
     "output_type": "execute_result"
    },
    {
     "data": {
      "image/png": "[encoded data removed]",
      "text/plain": [
       "<Figure size 432x288 with 1 Axes>"
      ]
     },
     "metadata": {
      "needs_background": "light"
     },
     "output_type": "display_data"
    }
   ],
   "source": [
    "plotAndSave(equity_scale_date_mean,title=\"mean value of the intraday scaled equity\",xlabel=\"hour\",ylabel=\"daily mean value\",fileName=\"plotIntradayScaleMean.png\")\n",
    "equity_scale_date_mean.describe()"
   ]
  },
  {
   "cell_type": "code",
   "execution_count": 55,
   "metadata": {},
   "outputs": [
    {
     "data": {
      "text/plain": [
       "count    71.000000\n",
       "mean     -0.000011\n",
       "std       0.000093\n",
       "min      -0.000216\n",
       "25%      -0.000077\n",
       "50%      -0.000022\n",
       "75%       0.000047\n",
       "max       0.000229\n",
       "dtype: float64"
      ]
     },
     "execution_count": 55,
     "metadata": {},
     "output_type": "execute_result"
    },
    {
     "data": {
      "image/png": "[encoded data removed]",
      "text/plain": [
       "<Figure size 432x288 with 1 Axes>"
      ]
     },
     "metadata": {
      "needs_background": "light"
     },
     "output_type": "display_data"
    }
   ],
   "source": [
    "plotAndSave(equity_scale_date_median,title=\"median value of the intraday scaled equity\",xlabel=\"hour\",ylabel=\"daily median value\",fileName=\"plotIntradayScaleMedian.pdf\")\n",
    "equity_scale_date_median.describe()"
   ]
  },
  {
   "cell_type": "code",
   "execution_count": 250,
   "metadata": {},
   "outputs": [
    {
     "data": {
      "text/plain": [
       "count    71.000000\n",
       "mean      0.037428\n",
       "std       0.009753\n",
       "min       0.025223\n",
       "25%       0.031301\n",
       "50%       0.035450\n",
       "75%       0.041279\n",
       "max       0.075983\n",
       "dtype: float64"
      ]
     },
     "execution_count": 250,
     "metadata": {},
     "output_type": "execute_result"
    },
    {
     "data": {
      "image/png": "[encoded data removed]",
      "text/plain": [
       "<Figure size 432x288 with 1 Axes>"
      ]
     },
     "metadata": {
      "needs_background": "light"
     },
     "output_type": "display_data"
    }
   ],
   "source": [
    "plotAndSave(equity_scale_date_std,title=\"standard deviation of the intraday scaled equity\",xlabel=\"hour\",ylabel=\"daily standard deviation\",fileName=\"plotIntradayScaleStd.png\")\n",
    "equity_scale_date_std.describe()"
   ]
  },
  {
   "cell_type": "code",
   "execution_count": 251,
   "metadata": {},
   "outputs": [
    {
     "data": {
      "text/plain": [
       "count    71.000000\n",
       "mean      1.367154\n",
       "std       0.419735\n",
       "min       0.816181\n",
       "25%       1.135426\n",
       "50%       1.329093\n",
       "75%       1.506436\n",
       "max       4.165111\n",
       "dtype: float64"
      ]
     },
     "execution_count": 251,
     "metadata": {},
     "output_type": "execute_result"
    },
    {
     "data": {
      "image/png": "[encoded data removed]",
      "text/plain": [
       "<Figure size 432x288 with 1 Axes>"
      ]
     },
     "metadata": {
      "needs_background": "light"
     },
     "output_type": "display_data"
    }
   ],
   "source": [
    "plotAndSave(equity_scale_date_skew,title=\"skew of the intraday scaled equity\",xlabel=\"hour\",ylabel=\"daily skew\",fileName=\"plotIntradayScaleSkew.png\")\n",
    "equity_scale_date_skew.describe()"
   ]
  },
  {
   "cell_type": "code",
   "execution_count": 73,
   "metadata": {},
   "outputs": [
    {
     "data": {
      "text/html": [
       "<div>\n",
       "<style scoped>\n",
       "    .dataframe tbody tr th:only-of-type {\n",
       "        vertical-align: middle;\n",
       "    }\n",
       "\n",
       "    .dataframe tbody tr th {\n",
       "        vertical-align: top;\n",
       "    }\n",
       "\n",
       "    .dataframe thead th {\n",
       "        text-align: right;\n",
       "    }\n",
       "</style>\n",
       "<table border=\"1\" class=\"dataframe\">\n",
       "  <thead>\n",
       "    <tr style=\"text-align: right;\">\n",
       "      <th></th>\n",
       "      <th>equity mean</th>\n",
       "      <th>equity median</th>\n",
       "      <th>equity std</th>\n",
       "      <th>equity skew</th>\n",
       "    </tr>\n",
       "  </thead>\n",
       "  <tbody>\n",
       "    <tr>\n",
       "      <th>count</th>\n",
       "      <td>71.000000</td>\n",
       "      <td>71.000000</td>\n",
       "      <td>71.000000</td>\n",
       "      <td>71.000000</td>\n",
       "    </tr>\n",
       "    <tr>\n",
       "      <th>mean</th>\n",
       "      <td>0.000394</td>\n",
       "      <td>-0.000011</td>\n",
       "      <td>0.037428</td>\n",
       "      <td>1.367154</td>\n",
       "    </tr>\n",
       "    <tr>\n",
       "      <th>std</th>\n",
       "      <td>0.000265</td>\n",
       "      <td>0.000093</td>\n",
       "      <td>0.009753</td>\n",
       "      <td>0.419735</td>\n",
       "    </tr>\n",
       "    <tr>\n",
       "      <th>min</th>\n",
       "      <td>-0.000186</td>\n",
       "      <td>-0.000216</td>\n",
       "      <td>0.025223</td>\n",
       "      <td>0.816181</td>\n",
       "    </tr>\n",
       "    <tr>\n",
       "      <th>25%</th>\n",
       "      <td>0.000187</td>\n",
       "      <td>-0.000077</td>\n",
       "      <td>0.031301</td>\n",
       "      <td>1.135426</td>\n",
       "    </tr>\n",
       "    <tr>\n",
       "      <th>50%</th>\n",
       "      <td>0.000366</td>\n",
       "      <td>-0.000022</td>\n",
       "      <td>0.035450</td>\n",
       "      <td>1.329093</td>\n",
       "    </tr>\n",
       "    <tr>\n",
       "      <th>75%</th>\n",
       "      <td>0.000602</td>\n",
       "      <td>0.000047</td>\n",
       "      <td>0.041279</td>\n",
       "      <td>1.506436</td>\n",
       "    </tr>\n",
       "    <tr>\n",
       "      <th>max</th>\n",
       "      <td>0.000994</td>\n",
       "      <td>0.000229</td>\n",
       "      <td>0.075983</td>\n",
       "      <td>4.165111</td>\n",
       "    </tr>\n",
       "  </tbody>\n",
       "</table>\n",
       "</div>"
      ],
      "text/plain": [
       "       equity mean  equity median  equity std  equity skew\n",
       "count    71.000000      71.000000   71.000000    71.000000\n",
       "mean      0.000394      -0.000011    0.037428     1.367154\n",
       "std       0.000265       0.000093    0.009753     0.419735\n",
       "min      -0.000186      -0.000216    0.025223     0.816181\n",
       "25%       0.000187      -0.000077    0.031301     1.135426\n",
       "50%       0.000366      -0.000022    0.035450     1.329093\n",
       "75%       0.000602       0.000047    0.041279     1.506436\n",
       "max       0.000994       0.000229    0.075983     4.165111"
      ]
     },
     "execution_count": 73,
     "metadata": {},
     "output_type": "execute_result"
    }
   ],
   "source": [
    "stat = pd.DataFrame()\n",
    "stat[\"equity mean\"] = equity_scale_date_mean.describe()\n",
    "stat[\"equity median\"] = equity_scale_date_median.describe()\n",
    "stat[\"equity std\"] = equity_scale_date_std.describe()\n",
    "stat[\"equity skew\"] = equity_scale_date_skew.describe()\n",
    "stat"
   ]
  },
  {
   "cell_type": "markdown",
   "metadata": {},
   "source": [
    "# Scatter plot"
   ]
  },
  {
   "cell_type": "code",
   "execution_count": 260,
   "metadata": {},
   "outputs": [
    {
     "data": {
      "image/png": "[encoded data removed]",
      "text/plain": [
       "<Figure size 432x288 with 1 Axes>"
      ]
     },
     "metadata": {
      "needs_background": "light"
     },
     "output_type": "display_data"
    }
   ],
   "source": [
    "x = data_train.iloc[:,3:].std(axis=1)\n",
    "y = output_train[\"end_of_day_return\"].values\n",
    "plt.scatter(x,y)\n",
    "plt.savefig(\"meanScatter.png\")"
   ]
  },
  {
   "cell_type": "code",
   "execution_count": 259,
   "metadata": {},
   "outputs": [
    {
     "data": {
      "image/png": "[encoded data removed]",
      "text/plain": [
       "<Figure size 432x288 with 1 Axes>"
      ]
     },
     "metadata": {
      "needs_background": "light"
     },
     "output_type": "display_data"
    }
   ],
   "source": [
    "x = dataScale.iloc[:,3:].std(axis=1)\n",
    "y = scale_output\n",
    "plt.scatter(x,y)\n",
    "plt.savefig(\"stdScatter.png\")"
   ]
  },
  {
   "cell_type": "markdown",
   "metadata": {},
   "source": [
    "# statistique data"
   ]
  },
  {
   "cell_type": "code",
   "execution_count": 43,
   "metadata": {},
   "outputs": [
    {
     "data": {
      "text/html": [
       "<div>\n",
       "<style scoped>\n",
       "    .dataframe tbody tr th:only-of-type {\n",
       "        vertical-align: middle;\n",
       "    }\n",
       "\n",
       "    .dataframe tbody tr th {\n",
       "        vertical-align: top;\n",
       "    }\n",
       "\n",
       "    .dataframe thead th {\n",
       "        text-align: right;\n",
       "    }\n",
       "</style>\n",
       "<table border=\"1\" class=\"dataframe\">\n",
       "  <thead>\n",
       "    <tr style=\"text-align: right;\">\n",
       "      <th></th>\n",
       "      <th>intraday mean</th>\n",
       "      <th>intraday median</th>\n",
       "      <th>intraday std</th>\n",
       "      <th>intraday skew</th>\n",
       "      <th>intraday scaled mean</th>\n",
       "      <th>intraday scaled median</th>\n",
       "      <th>intraday scaled std</th>\n",
       "      <th>intraday scaled skew</th>\n",
       "    </tr>\n",
       "  </thead>\n",
       "  <tbody>\n",
       "    <tr>\n",
       "      <th>count</th>\n",
       "      <td>71.000000</td>\n",
       "      <td>71.000000</td>\n",
       "      <td>71.000000</td>\n",
       "      <td>71.000000</td>\n",
       "      <td>71.000000</td>\n",
       "      <td>71.000000</td>\n",
       "      <td>71.000000</td>\n",
       "      <td>71.000000</td>\n",
       "    </tr>\n",
       "    <tr>\n",
       "      <th>mean</th>\n",
       "      <td>-0.000862</td>\n",
       "      <td>-0.002353</td>\n",
       "      <td>0.181888</td>\n",
       "      <td>1.367154</td>\n",
       "      <td>0.000394</td>\n",
       "      <td>-0.000011</td>\n",
       "      <td>0.037428</td>\n",
       "      <td>1.367154</td>\n",
       "    </tr>\n",
       "    <tr>\n",
       "      <th>std</th>\n",
       "      <td>0.000983</td>\n",
       "      <td>0.001359</td>\n",
       "      <td>0.192651</td>\n",
       "      <td>0.419735</td>\n",
       "      <td>0.000265</td>\n",
       "      <td>0.000093</td>\n",
       "      <td>0.009753</td>\n",
       "      <td>0.419735</td>\n",
       "    </tr>\n",
       "    <tr>\n",
       "      <th>min</th>\n",
       "      <td>-0.006554</td>\n",
       "      <td>-0.007504</td>\n",
       "      <td>0.095225</td>\n",
       "      <td>0.816181</td>\n",
       "      <td>-0.000186</td>\n",
       "      <td>-0.000216</td>\n",
       "      <td>0.025223</td>\n",
       "      <td>0.816181</td>\n",
       "    </tr>\n",
       "    <tr>\n",
       "      <th>25%</th>\n",
       "      <td>-0.001151</td>\n",
       "      <td>-0.002699</td>\n",
       "      <td>0.126713</td>\n",
       "      <td>1.135426</td>\n",
       "      <td>0.000187</td>\n",
       "      <td>-0.000077</td>\n",
       "      <td>0.031301</td>\n",
       "      <td>1.135426</td>\n",
       "    </tr>\n",
       "    <tr>\n",
       "      <th>50%</th>\n",
       "      <td>-0.000796</td>\n",
       "      <td>-0.002025</td>\n",
       "      <td>0.136783</td>\n",
       "      <td>1.329093</td>\n",
       "      <td>0.000366</td>\n",
       "      <td>-0.000022</td>\n",
       "      <td>0.035450</td>\n",
       "      <td>1.329093</td>\n",
       "    </tr>\n",
       "    <tr>\n",
       "      <th>75%</th>\n",
       "      <td>-0.000330</td>\n",
       "      <td>-0.001610</td>\n",
       "      <td>0.154242</td>\n",
       "      <td>1.506436</td>\n",
       "      <td>0.000602</td>\n",
       "      <td>0.000047</td>\n",
       "      <td>0.041279</td>\n",
       "      <td>1.506436</td>\n",
       "    </tr>\n",
       "    <tr>\n",
       "      <th>max</th>\n",
       "      <td>0.000729</td>\n",
       "      <td>-0.000117</td>\n",
       "      <td>1.544553</td>\n",
       "      <td>4.165111</td>\n",
       "      <td>0.000994</td>\n",
       "      <td>0.000229</td>\n",
       "      <td>0.075983</td>\n",
       "      <td>4.165111</td>\n",
       "    </tr>\n",
       "  </tbody>\n",
       "</table>\n",
       "</div>"
      ],
      "text/plain": [
       "       intraday mean  intraday median  intraday std  intraday skew  \\\n",
       "count      71.000000        71.000000     71.000000      71.000000   \n",
       "mean       -0.000862        -0.002353      0.181888       1.367154   \n",
       "std         0.000983         0.001359      0.192651       0.419735   \n",
       "min        -0.006554        -0.007504      0.095225       0.816181   \n",
       "25%        -0.001151        -0.002699      0.126713       1.135426   \n",
       "50%        -0.000796        -0.002025      0.136783       1.329093   \n",
       "75%        -0.000330        -0.001610      0.154242       1.506436   \n",
       "max         0.000729        -0.000117      1.544553       4.165111   \n",
       "\n",
       "       intraday scaled mean  intraday scaled median  intraday scaled std  \\\n",
       "count             71.000000               71.000000            71.000000   \n",
       "mean               0.000394               -0.000011             0.037428   \n",
       "std                0.000265                0.000093             0.009753   \n",
       "min               -0.000186               -0.000216             0.025223   \n",
       "25%                0.000187               -0.000077             0.031301   \n",
       "50%                0.000366               -0.000022             0.035450   \n",
       "75%                0.000602                0.000047             0.041279   \n",
       "max                0.000994                0.000229             0.075983   \n",
       "\n",
       "       intraday scaled skew  \n",
       "count             71.000000  \n",
       "mean               1.367154  \n",
       "std                0.419735  \n",
       "min                0.816181  \n",
       "25%                1.135426  \n",
       "50%                1.329093  \n",
       "75%                1.506436  \n",
       "max                4.165111  "
      ]
     },
     "execution_count": 43,
     "metadata": {},
     "output_type": "execute_result"
    }
   ],
   "source": [
    "stat_intraday = pd.DataFrame()\n",
    "stat_intraday[\"intraday mean\"] = equity_date_mean.describe()\n",
    "stat_intraday[\"intraday median\"] = equity_date_median.describe()\n",
    "stat_intraday[\"intraday std\"] = equity_date_std.describe()\n",
    "stat_intraday[\"intraday skew\"] = equity_date_skew.describe()\n",
    "stat_intraday[\"intraday scaled mean\"] = equity_scale_date_mean.describe()\n",
    "stat_intraday[\"intraday scaled median\"] = equity_scale_date_median.describe()\n",
    "stat_intraday[\"intraday scaled std\"] = equity_scale_date_std.describe()\n",
    "stat_intraday[\"intraday scaled skew\"] = equity_scale_date_skew.describe()\n",
    "\n",
    "stat_intraday"
   ]
  },
  {
   "cell_type": "markdown",
   "metadata": {},
   "source": [
    "# Train Test split"
   ]
  },
  {
   "cell_type": "code",
   "execution_count": 44,
   "metadata": {},
   "outputs": [],
   "source": [
    "#drop not necessary data\n",
    "dataTestScale = scaleData(data_test,\"RobustScaler\")\n",
    "data_train_clean = dataScale.drop(['ID', 'eqt_code', 'date'], axis=1, inplace=False)\n",
    "data_test_clean = dataTestScale.drop(['ID', 'eqt_code', 'date'], axis=1, inplace=False)\n",
    "output_logistic= pd.DataFrame()\n",
    "output_logistic[\"ID\"] = output_train[\"ID\"]\n",
    "output_logistic[\"end_of_day_return\"] = scale_train_output[\"end_of_day_return\"].apply(lambda row : 1 if row > 0 else 0)\n",
    "output_log = output_logistic[\"end_of_day_return\"].values\n",
    "X_train,X_test,y_train,y_test = train_test_split(data_train_clean,output_log,test_size=.3)"
   ]
  },
  {
   "cell_type": "markdown",
   "metadata": {},
   "source": [
    "# Helper"
   ]
  },
  {
   "cell_type": "code",
   "execution_count": 45,
   "metadata": {},
   "outputs": [],
   "source": [
    "def evaluateModel(model,train_set=X_train,test_set=X_test,output_train=y_train,output_test=y_test,checkCFM=False):\n",
    "    print(\"we train\")\n",
    "    model.fit(train_set,output_train)\n",
    "    print(\"compute the score\")\n",
    "    print(\"train score : \",logistic.score(X_train,y_train))\n",
    "    print(\"test score : \",logistic.score(X_test,y_test))\n",
    "    if checkCFM:\n",
    "        print('CFM metric : Train error =', round(CFM_metrics(pd.DataFrame(data=y_pred_proba), pd.DataFrame(data=output_train)), 4), '%')\n",
    "        print('Test error =', round(CFM_metrics(pd.DataFrame(data=y_pred_test_proba), pd.DataFrame(data=output_test)), 4), '%')\n",
    "\n",
    "def computeProba(model,trainSet = data_train_clean,trainOutput=output_log,testSet=data_test_clean):\n",
    "    model.fit(trainSet,trainOutput)\n",
    "    print(\"score on full training set : \",model.score(trainSet,trainOutput))\n",
    "    return model.predict_proba(testSet)\n",
    "\n",
    "\n",
    "def sendPredictionToCfmFormat(prediction, test = data_test, fileName = 'predictions'):\n",
    "    output = pd.DataFrame()\n",
    "    output[\"ID\"] = test[\"ID\"]\n",
    "    output[\"end_of_day_return\"] = prediction\n",
    "    output.to_csv(fileName+'.csv', sep=',', index=False)\n",
    "    print(\"prediction send to\"+fileName+'.csv')\n"
   ]
  },
  {
   "cell_type": "markdown",
   "metadata": {},
   "source": [
    "# Logistic regression"
   ]
  },
  {
   "cell_type": "code",
   "execution_count": 46,
   "metadata": {
    "scrolled": true
   },
   "outputs": [
    {
     "name": "stdout",
     "output_type": "stream",
     "text": [
      "we train\n",
      "compute the score\n",
      "train score :  0.5211240339793916\n",
      "test score :  0.5194745951457743\n",
      "score on full training set :  0.5205741909255938\n"
     ]
    }
   ],
   "source": [
    "logistic = LogisticRegression(solver='sag')\n",
    "evaluateModel(logistic)\n",
    "y_pred_logistic = computeProba(logistic)"
   ]
  },
  {
   "cell_type": "code",
   "execution_count": 47,
   "metadata": {},
   "outputs": [
    {
     "name": "stdout",
     "output_type": "stream",
     "text": [
      "prediction send topredictionLogistic.csv\n"
     ]
    }
   ],
   "source": [
    "sendPredictionToCfmFormat(y_pred_logistic[:,1],fileName='predictionLogistic')"
   ]
  },
  {
   "cell_type": "markdown",
   "metadata": {},
   "source": [
    "# Logistic regression with Cross validation"
   ]
  },
  {
   "cell_type": "code",
   "execution_count": 48,
   "metadata": {},
   "outputs": [
    {
     "name": "stdout",
     "output_type": "stream",
     "text": [
      "we train\n"
     ]
    },
    {
     "name": "stderr",
     "output_type": "stream",
     "text": [
      "[Parallel(n_jobs=1)]: Using backend SequentialBackend with 1 concurrent workers.\n"
     ]
    },
    {
     "name": "stdout",
     "output_type": "stream",
     "text": [
      "convergence after 14 epochs took 6 seconds\n",
      "convergence after 12 epochs took 5 seconds\n",
      "convergence after 20 epochs took 8 seconds\n",
      "convergence after 23 epochs took 9 seconds\n",
      "convergence after 18 epochs took 8 seconds\n",
      "convergence after 11 epochs took 4 seconds\n",
      "convergence after 5 epochs took 2 seconds\n",
      "convergence after 2 epochs took 1 seconds\n",
      "convergence after 2 epochs took 1 seconds\n",
      "convergence after 2 epochs took 1 seconds\n",
      "convergence after 15 epochs took 6 seconds\n",
      "convergence after 13 epochs took 5 seconds\n",
      "convergence after 19 epochs took 8 seconds\n",
      "convergence after 23 epochs took 9 seconds\n",
      "convergence after 18 epochs took 7 seconds\n",
      "convergence after 11 epochs took 4 seconds\n",
      "convergence after 5 epochs took 2 seconds\n",
      "convergence after 2 epochs took 1 seconds\n",
      "convergence after 2 epochs took 1 seconds\n",
      "convergence after 2 epochs took 0 seconds\n",
      "convergence after 15 epochs took 6 seconds\n",
      "convergence after 12 epochs took 4 seconds\n",
      "convergence after 19 epochs took 8 seconds\n",
      "convergence after 23 epochs took 9 seconds\n",
      "convergence after 18 epochs took 7 seconds\n",
      "convergence after 11 epochs took 4 seconds\n",
      "convergence after 5 epochs took 2 seconds\n",
      "convergence after 2 epochs took 1 seconds\n",
      "convergence after 2 epochs took 0 seconds\n",
      "convergence after 2 epochs took 1 seconds\n",
      "convergence after 15 epochs took 6 seconds\n",
      "convergence after 12 epochs took 5 seconds\n",
      "convergence after 20 epochs took 8 seconds\n",
      "convergence after 24 epochs took 9 seconds\n",
      "convergence after 18 epochs took 7 seconds\n",
      "convergence after 11 epochs took 5 seconds\n",
      "convergence after 5 epochs took 2 seconds\n",
      "convergence after 2 epochs took 0 seconds\n",
      "convergence after 2 epochs took 1 seconds\n",
      "convergence after 2 epochs took 1 seconds\n",
      "convergence after 14 epochs took 6 seconds\n",
      "convergence after 13 epochs took 5 seconds\n",
      "convergence after 21 epochs took 8 seconds\n",
      "convergence after 25 epochs took 9 seconds\n",
      "convergence after 19 epochs took 8 seconds\n",
      "convergence after 11 epochs took 4 seconds\n",
      "convergence after 5 epochs took 2 seconds\n",
      "convergence after 2 epochs took 1 seconds\n",
      "convergence after 2 epochs took 1 seconds\n",
      "convergence after 2 epochs took 1 seconds\n"
     ]
    },
    {
     "name": "stderr",
     "output_type": "stream",
     "text": [
      "[Parallel(n_jobs=1)]: Done   5 out of   5 | elapsed:  3.7min finished\n"
     ]
    },
    {
     "name": "stdout",
     "output_type": "stream",
     "text": [
      "compute the score\n",
      "train score :  0.5211240339793916\n",
      "test score :  0.5195103734810979\n"
     ]
    },
    {
     "name": "stderr",
     "output_type": "stream",
     "text": [
      "[Parallel(n_jobs=1)]: Using backend SequentialBackend with 1 concurrent workers.\n"
     ]
    },
    {
     "name": "stdout",
     "output_type": "stream",
     "text": [
      "convergence after 15 epochs took 9 seconds\n",
      "convergence after 12 epochs took 7 seconds\n",
      "convergence after 16 epochs took 9 seconds\n",
      "convergence after 13 epochs took 7 seconds\n",
      "convergence after 11 epochs took 7 seconds\n",
      "convergence after 8 epochs took 4 seconds\n",
      "convergence after 3 epochs took 2 seconds\n",
      "convergence after 2 epochs took 1 seconds\n",
      "convergence after 2 epochs took 1 seconds\n",
      "convergence after 2 epochs took 1 seconds\n",
      "convergence after 15 epochs took 8 seconds\n",
      "convergence after 12 epochs took 7 seconds\n",
      "convergence after 16 epochs took 9 seconds\n",
      "convergence after 13 epochs took 8 seconds\n",
      "convergence after 11 epochs took 6 seconds\n",
      "convergence after 7 epochs took 4 seconds\n",
      "convergence after 3 epochs took 2 seconds\n",
      "convergence after 2 epochs took 1 seconds\n",
      "convergence after 2 epochs took 1 seconds\n",
      "convergence after 2 epochs took 1 seconds\n",
      "convergence after 14 epochs took 8 seconds\n",
      "convergence after 13 epochs took 7 seconds\n",
      "convergence after 17 epochs took 10 seconds\n",
      "convergence after 13 epochs took 7 seconds\n",
      "convergence after 11 epochs took 6 seconds\n",
      "convergence after 8 epochs took 5 seconds\n",
      "convergence after 3 epochs took 1 seconds\n",
      "convergence after 2 epochs took 1 seconds\n",
      "convergence after 2 epochs took 2 seconds\n",
      "convergence after 2 epochs took 1 seconds\n",
      "convergence after 13 epochs took 8 seconds\n",
      "convergence after 12 epochs took 6 seconds\n",
      "convergence after 18 epochs took 11 seconds\n",
      "convergence after 13 epochs took 7 seconds\n",
      "convergence after 11 epochs took 6 seconds\n",
      "convergence after 8 epochs took 5 seconds\n",
      "convergence after 3 epochs took 1 seconds\n",
      "convergence after 2 epochs took 2 seconds\n",
      "convergence after 2 epochs took 1 seconds\n",
      "convergence after 2 epochs took 1 seconds\n",
      "convergence after 15 epochs took 9 seconds\n",
      "convergence after 13 epochs took 7 seconds\n",
      "convergence after 16 epochs took 9 seconds\n",
      "convergence after 13 epochs took 7 seconds\n",
      "convergence after 11 epochs took 7 seconds\n",
      "convergence after 8 epochs took 4 seconds\n",
      "convergence after 3 epochs took 2 seconds\n",
      "convergence after 2 epochs took 1 seconds\n",
      "convergence after 2 epochs took 1 seconds\n",
      "convergence after 2 epochs took 1 seconds\n"
     ]
    },
    {
     "name": "stderr",
     "output_type": "stream",
     "text": [
      "[Parallel(n_jobs=1)]: Done   5 out of   5 | elapsed:  4.0min finished\n"
     ]
    },
    {
     "name": "stdout",
     "output_type": "stream",
     "text": [
      "score on full training set :  0.5205795576974939\n"
     ]
    }
   ],
   "source": [
    "logistic = LogisticRegressionCV(solver='sag',Cs=10,cv=5,verbose=1)\n",
    "evaluateModel(logistic)\n",
    "y_pred_logisticCs = computeProba(logistic)"
   ]
  },
  {
   "cell_type": "code",
   "execution_count": 49,
   "metadata": {},
   "outputs": [
    {
     "data": {
      "text/plain": [
       "0.5149189550358433"
      ]
     },
     "execution_count": 49,
     "metadata": {},
     "output_type": "execute_result"
    }
   ],
   "source": [
    "logistic.score(data_train[data_train.columns[3:]],output_log)"
   ]
  },
  {
   "cell_type": "code",
   "execution_count": 50,
   "metadata": {},
   "outputs": [
    {
     "name": "stdout",
     "output_type": "stream",
     "text": [
      "[21.5443469]\n",
      "prediction send topredictionLogisticCV.csv\n"
     ]
    }
   ],
   "source": [
    "print(logistic.C_)\n",
    "sendPredictionToCfmFormat(y_pred_logisticCs[:,1],fileName='predictionLogisticCV')"
   ]
  },
  {
   "cell_type": "code",
   "execution_count": 75,
   "metadata": {},
   "outputs": [
    {
     "name": "stdout",
     "output_type": "stream",
     "text": [
      "we train\n"
     ]
    },
    {
     "name": "stderr",
     "output_type": "stream",
     "text": [
      "[Parallel(n_jobs=1)]: Using backend SequentialBackend with 1 concurrent workers.\n"
     ]
    },
    {
     "name": "stdout",
     "output_type": "stream",
     "text": [
      "convergence after 15 epochs took 14 seconds\n",
      "convergence after 24 epochs took 21 seconds\n",
      "convergence after 24 epochs took 23 seconds\n",
      "convergence after 8 epochs took 8 seconds\n",
      "convergence after 2 epochs took 1 seconds\n",
      "convergence after 15 epochs took 14 seconds\n",
      "convergence after 24 epochs took 23 seconds\n",
      "convergence after 23 epochs took 22 seconds\n",
      "convergence after 8 epochs took 8 seconds\n",
      "convergence after 2 epochs took 2 seconds\n",
      "convergence after 15 epochs took 15 seconds\n",
      "convergence after 23 epochs took 22 seconds\n",
      "convergence after 23 epochs took 21 seconds\n",
      "convergence after 8 epochs took 8 seconds\n",
      "convergence after 2 epochs took 2 seconds\n",
      "convergence after 14 epochs took 13 seconds\n",
      "convergence after 24 epochs took 23 seconds\n",
      "convergence after 24 epochs took 23 seconds\n",
      "convergence after 8 epochs took 8 seconds\n",
      "convergence after 2 epochs took 2 seconds\n",
      "convergence after 16 epochs took 15 seconds\n",
      "convergence after 25 epochs took 24 seconds\n",
      "convergence after 25 epochs took 24 seconds\n",
      "convergence after 8 epochs took 8 seconds\n",
      "convergence after 2 epochs took 2 seconds\n"
     ]
    },
    {
     "name": "stderr",
     "output_type": "stream",
     "text": [
      "[Parallel(n_jobs=1)]: Done   5 out of   5 | elapsed:  5.8min finished\n"
     ]
    },
    {
     "name": "stdout",
     "output_type": "stream",
     "text": [
      "compute the score\n",
      "train score :  0.5207311089303238\n",
      "test score :  0.520225940187568\n"
     ]
    },
    {
     "name": "stderr",
     "output_type": "stream",
     "text": [
      "[Parallel(n_jobs=1)]: Using backend SequentialBackend with 1 concurrent workers.\n"
     ]
    },
    {
     "name": "stdout",
     "output_type": "stream",
     "text": [
      "convergence after 16 epochs took 22 seconds\n",
      "convergence after 18 epochs took 26 seconds\n",
      "convergence after 13 epochs took 15 seconds\n",
      "convergence after 6 epochs took 9 seconds\n",
      "convergence after 2 epochs took 3 seconds\n",
      "convergence after 14 epochs took 20 seconds\n",
      "convergence after 18 epochs took 25 seconds\n",
      "convergence after 13 epochs took 12 seconds\n",
      "convergence after 6 epochs took 5 seconds\n",
      "convergence after 2 epochs took 2 seconds\n",
      "convergence after 14 epochs took 20 seconds\n",
      "convergence after 18 epochs took 25 seconds\n",
      "convergence after 13 epochs took 18 seconds\n",
      "convergence after 6 epochs took 9 seconds\n",
      "convergence after 2 epochs took 3 seconds\n",
      "convergence after 13 epochs took 19 seconds\n",
      "convergence after 18 epochs took 25 seconds\n",
      "convergence after 13 epochs took 18 seconds\n",
      "convergence after 6 epochs took 9 seconds\n",
      "convergence after 2 epochs took 2 seconds\n",
      "convergence after 15 epochs took 21 seconds\n",
      "convergence after 18 epochs took 25 seconds\n",
      "convergence after 13 epochs took 19 seconds\n",
      "convergence after 6 epochs took 5 seconds\n",
      "convergence after 2 epochs took 3 seconds\n"
     ]
    },
    {
     "name": "stderr",
     "output_type": "stream",
     "text": [
      "[Parallel(n_jobs=1)]: Done   5 out of   5 | elapsed:  6.1min finished\n"
     ]
    },
    {
     "name": "stdout",
     "output_type": "stream",
     "text": [
      "score on full training set :  0.5205916329342691\n",
      "0.5149135882639432\n",
      "[100.]\n"
     ]
    }
   ],
   "source": [
    "logistic5 = LogisticRegressionCV(solver='sag',Cs=5,cv=5,verbose=1)\n",
    "evaluateModel(logistic5)\n",
    "y_pred_logisticCs5 = computeProba(logistic5)\n",
    "print(logistic5.score(data_train[data_train.columns[3:]],output_log))\n",
    "print(logistic5.C_)"
   ]
  },
  {
   "cell_type": "code",
   "execution_count": 76,
   "metadata": {},
   "outputs": [
    {
     "name": "stdout",
     "output_type": "stream",
     "text": [
      "we train\n"
     ]
    },
    {
     "name": "stderr",
     "output_type": "stream",
     "text": [
      "[Parallel(n_jobs=1)]: Using backend SequentialBackend with 1 concurrent workers.\n"
     ]
    },
    {
     "name": "stdout",
     "output_type": "stream",
     "text": [
      "convergence after 15 epochs took 15 seconds\n",
      "convergence after 8 epochs took 7 seconds\n",
      "convergence after 11 epochs took 11 seconds\n",
      "convergence after 13 epochs took 11 seconds\n",
      "convergence after 17 epochs took 16 seconds\n",
      "convergence after 20 epochs took 19 seconds\n",
      "convergence after 20 epochs took 19 seconds\n",
      "convergence after 18 epochs took 17 seconds\n",
      "convergence after 15 epochs took 14 seconds\n",
      "convergence after 12 epochs took 12 seconds\n",
      "convergence after 8 epochs took 7 seconds\n",
      "convergence after 6 epochs took 6 seconds\n",
      "convergence after 3 epochs took 3 seconds\n",
      "convergence after 2 epochs took 2 seconds\n",
      "convergence after 2 epochs took 2 seconds\n",
      "convergence after 2 epochs took 1 seconds\n",
      "convergence after 2 epochs took 2 seconds\n",
      "convergence after 2 epochs took 2 seconds\n",
      "convergence after 2 epochs took 2 seconds\n",
      "convergence after 2 epochs took 2 seconds\n",
      "convergence after 14 epochs took 14 seconds\n",
      "convergence after 9 epochs took 8 seconds\n",
      "convergence after 11 epochs took 11 seconds\n",
      "convergence after 14 epochs took 13 seconds\n",
      "convergence after 16 epochs took 15 seconds\n",
      "convergence after 20 epochs took 23 seconds\n",
      "convergence after 20 epochs took 232 seconds\n",
      "convergence after 18 epochs took 17 seconds\n",
      "convergence after 15 epochs took 14 seconds\n",
      "convergence after 12 epochs took 12 seconds\n",
      "convergence after 8 epochs took 8 seconds\n",
      "convergence after 5 epochs took 5 seconds\n",
      "convergence after 3 epochs took 2 seconds\n",
      "convergence after 2 epochs took 2 seconds\n",
      "convergence after 2 epochs took 2 seconds\n",
      "convergence after 2 epochs took 2 seconds\n",
      "convergence after 2 epochs took 2 seconds\n",
      "convergence after 2 epochs took 2 seconds\n",
      "convergence after 2 epochs took 2 seconds\n",
      "convergence after 2 epochs took 2 seconds\n",
      "convergence after 14 epochs took 14 seconds\n",
      "convergence after 8 epochs took 7 seconds\n",
      "convergence after 13 epochs took 13 seconds\n",
      "convergence after 13 epochs took 12 seconds\n",
      "convergence after 17 epochs took 17 seconds\n",
      "convergence after 20 epochs took 19 seconds\n",
      "convergence after 20 epochs took 19 seconds\n",
      "convergence after 18 epochs took 17 seconds\n",
      "convergence after 15 epochs took 15 seconds\n",
      "convergence after 12 epochs took 11 seconds\n",
      "convergence after 8 epochs took 8 seconds\n",
      "convergence after 5 epochs took 5 seconds\n",
      "convergence after 3 epochs took 3 seconds\n",
      "convergence after 2 epochs took 2 seconds\n",
      "convergence after 2 epochs took 1 seconds\n",
      "convergence after 2 epochs took 2 seconds\n",
      "convergence after 2 epochs took 2 seconds\n",
      "convergence after 2 epochs took 2 seconds\n",
      "convergence after 2 epochs took 2 seconds\n",
      "convergence after 2 epochs took 2 seconds\n",
      "convergence after 15 epochs took 15 seconds\n",
      "convergence after 9 epochs took 8 seconds\n",
      "convergence after 11 epochs took 11 seconds\n",
      "convergence after 14 epochs took 11 seconds\n",
      "convergence after 17 epochs took 16 seconds\n",
      "convergence after 20 epochs took 19 seconds\n",
      "convergence after 20 epochs took 20 seconds\n",
      "convergence after 18 epochs took 17 seconds\n",
      "convergence after 15 epochs took 13 seconds\n",
      "convergence after 12 epochs took 10 seconds\n",
      "convergence after 8 epochs took 8 seconds\n",
      "convergence after 6 epochs took 3 seconds\n",
      "convergence after 3 epochs took 3 seconds\n",
      "convergence after 2 epochs took 2 seconds\n",
      "convergence after 2 epochs took 2 seconds\n",
      "convergence after 2 epochs took 2 seconds\n",
      "convergence after 2 epochs took 2 seconds\n",
      "convergence after 2 epochs took 2 seconds\n",
      "convergence after 2 epochs took 2 seconds\n",
      "convergence after 2 epochs took 2 seconds\n",
      "convergence after 14 epochs took 13 seconds\n",
      "convergence after 9 epochs took 9 seconds\n",
      "convergence after 11 epochs took 11 seconds\n",
      "convergence after 14 epochs took 13 seconds\n",
      "convergence after 18 epochs took 17 seconds\n",
      "convergence after 21 epochs took 20 seconds\n",
      "convergence after 21 epochs took 20 seconds\n",
      "convergence after 18 epochs took 17 seconds\n",
      "convergence after 15 epochs took 14 seconds\n",
      "convergence after 12 epochs took 12 seconds\n",
      "convergence after 8 epochs took 7 seconds\n",
      "convergence after 5 epochs took 4 seconds\n",
      "convergence after 3 epochs took 2 seconds\n",
      "convergence after 2 epochs took 2 seconds\n",
      "convergence after 2 epochs took 1 seconds\n",
      "convergence after 2 epochs took 2 seconds\n",
      "convergence after 2 epochs took 2 seconds\n",
      "convergence after 2 epochs took 1 seconds\n",
      "convergence after 2 epochs took 2 seconds\n",
      "convergence after 2 epochs took 2 seconds\n"
     ]
    },
    {
     "name": "stderr",
     "output_type": "stream",
     "text": [
      "[Parallel(n_jobs=1)]: Done   5 out of   5 | elapsed: 17.9min finished\n"
     ]
    },
    {
     "name": "stdout",
     "output_type": "stream",
     "text": [
      "compute the score\n",
      "train score :  0.5207311089303238\n",
      "test score :  0.520225940187568\n"
     ]
    },
    {
     "name": "stderr",
     "output_type": "stream",
     "text": [
      "[Parallel(n_jobs=1)]: Using backend SequentialBackend with 1 concurrent workers.\n"
     ]
    },
    {
     "name": "stdout",
     "output_type": "stream",
     "text": [
      "convergence after 17 epochs took 24 seconds\n",
      "convergence after 8 epochs took 12 seconds\n",
      "convergence after 11 epochs took 11 seconds\n",
      "convergence after 14 epochs took 11 seconds\n",
      "convergence after 15 epochs took 10 seconds\n",
      "convergence after 13 epochs took 19 seconds\n",
      "convergence after 12 epochs took 17 seconds\n",
      "convergence after 11 epochs took 15 seconds\n",
      "convergence after 9 epochs took 9 seconds\n",
      "convergence after 8 epochs took 5 seconds\n",
      "convergence after 6 epochs took 4 seconds\n",
      "convergence after 4 epochs took 2 seconds\n",
      "convergence after 2 epochs took 1 seconds\n",
      "convergence after 2 epochs took 2 seconds\n",
      "convergence after 2 epochs took 1 seconds\n",
      "convergence after 2 epochs took 1 seconds\n",
      "convergence after 2 epochs took 2 seconds\n",
      "convergence after 2 epochs took 1 seconds\n",
      "convergence after 2 epochs took 1 seconds\n",
      "convergence after 2 epochs took 1 seconds\n",
      "convergence after 15 epochs took 10 seconds\n",
      "convergence after 8 epochs took 10 seconds\n",
      "convergence after 12 epochs took 16 seconds\n",
      "convergence after 14 epochs took 20 seconds\n",
      "convergence after 15 epochs took 21 seconds\n",
      "convergence after 15 epochs took 21 seconds\n",
      "convergence after 12 epochs took 16 seconds\n",
      "convergence after 10 epochs took 14 seconds\n",
      "convergence after 9 epochs took 13 seconds\n",
      "convergence after 8 epochs took 11 seconds\n",
      "convergence after 6 epochs took 8 seconds\n",
      "convergence after 4 epochs took 6 seconds\n",
      "convergence after 2 epochs took 3 seconds\n",
      "convergence after 2 epochs took 3 seconds\n",
      "convergence after 2 epochs took 2 seconds\n",
      "convergence after 2 epochs took 3 seconds\n",
      "convergence after 2 epochs took 3 seconds\n",
      "convergence after 2 epochs took 3 seconds\n",
      "convergence after 2 epochs took 2 seconds\n",
      "convergence after 2 epochs took 3 seconds\n",
      "convergence after 14 epochs took 29 seconds\n",
      "convergence after 9 epochs took 58 seconds\n",
      "convergence after 11 epochs took 15 seconds\n",
      "convergence after 14 epochs took 13 seconds\n",
      "convergence after 15 epochs took 10 seconds\n",
      "convergence after 13 epochs took 9 seconds\n",
      "convergence after 12 epochs took 10 seconds\n",
      "convergence after 11 epochs took 16 seconds\n",
      "convergence after 10 epochs took 14 seconds\n",
      "convergence after 8 epochs took 11 seconds\n",
      "convergence after 6 epochs took 10 seconds\n",
      "convergence after 4 epochs took 6 seconds\n",
      "convergence after 2 epochs took 3 seconds\n",
      "convergence after 2 epochs took 3 seconds\n",
      "convergence after 2 epochs took 3 seconds\n",
      "convergence after 2 epochs took 3 seconds\n",
      "convergence after 2 epochs took 2 seconds\n",
      "convergence after 2 epochs took 3 seconds\n",
      "convergence after 2 epochs took 3 seconds\n",
      "convergence after 2 epochs took 3 seconds\n",
      "convergence after 15 epochs took 21 seconds\n",
      "convergence after 9 epochs took 13 seconds\n",
      "convergence after 12 epochs took 17 seconds\n",
      "convergence after 14 epochs took 19 seconds\n",
      "convergence after 15 epochs took 21 seconds\n",
      "convergence after 15 epochs took 21 seconds\n",
      "convergence after 12 epochs took 17 seconds\n",
      "convergence after 11 epochs took 16 seconds\n",
      "convergence after 10 epochs took 14 seconds\n",
      "convergence after 8 epochs took 11 seconds\n",
      "convergence after 6 epochs took 8 seconds\n",
      "convergence after 4 epochs took 5 seconds\n",
      "convergence after 2 epochs took 3 seconds\n",
      "convergence after 2 epochs took 3 seconds\n",
      "convergence after 2 epochs took 3 seconds\n",
      "convergence after 2 epochs took 3 seconds\n",
      "convergence after 2 epochs took 3 seconds\n",
      "convergence after 2 epochs took 2 seconds\n",
      "convergence after 2 epochs took 3 seconds\n",
      "convergence after 2 epochs took 3 seconds\n",
      "convergence after 14 epochs took 13 seconds\n",
      "convergence after 9 epochs took 6 seconds\n",
      "convergence after 12 epochs took 8 seconds\n",
      "convergence after 14 epochs took 13 seconds\n",
      "convergence after 15 epochs took 21 seconds\n",
      "convergence after 12 epochs took 17 seconds\n",
      "convergence after 12 epochs took 17 seconds\n",
      "convergence after 11 epochs took 15 seconds\n",
      "convergence after 10 epochs took 14 seconds\n",
      "convergence after 8 epochs took 11 seconds\n",
      "convergence after 6 epochs took 9 seconds\n",
      "convergence after 4 epochs took 5 seconds\n",
      "convergence after 2 epochs took 3 seconds\n",
      "convergence after 2 epochs took 3 seconds\n",
      "convergence after 2 epochs took 3 seconds\n",
      "convergence after 2 epochs took 2 seconds\n",
      "convergence after 2 epochs took 3 seconds\n",
      "convergence after 2 epochs took 3 seconds\n",
      "convergence after 2 epochs took 3 seconds\n",
      "convergence after 2 epochs took 3 seconds\n"
     ]
    },
    {
     "name": "stderr",
     "output_type": "stream",
     "text": [
      "[Parallel(n_jobs=1)]: Done   5 out of   5 | elapsed: 15.8min finished\n"
     ]
    },
    {
     "name": "stdout",
     "output_type": "stream",
     "text": [
      "score on full training set :  0.5205527238379932\n",
      "0.5149524973602191\n",
      "[0.23357215]\n"
     ]
    }
   ],
   "source": [
    "logistic20 = LogisticRegressionCV(solver='sag',Cs=20,cv=5,verbose=1)\n",
    "evaluateModel(logistic20)\n",
    "y_pred_logisticCs20 = computeProba(logistic20)\n",
    "print(logistic20.score(data_train[data_train.columns[3:]],output_log))\n",
    "print(logistic20.C_)"
   ]
  },
  {
   "cell_type": "code",
   "execution_count": 98,
   "metadata": {},
   "outputs": [],
   "source": [
    "Cs = [.001, .01, 1, 5, 10, 20,50,100, 1000]\n",
    "score_train = []\n",
    "score_test = []\n",
    "for C in Cs:\n",
    "    lr = LogisticRegression(C=C,solver='sag',verbose=1)\n",
    "    lr.fit(X_train,y_train)\n",
    "    score_train.append(lr.score(X_train,y_train))\n",
    "    score_test.append(lr.score(X_test,y_test))"
   ]
  },
  {
   "cell_type": "code",
   "execution_count": 252,
   "metadata": {},
   "outputs": [
    {
     "data": {
      "image/png": "[encoded data removed]",
      "text/plain": [
       "<Figure size 432x288 with 1 Axes>"
      ]
     },
     "metadata": {
      "needs_background": "light"
     },
     "output_type": "display_data"
    }
   ],
   "source": [
    "pyplot.scatter(Cs,score_train)\n",
    "pyplot.savefig(\"Cl2.png\")"
   ]
  },
  {
   "cell_type": "code",
   "execution_count": 253,
   "metadata": {},
   "outputs": [
    {
     "data": {
      "text/plain": [
       "[0.5200123435966634,\n",
       " 0.5209611138370952,\n",
       " 0.521125950686948,\n",
       " 0.5211317008096172,\n",
       " 0.5211336175171737,\n",
       " 0.5211202005642787,\n",
       " 0.521125950686948,\n",
       " 0.521125950686948,\n",
       " 0.5211278673945045]"
      ]
     },
     "execution_count": 253,
     "metadata": {},
     "output_type": "execute_result"
    }
   ],
   "source": [
    "score_train"
   ]
  },
  {
   "cell_type": "code",
   "execution_count": 254,
   "metadata": {},
   "outputs": [
    {
     "data": {
      "image/png": "[encoded data removed]",
      "text/plain": [
       "<Figure size 432x288 with 1 Axes>"
      ]
     },
     "metadata": {
      "needs_background": "light"
     },
     "output_type": "display_data"
    }
   ],
   "source": [
    "pyplot.scatter(Cs,score_test)\n",
    "pyplot.savefig(\"Cl2Test.png\")"
   ]
  },
  {
   "cell_type": "code",
   "execution_count": 106,
   "metadata": {},
   "outputs": [
    {
     "name": "stderr",
     "output_type": "stream",
     "text": [
      "[Parallel(n_jobs=1)]: Using backend SequentialBackend with 1 concurrent workers.\n"
     ]
    },
    {
     "name": "stdout",
     "output_type": "stream",
     "text": [
      "convergence after 6 epochs took 11 seconds\n"
     ]
    },
    {
     "name": "stderr",
     "output_type": "stream",
     "text": [
      "[Parallel(n_jobs=1)]: Done   1 out of   1 | elapsed:   10.5s finished\n",
      "[Parallel(n_jobs=1)]: Using backend SequentialBackend with 1 concurrent workers.\n"
     ]
    },
    {
     "name": "stdout",
     "output_type": "stream",
     "text": [
      "convergence after 34 epochs took 57 seconds\n"
     ]
    },
    {
     "name": "stderr",
     "output_type": "stream",
     "text": [
      "[Parallel(n_jobs=1)]: Done   1 out of   1 | elapsed:   56.6s finished\n",
      "[Parallel(n_jobs=1)]: Using backend SequentialBackend with 1 concurrent workers.\n"
     ]
    },
    {
     "name": "stdout",
     "output_type": "stream",
     "text": [
      "convergence after 27 epochs took 49 seconds\n"
     ]
    },
    {
     "name": "stderr",
     "output_type": "stream",
     "text": [
      "[Parallel(n_jobs=1)]: Done   1 out of   1 | elapsed:   48.7s finished\n",
      "[Parallel(n_jobs=1)]: Using backend SequentialBackend with 1 concurrent workers.\n"
     ]
    },
    {
     "name": "stdout",
     "output_type": "stream",
     "text": [
      "convergence after 27 epochs took 49 seconds\n"
     ]
    },
    {
     "name": "stderr",
     "output_type": "stream",
     "text": [
      "[Parallel(n_jobs=1)]: Done   1 out of   1 | elapsed:   49.6s finished\n",
      "[Parallel(n_jobs=1)]: Using backend SequentialBackend with 1 concurrent workers.\n"
     ]
    },
    {
     "name": "stdout",
     "output_type": "stream",
     "text": [
      "convergence after 26 epochs took 49 seconds\n"
     ]
    },
    {
     "name": "stderr",
     "output_type": "stream",
     "text": [
      "[Parallel(n_jobs=1)]: Done   1 out of   1 | elapsed:   48.3s finished\n",
      "[Parallel(n_jobs=1)]: Using backend SequentialBackend with 1 concurrent workers.\n"
     ]
    },
    {
     "name": "stdout",
     "output_type": "stream",
     "text": [
      "convergence after 27 epochs took 49 seconds\n"
     ]
    },
    {
     "name": "stderr",
     "output_type": "stream",
     "text": [
      "[Parallel(n_jobs=1)]: Done   1 out of   1 | elapsed:   49.4s finished\n",
      "[Parallel(n_jobs=1)]: Using backend SequentialBackend with 1 concurrent workers.\n"
     ]
    },
    {
     "name": "stdout",
     "output_type": "stream",
     "text": [
      "convergence after 27 epochs took 51 seconds\n"
     ]
    },
    {
     "name": "stderr",
     "output_type": "stream",
     "text": [
      "[Parallel(n_jobs=1)]: Done   1 out of   1 | elapsed:   51.2s finished\n",
      "[Parallel(n_jobs=1)]: Using backend SequentialBackend with 1 concurrent workers.\n"
     ]
    },
    {
     "name": "stdout",
     "output_type": "stream",
     "text": [
      "convergence after 26 epochs took 50 seconds\n"
     ]
    },
    {
     "name": "stderr",
     "output_type": "stream",
     "text": [
      "[Parallel(n_jobs=1)]: Done   1 out of   1 | elapsed:   49.7s finished\n",
      "[Parallel(n_jobs=1)]: Using backend SequentialBackend with 1 concurrent workers.\n"
     ]
    },
    {
     "name": "stdout",
     "output_type": "stream",
     "text": [
      "convergence after 26 epochs took 51 seconds\n"
     ]
    },
    {
     "name": "stderr",
     "output_type": "stream",
     "text": [
      "[Parallel(n_jobs=1)]: Done   1 out of   1 | elapsed:   51.5s finished\n"
     ]
    }
   ],
   "source": [
    "Cs = [.001, .01, 1, 5, 10, 20,50,100, 1000]\n",
    "score_train_l1 = []\n",
    "score_test_l1 = []\n",
    "for C in Cs:\n",
    "    lr = LogisticRegression(C=C,solver='saga',penalty='l1',verbose=1)\n",
    "    lr.fit(X_train,y_train)\n",
    "    score_train_l1.append(lr.score(X_train,y_train))\n",
    "    score_test_l1.append(lr.score(X_test,y_test))"
   ]
  },
  {
   "cell_type": "code",
   "execution_count": 255,
   "metadata": {},
   "outputs": [
    {
     "data": {
      "image/png": "[encoded data removed]",
      "text/plain": [
       "<Figure size 432x288 with 1 Axes>"
      ]
     },
     "metadata": {
      "needs_background": "light"
     },
     "output_type": "display_data"
    }
   ],
   "source": [
    "pyplot.scatter(Cs,score_train_l1)\n",
    "pyplot.savefig(\"Cl1.png\")"
   ]
  },
  {
   "cell_type": "code",
   "execution_count": 256,
   "metadata": {},
   "outputs": [
    {
     "data": {
      "image/png": "[encoded data removed]",
      "text/plain": [
       "<Figure size 432x288 with 1 Axes>"
      ]
     },
     "metadata": {
      "needs_background": "light"
     },
     "output_type": "display_data"
    }
   ],
   "source": [
    "pyplot.scatter(Cs,score_test_l1)\n",
    "pyplot.savefig(\"Cl1Test.png\")"
   ]
  },
  {
   "cell_type": "code",
   "execution_count": 113,
   "metadata": {},
   "outputs": [
    {
     "data": {
      "text/plain": [
       "[0.5002165879538764,\n",
       " 0.5175455409715407,\n",
       " 0.5211547013002944,\n",
       " 0.5211853686211972,\n",
       " 0.5211547013002944,\n",
       " 0.5211221172718351,\n",
       " 0.5211317008096172,\n",
       " 0.5211240339793916,\n",
       " 0.5211240339793916]"
      ]
     },
     "execution_count": 113,
     "metadata": {},
     "output_type": "execute_result"
    }
   ],
   "source": [
    "score_train_l1"
   ]
  },
  {
   "cell_type": "markdown",
   "metadata": {},
   "source": [
    "# SVM"
   ]
  },
  {
   "cell_type": "markdown",
   "metadata": {},
   "source": [
    "## Linear"
   ]
  },
  {
   "cell_type": "code",
   "execution_count": 114,
   "metadata": {},
   "outputs": [
    {
     "name": "stdout",
     "output_type": "stream",
     "text": [
      "we train\n",
      "[LibLinear]"
     ]
    },
    {
     "name": "stderr",
     "output_type": "stream",
     "text": [
      "C:\\Users\\jerom\\Anaconda3\\lib\\site-packages\\sklearn\\svm\\base.py:931: ConvergenceWarning: Liblinear failed to converge, increase the number of iterations.\n",
      "  \"the number of iterations.\", ConvergenceWarning)\n"
     ]
    },
    {
     "name": "stdout",
     "output_type": "stream",
     "text": [
      "compute the score\n",
      "train score :  0.5207311089303238\n",
      "test score :  0.520225940187568\n"
     ]
    }
   ],
   "source": [
    "svc = LinearSVC(tol=1.e-3,verbose=1)\n",
    "evaluateModel(svc)"
   ]
  },
  {
   "cell_type": "code",
   "execution_count": 101,
   "metadata": {},
   "outputs": [],
   "source": [
    "y_pred_SVC = svc.predict(data_test_clean)"
   ]
  },
  {
   "cell_type": "code",
   "execution_count": 150,
   "metadata": {},
   "outputs": [
    {
     "name": "stdout",
     "output_type": "stream",
     "text": [
      "[LibLinear]0.5184578230119027\n",
      "0.5181776304902974\n",
      "[LibLinear]"
     ]
    },
    {
     "name": "stderr",
     "output_type": "stream",
     "text": [
      "C:\\Users\\jerom\\Anaconda3\\lib\\site-packages\\sklearn\\svm\\base.py:931: ConvergenceWarning: Liblinear failed to converge, increase the number of iterations.\n",
      "  \"the number of iterations.\", ConvergenceWarning)\n"
     ]
    },
    {
     "name": "stdout",
     "output_type": "stream",
     "text": [
      "0.5210549517949897\n",
      "0.518052406316665\n",
      "[LibLinear]"
     ]
    },
    {
     "name": "stderr",
     "output_type": "stream",
     "text": [
      "C:\\Users\\jerom\\Anaconda3\\lib\\site-packages\\sklearn\\svm\\base.py:931: ConvergenceWarning: Liblinear failed to converge, increase the number of iterations.\n",
      "  \"the number of iterations.\", ConvergenceWarning)\n"
     ]
    },
    {
     "name": "stdout",
     "output_type": "stream",
     "text": [
      "0.5205950226938175\n",
      "0.5187769176069661\n",
      "[LibLinear]"
     ]
    },
    {
     "name": "stderr",
     "output_type": "stream",
     "text": [
      "C:\\Users\\jerom\\Anaconda3\\lib\\site-packages\\sklearn\\svm\\base.py:931: ConvergenceWarning: Liblinear failed to converge, increase the number of iterations.\n",
      "  \"the number of iterations.\", ConvergenceWarning)\n"
     ]
    },
    {
     "name": "stdout",
     "output_type": "stream",
     "text": [
      "0.5205988561089303\n",
      "0.5187411392716426\n",
      "[LibLinear]"
     ]
    },
    {
     "name": "stderr",
     "output_type": "stream",
     "text": [
      "C:\\Users\\jerom\\Anaconda3\\lib\\site-packages\\sklearn\\svm\\base.py:931: ConvergenceWarning: Liblinear failed to converge, increase the number of iterations.\n",
      "  \"the number of iterations.\", ConvergenceWarning)\n"
     ]
    },
    {
     "name": "stdout",
     "output_type": "stream",
     "text": [
      "0.5208250276005888\n",
      "0.5184728017567163\n",
      "[LibLinear]"
     ]
    },
    {
     "name": "stderr",
     "output_type": "stream",
     "text": [
      "C:\\Users\\jerom\\Anaconda3\\lib\\site-packages\\sklearn\\svm\\base.py:931: ConvergenceWarning: Liblinear failed to converge, increase the number of iterations.\n",
      "  \"the number of iterations.\", ConvergenceWarning)\n"
     ]
    },
    {
     "name": "stdout",
     "output_type": "stream",
     "text": [
      "0.521058865922473\n",
      "0.5193985661832119\n",
      "[LibLinear]"
     ]
    },
    {
     "name": "stderr",
     "output_type": "stream",
     "text": [
      "C:\\Users\\jerom\\Anaconda3\\lib\\site-packages\\sklearn\\svm\\base.py:931: ConvergenceWarning: Liblinear failed to converge, increase the number of iterations.\n",
      "  \"the number of iterations.\", ConvergenceWarning)\n"
     ]
    },
    {
     "name": "stdout",
     "output_type": "stream",
     "text": [
      "0.5212773705839058\n",
      "0.5195864024436603\n",
      "[LibLinear]"
     ]
    },
    {
     "name": "stderr",
     "output_type": "stream",
     "text": [
      "C:\\Users\\jerom\\Anaconda3\\lib\\site-packages\\sklearn\\svm\\base.py:931: ConvergenceWarning: Liblinear failed to converge, increase the number of iterations.\n",
      "  \"the number of iterations.\", ConvergenceWarning)\n"
     ]
    },
    {
     "name": "stdout",
     "output_type": "stream",
     "text": [
      "0.5215322926889107\n",
      "0.5198368507909248\n",
      "[LibLinear]0.521072282875368\n",
      "0.5200783545543585\n"
     ]
    },
    {
     "name": "stderr",
     "output_type": "stream",
     "text": [
      "C:\\Users\\jerom\\Anaconda3\\lib\\site-packages\\sklearn\\svm\\base.py:931: ConvergenceWarning: Liblinear failed to converge, increase the number of iterations.\n",
      "  \"the number of iterations.\", ConvergenceWarning)\n"
     ]
    }
   ],
   "source": [
    "index= 0\n",
    "for C in Cs:\n",
    "    svc = LinearSVC(tol=1.e-3,verbose=1,C=C)\n",
    "    svc.fit(X_train, y_train)\n",
    "    these_scores.append(svc.score(X_train, y_train))\n",
    "    these_test_scores.append(svc.score(X_test, y_test))\n",
    "    print(these_scores[index])\n",
    "    print(these_test_scores[index])\n",
    "    index = index + 1"
   ]
  },
  {
   "cell_type": "code",
   "execution_count": 179,
   "metadata": {},
   "outputs": [
    {
     "ename": "KeyboardInterrupt",
     "evalue": "",
     "output_type": "error",
     "traceback": [
      "\u001b[1;31m---------------------------------------------------------------------------\u001b[0m",
      "\u001b[1;31mKeyboardInterrupt\u001b[0m                         Traceback (most recent call last)",
      "\u001b[1;32m<ipython-input-179-d8c507c277fc>\u001b[0m in \u001b[0;36m<module>\u001b[1;34m\u001b[0m\n\u001b[1;32m----> 1\u001b[1;33m \u001b[0mdata_embedded\u001b[0m \u001b[1;33m=\u001b[0m \u001b[0mTSNE\u001b[0m\u001b[1;33m(\u001b[0m\u001b[0mn_components\u001b[0m\u001b[1;33m=\u001b[0m\u001b[1;36m2\u001b[0m\u001b[1;33m)\u001b[0m\u001b[1;33m.\u001b[0m\u001b[0mfit_transform\u001b[0m\u001b[1;33m(\u001b[0m\u001b[0mdata_train\u001b[0m\u001b[1;33m)\u001b[0m\u001b[1;33m\u001b[0m\u001b[1;33m\u001b[0m\u001b[0m\n\u001b[0m",
      "\u001b[1;32m~\\Anaconda3\\lib\\site-packages\\sklearn\\manifold\\t_sne.py\u001b[0m in \u001b[0;36mfit_transform\u001b[1;34m(self, X, y)\u001b[0m\n\u001b[0;32m    892\u001b[0m             \u001b[0mEmbedding\u001b[0m \u001b[0mof\u001b[0m \u001b[0mthe\u001b[0m \u001b[0mtraining\u001b[0m \u001b[0mdata\u001b[0m \u001b[1;32min\u001b[0m \u001b[0mlow\u001b[0m\u001b[1;33m-\u001b[0m\u001b[0mdimensional\u001b[0m \u001b[0mspace\u001b[0m\u001b[1;33m.\u001b[0m\u001b[1;33m\u001b[0m\u001b[1;33m\u001b[0m\u001b[0m\n\u001b[0;32m    893\u001b[0m         \"\"\"\n\u001b[1;32m--> 894\u001b[1;33m         \u001b[0membedding\u001b[0m \u001b[1;33m=\u001b[0m \u001b[0mself\u001b[0m\u001b[1;33m.\u001b[0m\u001b[0m_fit\u001b[0m\u001b[1;33m(\u001b[0m\u001b[0mX\u001b[0m\u001b[1;33m)\u001b[0m\u001b[1;33m\u001b[0m\u001b[1;33m\u001b[0m\u001b[0m\n\u001b[0m\u001b[0;32m    895\u001b[0m         \u001b[0mself\u001b[0m\u001b[1;33m.\u001b[0m\u001b[0membedding_\u001b[0m \u001b[1;33m=\u001b[0m \u001b[0membedding\u001b[0m\u001b[1;33m\u001b[0m\u001b[1;33m\u001b[0m\u001b[0m\n\u001b[0;32m    896\u001b[0m         \u001b[1;32mreturn\u001b[0m \u001b[0mself\u001b[0m\u001b[1;33m.\u001b[0m\u001b[0membedding_\u001b[0m\u001b[1;33m\u001b[0m\u001b[1;33m\u001b[0m\u001b[0m\n",
      "\u001b[1;32m~\\Anaconda3\\lib\\site-packages\\sklearn\\manifold\\t_sne.py\u001b[0m in \u001b[0;36m_fit\u001b[1;34m(self, X, skip_num_points)\u001b[0m\n\u001b[0;32m    804\u001b[0m                           \u001b[0mX_embedded\u001b[0m\u001b[1;33m=\u001b[0m\u001b[0mX_embedded\u001b[0m\u001b[1;33m,\u001b[0m\u001b[1;33m\u001b[0m\u001b[1;33m\u001b[0m\u001b[0m\n\u001b[0;32m    805\u001b[0m                           \u001b[0mneighbors\u001b[0m\u001b[1;33m=\u001b[0m\u001b[0mneighbors_nn\u001b[0m\u001b[1;33m,\u001b[0m\u001b[1;33m\u001b[0m\u001b[1;33m\u001b[0m\u001b[0m\n\u001b[1;32m--> 806\u001b[1;33m                           skip_num_points=skip_num_points)\n\u001b[0m\u001b[0;32m    807\u001b[0m \u001b[1;33m\u001b[0m\u001b[0m\n\u001b[0;32m    808\u001b[0m     \u001b[1;33m@\u001b[0m\u001b[0mproperty\u001b[0m\u001b[1;33m\u001b[0m\u001b[1;33m\u001b[0m\u001b[0m\n",
      "\u001b[1;32m~\\Anaconda3\\lib\\site-packages\\sklearn\\manifold\\t_sne.py\u001b[0m in \u001b[0;36m_tsne\u001b[1;34m(self, P, degrees_of_freedom, n_samples, X_embedded, neighbors, skip_num_points)\u001b[0m\n\u001b[0;32m    846\u001b[0m         \u001b[0mP\u001b[0m \u001b[1;33m*=\u001b[0m \u001b[0mself\u001b[0m\u001b[1;33m.\u001b[0m\u001b[0mearly_exaggeration\u001b[0m\u001b[1;33m\u001b[0m\u001b[1;33m\u001b[0m\u001b[0m\n\u001b[0;32m    847\u001b[0m         params, kl_divergence, it = _gradient_descent(obj_func, params,\n\u001b[1;32m--> 848\u001b[1;33m                                                       **opt_args)\n\u001b[0m\u001b[0;32m    849\u001b[0m         \u001b[1;32mif\u001b[0m \u001b[0mself\u001b[0m\u001b[1;33m.\u001b[0m\u001b[0mverbose\u001b[0m\u001b[1;33m:\u001b[0m\u001b[1;33m\u001b[0m\u001b[1;33m\u001b[0m\u001b[0m\n\u001b[0;32m    850\u001b[0m             print(\"[t-SNE] KL divergence after %d iterations with early \"\n",
      "\u001b[1;32m~\\Anaconda3\\lib\\site-packages\\sklearn\\manifold\\t_sne.py\u001b[0m in \u001b[0;36m_gradient_descent\u001b[1;34m(objective, p0, it, n_iter, n_iter_check, n_iter_without_progress, momentum, learning_rate, min_gain, min_grad_norm, verbose, args, kwargs)\u001b[0m\n\u001b[0;32m    355\u001b[0m         \u001b[0mkwargs\u001b[0m\u001b[1;33m[\u001b[0m\u001b[1;34m'compute_error'\u001b[0m\u001b[1;33m]\u001b[0m \u001b[1;33m=\u001b[0m \u001b[0mcheck_convergence\u001b[0m \u001b[1;32mor\u001b[0m \u001b[0mi\u001b[0m \u001b[1;33m==\u001b[0m \u001b[0mn_iter\u001b[0m \u001b[1;33m-\u001b[0m \u001b[1;36m1\u001b[0m\u001b[1;33m\u001b[0m\u001b[1;33m\u001b[0m\u001b[0m\n\u001b[0;32m    356\u001b[0m \u001b[1;33m\u001b[0m\u001b[0m\n\u001b[1;32m--> 357\u001b[1;33m         \u001b[0merror\u001b[0m\u001b[1;33m,\u001b[0m \u001b[0mgrad\u001b[0m \u001b[1;33m=\u001b[0m \u001b[0mobjective\u001b[0m\u001b[1;33m(\u001b[0m\u001b[0mp\u001b[0m\u001b[1;33m,\u001b[0m \u001b[1;33m*\u001b[0m\u001b[0margs\u001b[0m\u001b[1;33m,\u001b[0m \u001b[1;33m**\u001b[0m\u001b[0mkwargs\u001b[0m\u001b[1;33m)\u001b[0m\u001b[1;33m\u001b[0m\u001b[1;33m\u001b[0m\u001b[0m\n\u001b[0m\u001b[0;32m    358\u001b[0m         \u001b[0mgrad_norm\u001b[0m \u001b[1;33m=\u001b[0m \u001b[0mlinalg\u001b[0m\u001b[1;33m.\u001b[0m\u001b[0mnorm\u001b[0m\u001b[1;33m(\u001b[0m\u001b[0mgrad\u001b[0m\u001b[1;33m)\u001b[0m\u001b[1;33m\u001b[0m\u001b[1;33m\u001b[0m\u001b[0m\n\u001b[0;32m    359\u001b[0m \u001b[1;33m\u001b[0m\u001b[0m\n",
      "\u001b[1;32m~\\Anaconda3\\lib\\site-packages\\sklearn\\manifold\\t_sne.py\u001b[0m in \u001b[0;36m_kl_divergence_bh\u001b[1;34m(params, P, degrees_of_freedom, n_samples, n_components, angle, skip_num_points, verbose, compute_error)\u001b[0m\n\u001b[0;32m    260\u001b[0m                                       \u001b[0mdof\u001b[0m\u001b[1;33m=\u001b[0m\u001b[0mdegrees_of_freedom\u001b[0m\u001b[1;33m,\u001b[0m\u001b[1;33m\u001b[0m\u001b[1;33m\u001b[0m\u001b[0m\n\u001b[0;32m    261\u001b[0m                                       compute_error=compute_error)\n\u001b[1;32m--> 262\u001b[1;33m     \u001b[0mc\u001b[0m \u001b[1;33m=\u001b[0m \u001b[1;36m2.0\u001b[0m \u001b[1;33m*\u001b[0m \u001b[1;33m(\u001b[0m\u001b[0mdegrees_of_freedom\u001b[0m \u001b[1;33m+\u001b[0m \u001b[1;36m1.0\u001b[0m\u001b[1;33m)\u001b[0m \u001b[1;33m/\u001b[0m \u001b[0mdegrees_of_freedom\u001b[0m\u001b[1;33m\u001b[0m\u001b[1;33m\u001b[0m\u001b[0m\n\u001b[0m\u001b[0;32m    263\u001b[0m     \u001b[0mgrad\u001b[0m \u001b[1;33m=\u001b[0m \u001b[0mgrad\u001b[0m\u001b[1;33m.\u001b[0m\u001b[0mravel\u001b[0m\u001b[1;33m(\u001b[0m\u001b[1;33m)\u001b[0m\u001b[1;33m\u001b[0m\u001b[1;33m\u001b[0m\u001b[0m\n\u001b[0;32m    264\u001b[0m     \u001b[0mgrad\u001b[0m \u001b[1;33m*=\u001b[0m \u001b[0mc\u001b[0m\u001b[1;33m\u001b[0m\u001b[1;33m\u001b[0m\u001b[0m\n",
      "\u001b[1;31mKeyboardInterrupt\u001b[0m: "
     ]
    }
   ],
   "source": [
    "data_embedded = TSNE(n_components=2).fit_transform(data_train)"
   ]
  },
  {
   "cell_type": "markdown",
   "metadata": {},
   "source": [
    "# Neural network"
   ]
  },
  {
   "cell_type": "code",
   "execution_count": 183,
   "metadata": {},
   "outputs": [],
   "source": [
    "Y_train = np_utils.to_categorical(y_train,2 )\n",
    "Y_test = np_utils.to_categorical(y_test,2 )\n",
    "batch_size=500\n",
    "n_epoch=20"
   ]
  },
  {
   "cell_type": "code",
   "execution_count": 184,
   "metadata": {},
   "outputs": [],
   "source": [
    "def createNN(layer1=1000,layer2=100, activation1='relu', activation2='tanh'):\n",
    "    model = Sequential()\n",
    "    model.add(Dense(layer1,input_dim=X_train.shape[1], name='fc1',kernel_initializer=glorot_normal()))\n",
    "    model.add(Dropout(.2))\n",
    "    model.add(Activation(activation1))\n",
    "    model.add(Dense(layer2, input_dim=layer1, name='fc2',kernel_initializer=glorot_normal()))\n",
    "    model.add(Dropout(.2))\n",
    "    model.add(Activation(activation2))\n",
    "    model.add(Dense(2,name='fc3',activation='softmax'))\n",
    "    adam = Adamax()\n",
    "    model.compile(loss=\"categorical_crossentropy\",optimizer=adam,metrics=[\"binary_accuracy\"])\n",
    "    return model"
   ]
  },
  {
   "cell_type": "code",
   "execution_count": 230,
   "metadata": {},
   "outputs": [],
   "source": [
    "model1 = createNN(layer1=1000,layer2=100,activation1='relu',activation2='tanh')\n",
    "model2 = createNN(layer1=2000,layer2=100,activation1='relu',activation2='tanh')\n",
    "model3 = createNN(layer1=3000,layer2=100,activation1='relu',activation2='tanh')\n",
    "model4 = createNN(layer1=100,layer2=10,activation1='relu',activation2='tanh')\n",
    "model5 = createNN(layer1=5000,layer2=10,activation1='relu',activation2='tanh')\n",
    "model6 = createNN(layer1=100,layer2=100,activation1='relu',activation2='tanh')"
   ]
  },
  {
   "cell_type": "code",
   "execution_count": 190,
   "metadata": {},
   "outputs": [
    {
     "name": "stdout",
     "output_type": "stream",
     "text": [
      "Epoch 1/20\n",
      "521728/521728 [==============================] - 20s 38us/step - loss: 0.6932 - binary_accuracy: 0.5131 0s - loss: 0.6933 - binary_accu\n",
      "Epoch 2/20\n",
      "521728/521728 [==============================] - 18s 35us/step - loss: 0.6921 - binary_accuracy: 0.5196\n",
      "Epoch 3/20\n",
      "521728/521728 [==============================] - 17s 33us/step - loss: 0.6917 - binary_accuracy: 0.5230 7s - loss: 0.691 - ETA: 5s - loss: 0.6916 - binary_accuracy - ETA: 2s - l\n",
      "Epoch 4/20\n",
      "521728/521728 [==============================] - 17s 32us/step - loss: 0.6911 - binary_accuracy: 0.5265 2s - los\n",
      "Epoch 5/20\n",
      "521728/521728 [==============================] - 15s 29us/step - loss: 0.6902 - binary_accuracy: 0.5310\n",
      "Epoch 6/20\n",
      "521728/521728 [==============================] - 15s 29us/step - loss: 0.6894 - binary_accuracy: 0.5338\n",
      "Epoch 7/20\n",
      "521728/521728 [==============================] - 14s 26us/step - loss: 0.6885 - binary_accuracy: 0.5371\n",
      "Epoch 8/20\n",
      "521728/521728 [==============================] - 13s 25us/step - loss: 0.6875 - binary_accuracy: 0.5416 0s - loss: 0.6874 - binary_accu\n",
      "Epoch 9/20\n",
      "521728/521728 [==============================] - 16s 31us/step - loss: 0.6864 - binary_accuracy: 0.5447\n",
      "Epoch 10/20\n",
      "521728/521728 [==============================] - 16s 31us/step - loss: 0.6849 - binary_accuracy: 0.5498\n",
      "Epoch 11/20\n",
      "521728/521728 [==============================] - 13s 25us/step - loss: 0.6829 - binary_accuracy: 0.5550\n",
      "Epoch 12/20\n",
      "521728/521728 [==============================] - 14s 27us/step - loss: 0.6811 - binary_accuracy: 0.5594\n",
      "Epoch 13/20\n",
      "521728/521728 [==============================] - 12s 22us/step - loss: 0.6795 - binary_accuracy: 0.5639\n",
      "Epoch 14/20\n",
      "521728/521728 [==============================] - 16s 30us/step - loss: 0.6778 - binary_accuracy: 0.5679\n",
      "Epoch 15/20\n",
      "521728/521728 [==============================] - 16s 30us/step - loss: 0.6761 - binary_accuracy: 0.5718\n",
      "Epoch 16/20\n",
      "521728/521728 [==============================] - 20s 39us/step - loss: 0.6745 - binary_accuracy: 0.5754\n",
      "Epoch 17/20\n",
      "521728/521728 [==============================] - 22s 43us/step - loss: 0.6730 - binary_accuracy: 0.5779\n",
      "Epoch 18/20\n",
      "521728/521728 [==============================] - 23s 43us/step - loss: 0.6717 - binary_accuracy: 0.5806\n",
      "Epoch 19/20\n",
      "521728/521728 [==============================] - 23s 44us/step - loss: 0.6706 - binary_accuracy: 0.5832 11s - - ETA: 0s - loss: 0.6705 - binary_ac\n",
      "Epoch 20/20\n",
      "521728/521728 [==============================] - 24s 45us/step - loss: 0.6687 - binary_accuracy: 0.5850\n",
      "Epoch 1/20\n",
      "521728/521728 [==============================] - 34s 65us/step - loss: 0.6934 - binary_accuracy: 0.5123\n",
      "Epoch 2/20\n",
      "521728/521728 [==============================] - 31s 60us/step - loss: 0.6920 - binary_accuracy: 0.5204\n",
      "Epoch 3/20\n",
      "521728/521728 [==============================] - 32s 60us/step - loss: 0.6915 - binary_accuracy: 0.5237\n",
      "Epoch 4/20\n",
      "521728/521728 [==============================] - 33s 64us/step - loss: 0.6907 - binary_accuracy: 0.5284\n",
      "Epoch 5/20\n",
      "521728/521728 [==============================] - 35s 67us/step - loss: 0.6897 - binary_accuracy: 0.5334 2s - l\n",
      "Epoch 6/20\n",
      "521728/521728 [==============================] - 36s 68us/step - loss: 0.6885 - binary_accuracy: 0.5379 0s - loss: 0.6885 - binary_accuracy: 0.53\n",
      "Epoch 7/20\n",
      "521728/521728 [==============================] - 34s 65us/step - loss: 0.6870 - binary_accuracy: 0.5430\n",
      "Epoch 8/20\n",
      "521728/521728 [==============================] - 34s 65us/step - loss: 0.6850 - binary_accuracy: 0.5494 8s -  - ETA: 5\n",
      "Epoch 9/20\n",
      "521728/521728 [==============================] - 35s 67us/step - loss: 0.6815 - binary_accuracy: 0.5589\n",
      "Epoch 10/20\n",
      "521728/521728 [==============================] - 35s 67us/step - loss: 0.6777 - binary_accuracy: 0.5688\n",
      "Epoch 11/20\n",
      "521728/521728 [==============================] - 34s 66us/step - loss: 0.6735 - binary_accuracy: 0.5766\n",
      "Epoch 12/20\n",
      "521728/521728 [==============================] - 34s 66us/step - loss: 0.6694 - binary_accuracy: 0.5842\n",
      "Epoch 13/20\n",
      "521728/521728 [==============================] - 29s 56us/step - loss: 0.6656 - binary_accuracy: 0.5900\n",
      "Epoch 14/20\n",
      "521728/521728 [==============================] - 30s 58us/step - loss: 0.6620 - binary_accuracy: 0.5967\n",
      "Epoch 15/20\n",
      "521728/521728 [==============================] - 36s 69us/step - loss: 0.6588 - binary_accuracy: 0.6010\n",
      "Epoch 16/20\n",
      "521728/521728 [==============================] - 36s 69us/step - loss: 0.6553 - binary_accuracy: 0.6066\n",
      "Epoch 17/20\n",
      "521728/521728 [==============================] - 36s 69us/step - loss: 0.6522 - binary_accuracy: 0.6102\n",
      "Epoch 18/20\n",
      "521728/521728 [==============================] - 34s 65us/step - loss: 0.6496 - binary_accuracy: 0.6135\n",
      "Epoch 19/20\n",
      "521728/521728 [==============================] - 36s 69us/step - loss: 0.6470 - binary_accuracy: 0.6169\n",
      "Epoch 20/20\n",
      "521728/521728 [==============================] - 36s 68us/step - loss: 0.6444 - binary_accuracy: 0.6206\n",
      "Epoch 1/20\n",
      "521728/521728 [==============================] - 75s 143us/step - loss: 0.6936 - binary_accuracy: 0.5121\n",
      "Epoch 2/20\n",
      "521728/521728 [==============================] - 40s 77us/step - loss: 0.6921 - binary_accuracy: 0.5202 0s - loss: 0.6921 - binary_accuracy: 0.\n",
      "Epoch 3/20\n",
      "521728/521728 [==============================] - 46s 88us/step - loss: 0.6914 - binary_accuracy: 0.5241\n",
      "Epoch 4/20\n",
      "521728/521728 [==============================] - 32s 61us/step - loss: 0.6907 - binary_accuracy: 0.5280\n",
      "Epoch 5/20\n",
      "521728/521728 [==============================] - 25s 47us/step - loss: 0.6895 - binary_accuracy: 0.5340\n",
      "Epoch 6/20\n",
      "521728/521728 [==============================] - 24s 46us/step - loss: 0.6879 - binary_accuracy: 0.5396\n",
      "Epoch 7/20\n",
      "521728/521728 [==============================] - 24s 47us/step - loss: 0.6857 - binary_accuracy: 0.5469\n",
      "Epoch 8/20\n",
      "521728/521728 [==============================] - 24s 47us/step - loss: 0.6817 - binary_accuracy: 0.5574\n",
      "Epoch 9/20\n",
      "521728/521728 [==============================] - 24s 47us/step - loss: 0.6762 - binary_accuracy: 0.5702\n",
      "Epoch 10/20\n",
      "521728/521728 [==============================] - 28s 53us/step - loss: 0.6696 - binary_accuracy: 0.5826\n",
      "Epoch 11/20\n",
      "521728/521728 [==============================] - 33s 64us/step - loss: 0.6640 - binary_accuracy: 0.5926 10s - loss: 0.6621 - b - ETA: 8s - \n",
      "Epoch 12/20\n",
      "521728/521728 [==============================] - 28s 54us/step - loss: 0.6585 - binary_accuracy: 0.6005\n",
      "Epoch 13/20\n",
      "521728/521728 [==============================] - 32s 61us/step - loss: 0.6532 - binary_accuracy: 0.6080 5s - loss: 0.65 - ETA: 3s - loss: 0.6521 -\n",
      "Epoch 14/20\n",
      "521728/521728 [==============================] - 48s 92us/step - loss: 0.6481 - binary_accuracy: 0.6145\n",
      "Epoch 15/20\n",
      "521728/521728 [==============================] - 48s 91us/step - loss: 0.6431 - binary_accuracy: 0.6206 9s - loss: 0.6413 - binary_accu\n",
      "Epoch 16/20\n",
      "521728/521728 [==============================] - 47s 91us/step - loss: 0.6387 - binary_accuracy: 0.6270\n",
      "Epoch 17/20\n",
      "521728/521728 [==============================] - 46s 88us/step - loss: 0.6341 - binary_accuracy: 0.6319\n",
      "Epoch 18/20\n",
      "521728/521728 [==============================] - 46s 89us/step - loss: 0.6303 - binary_accuracy: 0.6365\n",
      "Epoch 19/20\n",
      "521728/521728 [==============================] - 44s 84us/step - loss: 0.6255 - binary_accuracy: 0.6410\n",
      "Epoch 20/20\n",
      "521728/521728 [==============================] - 32s 61us/step - loss: 0.6220 - binary_accuracy: 0.6445\n",
      "Epoch 1/20\n",
      "521728/521728 [==============================] - 6s 11us/step - loss: 0.6941 - binary_accuracy: 0.5096\n",
      "Epoch 2/20\n",
      "521728/521728 [==============================] - 5s 9us/step - loss: 0.6926 - binary_accuracy: 0.5155\n",
      "Epoch 3/20\n",
      "521728/521728 [==============================] - 5s 9us/step - loss: 0.6922 - binary_accuracy: 0.5183\n",
      "Epoch 4/20\n",
      "521728/521728 [==============================] - 5s 9us/step - loss: 0.6920 - binary_accuracy: 0.5207\n",
      "Epoch 5/20\n",
      "521728/521728 [==============================] - 5s 9us/step - loss: 0.6918 - binary_accuracy: 0.5226\n",
      "Epoch 6/20\n",
      "521728/521728 [==============================] - 6s 11us/step - loss: 0.6916 - binary_accuracy: 0.5235\n",
      "Epoch 7/20\n",
      "521728/521728 [==============================] - 6s 12us/step - loss: 0.6915 - binary_accuracy: 0.5253\n",
      "Epoch 8/20\n"
     ]
    },
    {
     "name": "stdout",
     "output_type": "stream",
     "text": [
      "521728/521728 [==============================] - 8s 15us/step - loss: 0.6912 - binary_accuracy: 0.5260\n",
      "Epoch 9/20\n",
      "521728/521728 [==============================] - 9s 16us/step - loss: 0.6911 - binary_accuracy: 0.5266\n",
      "Epoch 10/20\n",
      "521728/521728 [==============================] - 9s 16us/step - loss: 0.6909 - binary_accuracy: 0.5266\n",
      "Epoch 11/20\n",
      "521728/521728 [==============================] - 9s 17us/step - loss: 0.6907 - binary_accuracy: 0.5284\n",
      "Epoch 12/20\n",
      "521728/521728 [==============================] - 8s 15us/step - loss: 0.6905 - binary_accuracy: 0.5302\n",
      "Epoch 13/20\n",
      "521728/521728 [==============================] - 9s 17us/step - loss: 0.6904 - binary_accuracy: 0.5296\n",
      "Epoch 14/20\n",
      "521728/521728 [==============================] - 10s 19us/step - loss: 0.6903 - binary_accuracy: 0.5306\n",
      "Epoch 15/20\n",
      "521728/521728 [==============================] - 9s 16us/step - loss: 0.6900 - binary_accuracy: 0.5317\n",
      "Epoch 16/20\n",
      "521728/521728 [==============================] - 10s 19us/step - loss: 0.6898 - binary_accuracy: 0.5322 - ETA: 1s - loss: 0.6898 - bi\n",
      "Epoch 17/20\n",
      "521728/521728 [==============================] - 10s 19us/step - loss: 0.6898 - binary_accuracy: 0.5333 1s - loss\n",
      "Epoch 18/20\n",
      "521728/521728 [==============================] - 10s 19us/step - loss: 0.6896 - binary_accuracy: 0.5335\n",
      "Epoch 19/20\n",
      "521728/521728 [==============================] - 9s 17us/step - loss: 0.6895 - binary_accuracy: 0.5341\n",
      "Epoch 20/20\n",
      "521728/521728 [==============================] - 8s 16us/step - loss: 0.6895 - binary_accuracy: 0.5340\n",
      "Epoch 1/20\n",
      "521728/521728 [==============================] - 57s 110us/step - loss: 0.6933 - binary_accuracy: 0.5128\n",
      "Epoch 2/20\n",
      "521728/521728 [==============================] - 50s 96us/step - loss: 0.6920 - binary_accuracy: 0.5209\n",
      "Epoch 3/20\n",
      "521728/521728 [==============================] - 48s 91us/step - loss: 0.6914 - binary_accuracy: 0.5248\n",
      "Epoch 4/20\n",
      "521728/521728 [==============================] - 60s 115us/step - loss: 0.6905 - binary_accuracy: 0.5288\n",
      "Epoch 5/20\n",
      "521728/521728 [==============================] - 52s 99us/step - loss: 0.6893 - binary_accuracy: 0.5341\n",
      "Epoch 6/20\n",
      "521728/521728 [==============================] - 53s 101us/step - loss: 0.6875 - binary_accuracy: 0.5420\n",
      "Epoch 7/20\n",
      "521728/521728 [==============================] - 62s 119us/step - loss: 0.6844 - binary_accuracy: 0.551318s  - ETA\n",
      "Epoch 8/20\n",
      "521728/521728 [==============================] - 50s 96us/step - loss: 0.6794 - binary_accuracy: 0.5659\n",
      "Epoch 9/20\n",
      "521728/521728 [==============================] - 51s 98us/step - loss: 0.6717 - binary_accuracy: 0.5798 ETA: 1s - loss: 0.6\n",
      "Epoch 10/20\n",
      "521728/521728 [==============================] - 50s 96us/step - loss: 0.6631 - binary_accuracy: 0.5950\n",
      "Epoch 11/20\n",
      "521728/521728 [==============================] - 47s 91us/step - loss: 0.6558 - binary_accuracy: 0.6060\n",
      "Epoch 12/20\n",
      "521728/521728 [==============================] - 61s 116us/step - loss: 0.6488 - binary_accuracy: 0.61457s - loss: 0.6 - ETA: 5s - loss: 0.648 - ETA: 4s - loss: 0.6483 - binary_\n",
      "Epoch 13/20\n",
      "521728/521728 [==============================] - 62s 119us/step - loss: 0.6420 - binary_accuracy: 0.62401s - loss: 0.6418 - bin - ETA: 0s - loss: 0.6419 - binary_accuracy: 0.624 - ETA: 0s - loss: 0.6420 - binary_accuracy\n",
      "Epoch 14/20\n",
      "521728/521728 [==============================] - 54s 104us/step - loss: 0.6353 - binary_accuracy: 0.63236s - loss: 0.6341 - binar - ETA: 2s - - ETA: 0s - loss: 0.6351 - binary_accuracy: 0.6 - ETA: 0s - loss: 0.6351 - binary_accura\n",
      "Epoch 15/20\n",
      "521728/521728 [==============================] - 57s 110us/step - loss: 0.6295 - binary_accuracy: 0.63813\n",
      "Epoch 16/20\n",
      "521728/521728 [==============================] - 48s 91us/step - loss: 0.6228 - binary_accuracy: 0.6453\n",
      "Epoch 17/20\n",
      "521728/521728 [==============================] - 49s 93us/step - loss: 0.6173 - binary_accuracy: 0.6521\n",
      "Epoch 18/20\n",
      "521728/521728 [==============================] - 45s 86us/step - loss: 0.6118 - binary_accuracy: 0.6571\n",
      "Epoch 19/20\n",
      "521728/521728 [==============================] - 53s 102us/step - loss: 0.6061 - binary_accuracy: 0.66241s - loss: 0.\n",
      "Epoch 20/20\n",
      "521728/521728 [==============================] - 45s 86us/step - loss: 0.6016 - binary_accuracy: 0.6678\n",
      "Epoch 1/20\n",
      "521728/521728 [==============================] - 6s 11us/step - loss: 0.6935 - binary_accuracy: 0.5100\n",
      "Epoch 2/20\n",
      "521728/521728 [==============================] - 6s 12us/step - loss: 0.6924 - binary_accuracy: 0.5165\n",
      "Epoch 3/20\n",
      "521728/521728 [==============================] - 6s 12us/step - loss: 0.6921 - binary_accuracy: 0.5199\n",
      "Epoch 4/20\n",
      "521728/521728 [==============================] - 5s 10us/step - loss: 0.6919 - binary_accuracy: 0.5209\n",
      "Epoch 5/20\n",
      "521728/521728 [==============================] - 4s 8us/step - loss: 0.6918 - binary_accuracy: 0.5225\n",
      "Epoch 6/20\n",
      "521728/521728 [==============================] - 5s 10us/step - loss: 0.6916 - binary_accuracy: 0.5240\n",
      "Epoch 7/20\n",
      "521728/521728 [==============================] - 9s 17us/step - loss: 0.6914 - binary_accuracy: 0.5244\n",
      "Epoch 8/20\n",
      "521728/521728 [==============================] - 10s 18us/step - loss: 0.6913 - binary_accuracy: 0.5256\n",
      "Epoch 9/20\n",
      "521728/521728 [==============================] - 8s 16us/step - loss: 0.6911 - binary_accuracy: 0.5266\n",
      "Epoch 10/20\n",
      "521728/521728 [==============================] - 6s 12us/step - loss: 0.6909 - binary_accuracy: 0.5271\n",
      "Epoch 11/20\n",
      "521728/521728 [==============================] - 8s 16us/step - loss: 0.6908 - binary_accuracy: 0.5282\n",
      "Epoch 12/20\n",
      "521728/521728 [==============================] - 9s 18us/step - loss: 0.6906 - binary_accuracy: 0.5292\n",
      "Epoch 13/20\n",
      "521728/521728 [==============================] - 10s 18us/step - loss: 0.6906 - binary_accuracy: 0.5288 0s - loss: 0.6906 - binary_ac\n",
      "Epoch 14/20\n",
      "521728/521728 [==============================] - 9s 18us/step - loss: 0.6903 - binary_accuracy: 0.5308\n",
      "Epoch 15/20\n",
      "521728/521728 [==============================] - 9s 17us/step - loss: 0.6903 - binary_accuracy: 0.5310\n",
      "Epoch 16/20\n",
      "521728/521728 [==============================] - 9s 17us/step - loss: 0.6901 - binary_accuracy: 0.5320\n",
      "Epoch 17/20\n",
      "521728/521728 [==============================] - 10s 18us/step - loss: 0.6900 - binary_accuracy: 0.5321\n",
      "Epoch 18/20\n",
      "521728/521728 [==============================] - 10s 19us/step - loss: 0.6901 - binary_accuracy: 0.5321\n",
      "Epoch 19/20\n",
      "521728/521728 [==============================] - 9s 18us/step - loss: 0.6899 - binary_accuracy: 0.5331\n",
      "Epoch 20/20\n",
      "521728/521728 [==============================] - 9s 18us/step - loss: 0.6898 - binary_accuracy: 0.5332\n"
     ]
    },
    {
     "data": {
      "text/plain": [
       "<keras.callbacks.History at 0x2ae9a726be0>"
      ]
     },
     "execution_count": 190,
     "metadata": {},
     "output_type": "execute_result"
    }
   ],
   "source": [
    "model1.fit(X_train,Y_train,epochs=n_epoch,batch_size=batch_size,verbose=1)\n",
    "model2.fit(X_train,Y_train,epochs=n_epoch,batch_size=batch_size,verbose=1)\n",
    "model3.fit(X_train,Y_train,epochs=n_epoch,batch_size=batch_size,verbose=1)\n",
    "model4.fit(X_train,Y_train,epochs=n_epoch,batch_size=batch_size,verbose=1)\n",
    "model5.fit(X_train,Y_train,epochs=n_epoch,batch_size=batch_size,verbose=1)\n"
   ]
  },
  {
   "cell_type": "code",
   "execution_count": 231,
   "metadata": {},
   "outputs": [
    {
     "name": "stdout",
     "output_type": "stream",
     "text": [
      "Epoch 1/20\n",
      "521728/521728 [==============================] - 12s 24us/step - loss: 0.6935 - binary_accuracy: 0.5089\n",
      "Epoch 2/20\n",
      "521728/521728 [==============================] - 9s 18us/step - loss: 0.6926 - binary_accuracy: 0.5159\n",
      "Epoch 3/20\n",
      "521728/521728 [==============================] - 10s 18us/step - loss: 0.6922 - binary_accuracy: 0.5193\n",
      "Epoch 4/20\n",
      "521728/521728 [==============================] - 9s 18us/step - loss: 0.6920 - binary_accuracy: 0.5196\n",
      "Epoch 5/20\n",
      "521728/521728 [==============================] - 9s 18us/step - loss: 0.6919 - binary_accuracy: 0.5220\n",
      "Epoch 6/20\n",
      "521728/521728 [==============================] - 9s 18us/step - loss: 0.6916 - binary_accuracy: 0.5237\n",
      "Epoch 7/20\n",
      "521728/521728 [==============================] - 9s 18us/step - loss: 0.6914 - binary_accuracy: 0.5242\n",
      "Epoch 8/20\n",
      "521728/521728 [==============================] - 9s 18us/step - loss: 0.6911 - binary_accuracy: 0.5265\n",
      "Epoch 9/20\n",
      "521728/521728 [==============================] - 9s 18us/step - loss: 0.6910 - binary_accuracy: 0.5269: 1s - loss: 0.6\n",
      "Epoch 10/20\n",
      "521728/521728 [==============================] - 9s 18us/step - loss: 0.6908 - binary_accuracy: 0.5282\n",
      "Epoch 11/20\n",
      "521728/521728 [==============================] - 9s 17us/step - loss: 0.6905 - binary_accuracy: 0.5291\n",
      "Epoch 12/20\n",
      "521728/521728 [==============================] - 9s 17us/step - loss: 0.6904 - binary_accuracy: 0.5295\n",
      "Epoch 13/20\n",
      "521728/521728 [==============================] - 8s 15us/step - loss: 0.6902 - binary_accuracy: 0.5308\n",
      "Epoch 14/20\n",
      "521728/521728 [==============================] - 8s 16us/step - loss: 0.6901 - binary_accuracy: 0.5311\n",
      "Epoch 15/20\n",
      "521728/521728 [==============================] - 9s 17us/step - loss: 0.6899 - binary_accuracy: 0.5326\n",
      "Epoch 16/20\n",
      "521728/521728 [==============================] - 8s 15us/step - loss: 0.6898 - binary_accuracy: 0.5320\n",
      "Epoch 17/20\n",
      "521728/521728 [==============================] - 9s 18us/step - loss: 0.6897 - binary_accuracy: 0.5326\n",
      "Epoch 18/20\n",
      "521728/521728 [==============================] - 7s 14us/step - loss: 0.6895 - binary_accuracy: 0.5342\n",
      "Epoch 19/20\n",
      "521728/521728 [==============================] - 8s 16us/step - loss: 0.6895 - binary_accuracy: 0.5343\n",
      "Epoch 20/20\n",
      "521728/521728 [==============================] - 9s 17us/step - loss: 0.6893 - binary_accuracy: 0.5354\n"
     ]
    },
    {
     "data": {
      "text/plain": [
       "<keras.callbacks.History at 0x2ae3470aba8>"
      ]
     },
     "execution_count": 231,
     "metadata": {},
     "output_type": "execute_result"
    }
   ],
   "source": [
    "model6.fit(X_train,Y_train,epochs=n_epoch,batch_size=batch_size,verbose=1)"
   ]
  },
  {
   "cell_type": "code",
   "execution_count": 232,
   "metadata": {},
   "outputs": [
    {
     "name": "stdout",
     "output_type": "stream",
     "text": [
      "521728/521728 [==============================] - 23s 44us/step\n",
      "521728/521728 [==============================] - 32s 61us/step\n",
      "521728/521728 [==============================] - 38s 73us/step\n",
      "521728/521728 [==============================] - 25s 49us/step\n",
      "521728/521728 [==============================] - 36s 70us/step\n",
      "521728/521728 [==============================] - 28s 53us/step\n"
     ]
    }
   ],
   "source": [
    "train =[]\n",
    "train.append(model1.evaluate(X_train,Y_train,verbose=1)[1])\n",
    "train.append(model2.evaluate(X_train,Y_train,verbose=1)[1])\n",
    "train.append(model3.evaluate(X_train,Y_train,verbose=1)[1])\n",
    "train.append(model4.evaluate(X_train,Y_train,verbose=1)[1])\n",
    "train.append(model5.evaluate(X_train,Y_train,verbose=1)[1])\n",
    "train.append(model6.evaluate(X_train,Y_train,verbose=1)[1])"
   ]
  },
  {
   "cell_type": "code",
   "execution_count": 233,
   "metadata": {},
   "outputs": [
    {
     "name": "stdout",
     "output_type": "stream",
     "text": [
      "223599/223599 [==============================] - 14s 64us/step\n",
      "223599/223599 [==============================] - 16s 73us/step\n",
      "223599/223599 [==============================] - 16s 73us/step\n",
      "223599/223599 [==============================] - 11s 49us/step\n",
      "223599/223599 [==============================] - 16s 72us/step\n",
      "223599/223599 [==============================] - 13s 58us/step\n"
     ]
    }
   ],
   "source": [
    "test =[]\n",
    "test.append(model1.evaluate(X_test,Y_test,verbose=1)[1])\n",
    "test.append(model2.evaluate(X_test,Y_test,verbose=1)[1])\n",
    "test.append(model3.evaluate(X_test,Y_test,verbose=1)[1])\n",
    "test.append(model4.evaluate(X_test,Y_test,verbose=1)[1])\n",
    "test.append(model5.evaluate(X_test,Y_test,verbose=1)[1])\n",
    "test.append(model6.evaluate(X_test,Y_test,verbose=1)[1])"
   ]
  },
  {
   "cell_type": "code",
   "execution_count": 257,
   "metadata": {},
   "outputs": [
    {
     "data": {
      "image/png": "[encoded data removed]",
      "text/plain": [
       "<Figure size 432x288 with 1 Axes>"
      ]
     },
     "metadata": {
      "needs_background": "light"
     },
     "output_type": "display_data"
    }
   ],
   "source": [
    "plt.scatter(train,test)\n",
    "plt.xlabel(\"train score\")\n",
    "plt.ylabel(\"test score\")\n",
    "plt.title(\"score train / test\")\n",
    "plt.savefig(\"scoreTrainTest.png\")"
   ]
  },
  {
   "cell_type": "code",
   "execution_count": 258,
   "metadata": {},
   "outputs": [
    {
     "name": "stdout",
     "output_type": "stream",
     "text": [
      "[0.49815996074582924, 0.49875222338076547, 0.499654992639843, 0.5013091112610403, 0.500877852060844, 0.5420966480618253]\n",
      "[0.4997428432149956, 0.49904069338600454, 0.4995550069548138, 0.5023725508630058, 0.4998143998859092, 0.5154763661737727]\n",
      "_________________________________________________________________\n",
      "Layer (type)                 Output Shape              Param #   \n",
      "=================================================================\n",
      "fc1 (Dense)                  (None, 5000)              360000    \n",
      "_________________________________________________________________\n",
      "dropout_51 (Dropout)         (None, 5000)              0         \n",
      "_________________________________________________________________\n",
      "activation_51 (Activation)   (None, 5000)              0         \n",
      "_________________________________________________________________\n",
      "fc2 (Dense)                  (None, 10)                50010     \n",
      "_________________________________________________________________\n",
      "dropout_52 (Dropout)         (None, 10)                0         \n",
      "_________________________________________________________________\n",
      "activation_52 (Activation)   (None, 10)                0         \n",
      "_________________________________________________________________\n",
      "fc3 (Dense)                  (None, 2)                 22        \n",
      "=================================================================\n",
      "Total params: 410,032\n",
      "Trainable params: 410,032\n",
      "Non-trainable params: 0\n",
      "_________________________________________________________________\n"
     ]
    }
   ],
   "source": [
    "print(train)\n",
    "print(test)\n",
    "model5.summary()"
   ]
  },
  {
   "cell_type": "code",
   "execution_count": 176,
   "metadata": {},
   "outputs": [
    {
     "data": {
      "text/plain": [
       "0.5331351205578223"
      ]
     },
     "execution_count": 176,
     "metadata": {},
     "output_type": "execute_result"
    }
   ],
   "source": [
    "y_pred = model.predict_proba(data_train_clean)\n",
    "CFM_metrics(pd.DataFrame(output_train[\"end_of_day_return\"].values),pd.DataFrame(y_pred[:,1]))"
   ]
  },
  {
   "cell_type": "code",
   "execution_count": 174,
   "metadata": {},
   "outputs": [
    {
     "name": "stdout",
     "output_type": "stream",
     "text": [
      "prediction send toNN.csv\n"
     ]
    }
   ],
   "source": [
    "test_pred =  model.predict_proba(data_test_clean)\n",
    "sendPredictionToCfmFormat(test_pred[:,1],fileName='NN')"
   ]
  },
  {
   "cell_type": "markdown",
   "metadata": {},
   "source": [
    "# Decision tree"
   ]
  },
  {
   "cell_type": "code",
   "execution_count": 121,
   "metadata": {},
   "outputs": [],
   "source": [
    "arbre = GradientBoostingClassifier(loss='exponential',verbose=1)"
   ]
  },
  {
   "cell_type": "code",
   "execution_count": 122,
   "metadata": {},
   "outputs": [
    {
     "name": "stdout",
     "output_type": "stream",
     "text": [
      "      Iter       Train Loss   Remaining Time \n",
      "         1           0.9999           19.63m\n",
      "         2           0.9998           18.93m\n",
      "         3           0.9998           15.93m\n",
      "         4           0.9997           14.41m\n",
      "         5           0.9996           13.33m\n",
      "         6           0.9996           12.93m\n",
      "         7           0.9995           13.44m\n",
      "         8           0.9995           13.88m\n",
      "         9           0.9995           14.16m\n",
      "        10           0.9994           14.28m\n",
      "        20           0.9991           13.94m\n",
      "        30           0.9988           12.64m\n",
      "        40           0.9986           10.46m\n",
      "        50           0.9984            8.69m\n",
      "        60           0.9982            6.96m\n",
      "        70           0.9980            5.22m\n",
      "        80           0.9978            3.49m\n",
      "        90           0.9977            1.75m\n",
      "       100           0.9975            0.00s\n"
     ]
    },
    {
     "data": {
      "text/plain": [
       "GradientBoostingClassifier(criterion='friedman_mse', init=None,\n",
       "              learning_rate=0.1, loss='exponential', max_depth=3,\n",
       "              max_features=None, max_leaf_nodes=None,\n",
       "              min_impurity_decrease=0.0, min_impurity_split=None,\n",
       "              min_samples_leaf=1, min_samples_split=2,\n",
       "              min_weight_fraction_leaf=0.0, n_estimators=100,\n",
       "              n_iter_no_change=None, presort='auto', random_state=None,\n",
       "              subsample=1.0, tol=0.0001, validation_fraction=0.1,\n",
       "              verbose=1, warm_start=False)"
      ]
     },
     "execution_count": 122,
     "metadata": {},
     "output_type": "execute_result"
    }
   ],
   "source": [
    "arbre.fit(X_train,y_train)"
   ]
  },
  {
   "cell_type": "code",
   "execution_count": 125,
   "metadata": {},
   "outputs": [
    {
     "data": {
      "text/plain": [
       "array([[0.5396409 , 0.4603591 ],\n",
       "       [0.50541641, 0.49458359],\n",
       "       [0.44310129, 0.55689871],\n",
       "       ...,\n",
       "       [0.47717554, 0.52282446],\n",
       "       [0.50924938, 0.49075062],\n",
       "       [0.51149184, 0.48850816]])"
      ]
     },
     "execution_count": 125,
     "metadata": {},
     "output_type": "execute_result"
    }
   ],
   "source": [
    "proba = arbre.predict_proba(X_train)\n",
    "proba"
   ]
  },
  {
   "cell_type": "code",
   "execution_count": 130,
   "metadata": {},
   "outputs": [
    {
     "name": "stdout",
     "output_type": "stream",
     "text": [
      "0.5325571945534838\n",
      "0.5176409554604449\n"
     ]
    }
   ],
   "source": [
    "print(arbre.score(X_train,y_train))\n",
    "print(arbre.score(X_test,y_test))"
   ]
  },
  {
   "cell_type": "code",
   "execution_count": null,
   "metadata": {},
   "outputs": [],
   "source": []
  }
 ],
 "metadata": {
  "kernelspec": {
   "display_name": "Python 3",
   "language": "python",
   "name": "python3"
  },
  "language_info": {
   "codemirror_mode": {
    "name": "ipython",
    "version": 3
   },
   "file_extension": ".py",
   "mimetype": "text/x-python",
   "name": "python",
   "nbconvert_exporter": "python",
   "pygments_lexer": "ipython3",
   "version": "3.6.8"
  }
 },
 "nbformat": 4,
 "nbformat_minor": 2
}
