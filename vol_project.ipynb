{
 "cells": [
  {
   "cell_type": "markdown",
   "metadata": {},
   "source": [
    "# Projet RCP 209 : prédiction de rendement de stock"
   ]
  },
  {
   "cell_type": "markdown",
   "metadata": {},
   "source": [
    "## Import library"
   ]
  },
  {
   "cell_type": "code",
   "execution_count": 264,
   "metadata": {},
   "outputs": [],
   "source": [
    "import pandas as pd\n",
    "import numpy as np\n",
    "import matplotlib.pyplot as plt\n",
    "from sklearn.svm import LinearSVC\n",
    "from sklearn.linear_model import LinearRegression\n",
    "from sklearn.linear_model import Lasso\n",
    "from sklearn.linear_model import Ridge\n",
    "from sklearn.linear_model import LogisticRegression, LogisticRegressionCV\n",
    "from sklearn.svm import SVC\n",
    "from sklearn.model_selection import train_test_split\n",
    "from keras.layers import Dense, Activation, multiply\n",
    "from keras.models import Sequential\n",
    "from keras.optimizers import SGD, Adamax\n",
    "from keras.initializers import glorot_uniform, glorot_normal\n",
    "import keras.backend as K\n",
    "from keras.utils import np_utils"
   ]
  },
  {
   "cell_type": "markdown",
   "metadata": {},
   "source": [
    "# Accuracy function"
   ]
  },
  {
   "cell_type": "code",
   "execution_count": 173,
   "metadata": {},
   "outputs": [],
   "source": [
    "def CFM_metrics(y_true, y_pred):\n",
    "    \"\"\"\n",
    "    Return the metrics used for the CFM Data Challenge 2019.\n",
    "\n",
    "    This metrics is simply the accuracy of the prediction of positive returns\n",
    "    (see below for details), but based on true *returns* (y_true) and\n",
    "    probabilities (of returns being positive).\n",
    "\n",
    "    Args\n",
    "        y_true: Pandas Dataframe\n",
    "            target returns. Positive returns will give True, and negative ones False.\n",
    "\n",
    "        y_pred: Pandas Dataframe\n",
    "            predicted probability of positive returns.\n",
    "\n",
    "    \"\"\"\n",
    "    return ((y_true.values > 0) == (y_pred.values > 0.5)).mean()"
   ]
  },
  {
   "cell_type": "markdown",
   "metadata": {},
   "source": [
    "# Get data"
   ]
  },
  {
   "cell_type": "code",
   "execution_count": 175,
   "metadata": {},
   "outputs": [],
   "source": [
    "data_test = pd.read_csv(\"data_stock\\\\test_input.csv\", sep=',')\n",
    "data_train = pd.read_csv(\"data_stock\\\\training_input.csv\", sep=',')\n",
    "output_train = pd.read_csv(\"data_stock\\\\training_output.csv\", sep=',')"
   ]
  },
  {
   "cell_type": "markdown",
   "metadata": {},
   "source": [
    "# Premiere analyse"
   ]
  },
  {
   "cell_type": "code",
   "execution_count": 176,
   "metadata": {},
   "outputs": [
    {
     "data": {
      "text/plain": [
       "((745327, 74), (319769, 74), (745327, 2))"
      ]
     },
     "execution_count": 176,
     "metadata": {},
     "output_type": "execute_result"
    }
   ],
   "source": [
    "data_train.shape, data_test.shape, output_train.shape"
   ]
  },
  {
   "cell_type": "code",
   "execution_count": 177,
   "metadata": {},
   "outputs": [
    {
     "data": {
      "text/plain": [
       "eqt_code     680\n",
       "date        1511\n",
       "dtype: int64"
      ]
     },
     "execution_count": 177,
     "metadata": {},
     "output_type": "execute_result"
    }
   ],
   "source": [
    "data_train[[\"eqt_code\",\"date\"]].nunique()"
   ]
  },
  {
   "cell_type": "code",
   "execution_count": 178,
   "metadata": {},
   "outputs": [
    {
     "name": "stdout",
     "output_type": "stream",
     "text": [
      "nb de données :  52918217  nb données manquantes :  347646 pourcentage données manquentes :  0.6569 %\n"
     ]
    }
   ],
   "source": [
    "nb_donnee = data_train.iloc[:,3:].size\n",
    "nb_nan = data_train.iloc[:,3:].isna().sum().sum()\n",
    "print(\"nb de données : \", nb_donnee, \" nb données manquantes : \", nb_nan, \"pourcentage données manquentes : \",round(nb_nan/nb_donnee * 100,4),\"%\")"
   ]
  },
  {
   "cell_type": "markdown",
   "metadata": {},
   "source": [
    "## Interpolation des valeurs Nan"
   ]
  },
  {
   "cell_type": "code",
   "execution_count": 179,
   "metadata": {},
   "outputs": [],
   "source": [
    "#we linearly interpolate the NaN for the volatility and extrapolate to 0 \n",
    "data_train.iloc[:,3:57] = data_train.iloc[:,3:].interpolate(axis=1)\n",
    "data_test.iloc[:,3:57]  = data_test.iloc[:,3:].interpolate(axis=1)\n",
    "#we use a flat extrapolation\n",
    "data_train.fillna(0,inplace=True)\n",
    "data_test.fillna(0,inplace=True)"
   ]
  },
  {
   "cell_type": "code",
   "execution_count": 180,
   "metadata": {},
   "outputs": [],
   "source": [
    "#drop not necessary data\n",
    "data_train_clean = data_train.drop(['ID', 'eqt_code', 'date'], axis=1, inplace=False)\n",
    "data_test_clean = data_test.drop(['ID', 'eqt_code', 'date'], axis=1, inplace=False)\n",
    "output_val_train = output_train[\"end_of_day_return\"].values\n",
    "X_train,X_test,y_train,y_test = train_test_split(data_train_clean,output_val_train,test_size=.2)"
   ]
  },
  {
   "cell_type": "markdown",
   "metadata": {},
   "source": [
    "# Statitistique"
   ]
  },
  {
   "cell_type": "code",
   "execution_count": 279,
   "metadata": {
    "scrolled": true
   },
   "outputs": [
    {
     "data": {
      "text/plain": [
       "<matplotlib.axes._subplots.AxesSubplot at 0x263c6757a20>"
      ]
     },
     "execution_count": 279,
     "metadata": {},
     "output_type": "execute_result"
    },
    {
     "data": {
      "image/png": "[encoded data removed]",
      "text/plain": [
       "<Figure size 432x288 with 1 Axes>"
      ]
     },
     "metadata": {
      "needs_background": "light"
     },
     "output_type": "display_data"
    }
   ],
   "source": [
    "equity_mean = data_train.drop([\"date\",\"ID\"],axis=1).groupby([\"eqt_code\"]).mean().mean(axis=1)\n",
    "equity_median = data_train.drop([\"date\",\"ID\"],axis=1).groupby([\"eqt_code\"]).median().median(axis=1)\n",
    "equity_std = data_train.drop([\"date\",\"ID\"],axis=1).groupby([\"eqt_code\"]).std().std(axis=1)\n",
    "equity_hurtosis = data_train.drop([\"date\",\"ID\"],axis=1).groupby([\"eqt_code\"]).apply(pd.DataFrame.kurtosis)\n",
    "equity_mean.plot()"
   ]
  },
  {
   "cell_type": "code",
   "execution_count": 280,
   "metadata": {},
   "outputs": [
    {
     "data": {
      "text/plain": [
       "<matplotlib.axes._subplots.AxesSubplot at 0x263c42e45f8>"
      ]
     },
     "execution_count": 280,
     "metadata": {},
     "output_type": "execute_result"
    },
    {
     "data": {
      "image/png": "[encoded data removed]",
      "text/plain": [
       "<Figure size 432x288 with 1 Axes>"
      ]
     },
     "metadata": {
      "needs_background": "light"
     },
     "output_type": "display_data"
    }
   ],
   "source": [
    "equity_std.plot()"
   ]
  },
  {
   "cell_type": "code",
   "execution_count": 281,
   "metadata": {},
   "outputs": [
    {
     "data": {
      "text/plain": [
       "<matplotlib.axes._subplots.AxesSubplot at 0x263c4d51710>"
      ]
     },
     "execution_count": 281,
     "metadata": {},
     "output_type": "execute_result"
    },
    {
     "data": {
      "image/png": "[encoded data removed]",
      "text/plain": [
       "<Figure size 432x288 with 1 Axes>"
      ]
     },
     "metadata": {
      "needs_background": "light"
     },
     "output_type": "display_data"
    }
   ],
   "source": [
    "equity_median.plot()"
   ]
  },
  {
   "cell_type": "code",
   "execution_count": 282,
   "metadata": {},
   "outputs": [
    {
     "data": {
      "text/plain": [
       "<matplotlib.axes._subplots.AxesSubplot at 0x263c4f20208>"
      ]
     },
     "execution_count": 282,
     "metadata": {},
     "output_type": "execute_result"
    },
    {
     "data": {
      "image/png": "[encoded data removed]",
      "text/plain": [
       "<Figure size 432x288 with 1 Axes>"
      ]
     },
     "metadata": {
      "needs_background": "light"
     },
     "output_type": "display_data"
    }
   ],
   "source": [
    "equity_hurtosis.T.apply(pd.DataFrame.kurtosis).plot()"
   ]
  },
  {
   "cell_type": "code",
   "execution_count": 283,
   "metadata": {},
   "outputs": [
    {
     "data": {
      "text/html": [
       "<div>\n",
       "<style scoped>\n",
       "    .dataframe tbody tr th:only-of-type {\n",
       "        vertical-align: middle;\n",
       "    }\n",
       "\n",
       "    .dataframe tbody tr th {\n",
       "        vertical-align: top;\n",
       "    }\n",
       "\n",
       "    .dataframe thead th {\n",
       "        text-align: right;\n",
       "    }\n",
       "</style>\n",
       "<table border=\"1\" class=\"dataframe\">\n",
       "  <thead>\n",
       "    <tr style=\"text-align: right;\">\n",
       "      <th></th>\n",
       "      <th>equity mean</th>\n",
       "      <th>equity median</th>\n",
       "      <th>equity std</th>\n",
       "      <th>equity kurtosis</th>\n",
       "    </tr>\n",
       "  </thead>\n",
       "  <tbody>\n",
       "    <tr>\n",
       "      <th>count</th>\n",
       "      <td>680.000000</td>\n",
       "      <td>680.000000</td>\n",
       "      <td>680.000000</td>\n",
       "      <td>680.000000</td>\n",
       "    </tr>\n",
       "    <tr>\n",
       "      <th>mean</th>\n",
       "      <td>-0.000536</td>\n",
       "      <td>-0.002059</td>\n",
       "      <td>0.449859</td>\n",
       "      <td>27.885478</td>\n",
       "    </tr>\n",
       "    <tr>\n",
       "      <th>std</th>\n",
       "      <td>0.005871</td>\n",
       "      <td>0.003439</td>\n",
       "      <td>0.164241</td>\n",
       "      <td>17.648373</td>\n",
       "    </tr>\n",
       "    <tr>\n",
       "      <th>min</th>\n",
       "      <td>-0.091875</td>\n",
       "      <td>-0.028685</td>\n",
       "      <td>0.180033</td>\n",
       "      <td>-0.881237</td>\n",
       "    </tr>\n",
       "    <tr>\n",
       "      <th>25%</th>\n",
       "      <td>-0.002640</td>\n",
       "      <td>-0.003468</td>\n",
       "      <td>0.351263</td>\n",
       "      <td>14.385478</td>\n",
       "    </tr>\n",
       "    <tr>\n",
       "      <th>50%</th>\n",
       "      <td>-0.000398</td>\n",
       "      <td>-0.001725</td>\n",
       "      <td>0.422859</td>\n",
       "      <td>24.032289</td>\n",
       "    </tr>\n",
       "    <tr>\n",
       "      <th>75%</th>\n",
       "      <td>0.001794</td>\n",
       "      <td>0.000000</td>\n",
       "      <td>0.508102</td>\n",
       "      <td>38.139064</td>\n",
       "    </tr>\n",
       "    <tr>\n",
       "      <th>max</th>\n",
       "      <td>0.032099</td>\n",
       "      <td>0.022428</td>\n",
       "      <td>1.930473</td>\n",
       "      <td>71.750920</td>\n",
       "    </tr>\n",
       "  </tbody>\n",
       "</table>\n",
       "</div>"
      ],
      "text/plain": [
       "       equity mean  equity median  equity std  equity kurtosis\n",
       "count   680.000000     680.000000  680.000000       680.000000\n",
       "mean     -0.000536      -0.002059    0.449859        27.885478\n",
       "std       0.005871       0.003439    0.164241        17.648373\n",
       "min      -0.091875      -0.028685    0.180033        -0.881237\n",
       "25%      -0.002640      -0.003468    0.351263        14.385478\n",
       "50%      -0.000398      -0.001725    0.422859        24.032289\n",
       "75%       0.001794       0.000000    0.508102        38.139064\n",
       "max       0.032099       0.022428    1.930473        71.750920"
      ]
     },
     "execution_count": 283,
     "metadata": {},
     "output_type": "execute_result"
    }
   ],
   "source": [
    "stat = pd.DataFrame()\n",
    "stat[\"equity mean\"] = equity_mean.describe()\n",
    "stat[\"equity median\"] = equity_median.describe()\n",
    "stat[\"equity std\"] = equity_std.describe()\n",
    "stat[\"equity kurtosis\"] = equity_hurtosis.T.apply(pd.DataFrame.kurtosis).describe()\n",
    "stat"
   ]
  },
  {
   "cell_type": "code",
   "execution_count": 286,
   "metadata": {},
   "outputs": [
    {
     "data": {
      "text/plain": [
       "<matplotlib.axes._subplots.AxesSubplot at 0x263c7f9b2e8>"
      ]
     },
     "execution_count": 286,
     "metadata": {},
     "output_type": "execute_result"
    },
    {
     "data": {
      "image/png": "[encoded data removed]",
      "text/plain": [
       "<Figure size 432x288 with 1 Axes>"
      ]
     },
     "metadata": {
      "needs_background": "light"
     },
     "output_type": "display_data"
    }
   ],
   "source": [
    "equity_date_mean = data_train.drop([\"eqt_code\",\"ID\"],axis=1).groupby([\"date\"]).mean().mean(axis=0)\n",
    "equity_date_median = data_train.drop([\"eqt_code\",\"ID\"],axis=1).groupby([\"date\"]).median().median(axis=0)\n",
    "equity_date_std = data_train.drop([\"eqt_code\",\"ID\"],axis=1).groupby([\"date\"]).std().std(axis=0)\n",
    "equity_date_hurtosis = data_train.drop([\"eqt_code\",\"ID\"],axis=1).groupby([\"date\"]).apply(pd.DataFrame.kurtosis)\n",
    "equity_date_mean.plot()\n"
   ]
  },
  {
   "cell_type": "code",
   "execution_count": 287,
   "metadata": {},
   "outputs": [
    {
     "data": {
      "text/plain": [
       "<matplotlib.axes._subplots.AxesSubplot at 0x263c7f80860>"
      ]
     },
     "execution_count": 287,
     "metadata": {},
     "output_type": "execute_result"
    },
    {
     "data": {
      "image/png": "[encoded data removed]",
      "text/plain": [
       "<Figure size 432x288 with 1 Axes>"
      ]
     },
     "metadata": {
      "needs_background": "light"
     },
     "output_type": "display_data"
    }
   ],
   "source": [
    "equity_date_median.plot()"
   ]
  },
  {
   "cell_type": "code",
   "execution_count": 289,
   "metadata": {},
   "outputs": [
    {
     "data": {
      "text/plain": [
       "<matplotlib.axes._subplots.AxesSubplot at 0x263c6ff7ac8>"
      ]
     },
     "execution_count": 289,
     "metadata": {},
     "output_type": "execute_result"
    },
    {
     "data": {
      "image/png": "[encoded data removed]",
      "text/plain": [
       "<Figure size 432x288 with 1 Axes>"
      ]
     },
     "metadata": {
      "needs_background": "light"
     },
     "output_type": "display_data"
    }
   ],
   "source": [
    "equity_date_std.plot()"
   ]
  },
  {
   "cell_type": "markdown",
   "metadata": {},
   "source": [
    "# Linear regression"
   ]
  },
  {
   "cell_type": "code",
   "execution_count": 197,
   "metadata": {},
   "outputs": [],
   "source": [
    "def trainData(model,train_set=X_train,test_set=X_test,output_train=y_train,output_test=y_test,test=data_test_clean):\n",
    "    print(\"we train\")\n",
    "    model.fit(train_set,output_train)\n",
    "    print(\"training done, we start the prediction\")\n",
    "    y_pred = model.predict(train_set)\n",
    "    y_pred_proba = [1 if row >0 else 0 for row in y_pred ]\n",
    "    y_pred_test = model.predict(test_set)\n",
    "    y_pred_test_proba = [1 if row >0 else 0 for row in y_pred_test ]\n",
    "    print('Train error =', round(CFM_metrics(pd.DataFrame(data=y_pred_proba), pd.DataFrame(data=output_train)), 4), '%')\n",
    "    print('Test error =', round(CFM_metrics(pd.DataFrame(data=y_pred_test_proba), pd.DataFrame(data=output_test)), 4), '%')\n",
    "    print(\"we return the test prediction\")\n",
    "    tmp = model.predict(test)\n",
    "    tmp = [1 if row>0 else 0 for row in tmp]\n",
    "    return tmp\n",
    "\n",
    "def sendPredictionToCfmFormat(prediction, test = data_test, fileName = 'predictions'):\n",
    "    output = pd.DataFrame()\n",
    "    output[\"ID\"] = test[\"ID\"]\n",
    "    output[\"end_of_day_return\"] = prediction\n",
    "    output.to_csv(fileName+'.csv', sep=',', index=False)\n",
    "    print(\"prediction send to\"+fileName+'.csv')\n"
   ]
  },
  {
   "cell_type": "code",
   "execution_count": 198,
   "metadata": {},
   "outputs": [
    {
     "name": "stdout",
     "output_type": "stream",
     "text": [
      "we train\n",
      "training done, we start the prediction\n",
      "Train error = 0.5141 %\n",
      "Test error = 0.5129 %\n",
      "we return the test prediction\n"
     ]
    }
   ],
   "source": [
    "regrLinWeighted = LinearRegression()\n",
    "y_pred_linearReg = trainData(regrLinWeighted)"
   ]
  },
  {
   "cell_type": "code",
   "execution_count": 199,
   "metadata": {},
   "outputs": [
    {
     "name": "stdout",
     "output_type": "stream",
     "text": [
      "prediction send topredictionLinReg.csv\n"
     ]
    }
   ],
   "source": [
    "sendPredictionToCfmFormat(y_pred_linearReg,fileName='predictionLinReg')"
   ]
  },
  {
   "cell_type": "code",
   "execution_count": 200,
   "metadata": {},
   "outputs": [
    {
     "data": {
      "text/plain": [
       "[<matplotlib.lines.Line2D at 0x263c2da3240>]"
      ]
     },
     "execution_count": 200,
     "metadata": {},
     "output_type": "execute_result"
    },
    {
     "data": {
      "image/png": "[encoded data removed]",
      "text/plain": [
       "<Figure size 432x288 with 1 Axes>"
      ]
     },
     "metadata": {
      "needs_background": "light"
     },
     "output_type": "display_data"
    }
   ],
   "source": [
    "plt.plot(y_pred_linearReg)"
   ]
  },
  {
   "cell_type": "markdown",
   "metadata": {},
   "source": [
    "## Regression with regularization : Lasso"
   ]
  },
  {
   "cell_type": "code",
   "execution_count": 201,
   "metadata": {},
   "outputs": [
    {
     "name": "stdout",
     "output_type": "stream",
     "text": [
      "we train\n",
      "training done, we start the prediction\n",
      "Train error = 0.2611 %\n",
      "Test error = 0.2604 %\n",
      "we return the test prediction\n"
     ]
    }
   ],
   "source": [
    "lasso = Lasso(alpha=.5)\n",
    "y_pred_linearRegLasso = trainData(lasso)"
   ]
  },
  {
   "cell_type": "code",
   "execution_count": 202,
   "metadata": {},
   "outputs": [
    {
     "name": "stdout",
     "output_type": "stream",
     "text": [
      "prediction send topredictionLinLasso.csv\n"
     ]
    }
   ],
   "source": [
    "sendPredictionToCfmFormat(y_pred_linearRegLasso,fileName='predictionLinLasso')"
   ]
  },
  {
   "cell_type": "markdown",
   "metadata": {},
   "source": [
    "## Regression with regularisation : Ridge"
   ]
  },
  {
   "cell_type": "code",
   "execution_count": 203,
   "metadata": {},
   "outputs": [
    {
     "name": "stdout",
     "output_type": "stream",
     "text": [
      "we train\n",
      "training done, we start the prediction\n",
      "Train error = 0.5141 %\n",
      "Test error = 0.5129 %\n",
      "we return the test prediction\n"
     ]
    }
   ],
   "source": [
    "ridge = Ridge(alpha=2.0)\n",
    "y_pred_linearRegRidge = trainData(ridge)"
   ]
  },
  {
   "cell_type": "code",
   "execution_count": 204,
   "metadata": {},
   "outputs": [
    {
     "name": "stdout",
     "output_type": "stream",
     "text": [
      "prediction send topredictionLinRidge.csv\n"
     ]
    }
   ],
   "source": [
    "sendPredictionToCfmFormat(y_pred_linearRegRidge,fileName='predictionLinRidge')"
   ]
  },
  {
   "cell_type": "markdown",
   "metadata": {},
   "source": [
    "# Logistic regression"
   ]
  },
  {
   "cell_type": "code",
   "execution_count": 206,
   "metadata": {},
   "outputs": [],
   "source": [
    "output_logistic= pd.DataFrame()\n",
    "output_logistic[\"ID\"] = output_train[\"ID\"]\n",
    "output_logistic[\"end_of_day_return\"] = output_train[\"end_of_day_return\"].apply(lambda row : 1 if row > 0 else 0)\n",
    "output_log = output_logistic[\"end_of_day_return\"].values\n",
    "X_train,X_test,y_train,y_test = train_test_split(data_train_clean,output_log,test_size=.2)"
   ]
  },
  {
   "cell_type": "code",
   "execution_count": 214,
   "metadata": {},
   "outputs": [
    {
     "name": "stdout",
     "output_type": "stream",
     "text": [
      "train score :  0.5215970858399258\n",
      "test score :  0.5201454389330901\n"
     ]
    },
    {
     "data": {
      "text/plain": [
       "0.52130675528996"
      ]
     },
     "execution_count": 214,
     "metadata": {},
     "output_type": "execute_result"
    }
   ],
   "source": [
    "logistic = LogisticRegression(solver='lbfgs')\n",
    "logistic.fit(X_train,y_train)\n",
    "print(\"train score : \",logistic.score(X_train,y_train))\n",
    "print(\"test score : \",logistic.score(X_test,y_test))\n",
    "y_pred_logistic = logistic.predict_proba(data_test_clean)\n",
    "logistic.score(data_train_clean,output_log)"
   ]
  },
  {
   "cell_type": "code",
   "execution_count": 215,
   "metadata": {},
   "outputs": [
    {
     "name": "stdout",
     "output_type": "stream",
     "text": [
      "prediction send topredictionLogistic.csv\n"
     ]
    }
   ],
   "source": [
    "sendPredictionToCfmFormat(y_pred_logistic[:,1],fileName='predictionLogistic')"
   ]
  },
  {
   "cell_type": "markdown",
   "metadata": {},
   "source": [
    "# Logistic regression with Cross validation"
   ]
  },
  {
   "cell_type": "code",
   "execution_count": 221,
   "metadata": {},
   "outputs": [
    {
     "name": "stderr",
     "output_type": "stream",
     "text": [
      "[Parallel(n_jobs=1)]: Using backend SequentialBackend with 1 concurrent workers.\n",
      "[Parallel(n_jobs=1)]: Done   5 out of   5 | elapsed:   14.5s finished\n"
     ]
    },
    {
     "name": "stdout",
     "output_type": "stream",
     "text": [
      "train score :  0.5215853460145808\n",
      "test score :  0.5200850629922317\n"
     ]
    },
    {
     "data": {
      "text/plain": [
       "0.5212852882023595"
      ]
     },
     "execution_count": 221,
     "metadata": {},
     "output_type": "execute_result"
    }
   ],
   "source": [
    "logistic = LogisticRegressionCV(solver='lbfgs',Cs=[.01,.1,1,2,5,10,100],cv=5,verbose=1)\n",
    "logistic.fit(X_train,y_train)\n",
    "print(\"train score : \",logistic.score(X_train,y_train))\n",
    "print(\"test score : \",logistic.score(X_test,y_test))\n",
    "y_pred_logisticCV = logistic.predict_proba(data_test_clean)\n",
    "logistic.score(data_train_clean,output_log)"
   ]
  },
  {
   "cell_type": "code",
   "execution_count": 223,
   "metadata": {},
   "outputs": [
    {
     "name": "stdout",
     "output_type": "stream",
     "text": [
      "[0.1]\n",
      "prediction send topredictionLogisticCV.csv\n"
     ]
    }
   ],
   "source": [
    "print(logistic.C_)\n",
    "sendPredictionToCfmFormat(y_pred_logistic[:,1],fileName='predictionLogisticCV')"
   ]
  },
  {
   "cell_type": "markdown",
   "metadata": {},
   "source": [
    "# SVM"
   ]
  },
  {
   "cell_type": "markdown",
   "metadata": {},
   "source": [
    "## Linear"
   ]
  },
  {
   "cell_type": "code",
   "execution_count": 224,
   "metadata": {},
   "outputs": [
    {
     "name": "stdout",
     "output_type": "stream",
     "text": [
      "[LibLinear]train score :  0.5222494847055232\n",
      "test score :  0.5199576026726417\n"
     ]
    },
    {
     "name": "stderr",
     "output_type": "stream",
     "text": [
      "C:\\Users\\jerom\\Anaconda3\\lib\\site-packages\\sklearn\\svm\\base.py:931: ConvergenceWarning: Liblinear failed to converge, increase the number of iterations.\n",
      "  \"the number of iterations.\", ConvergenceWarning)\n"
     ]
    }
   ],
   "source": [
    "svc = LinearSVC(tol=1.e-3,verbose=1)\n",
    "svc.fit(X_train,y_train)\n",
    "print(\"train score : \",svc.score(X_train,y_train))\n",
    "print(\"test score : \",svc.score(X_test,y_test))\n",
    "y_pred_svc = svc.predict_proba(data_test_clean)\n",
    "svc.score(data_train_clean,output_log)"
   ]
  },
  {
   "cell_type": "code",
   "execution_count": 226,
   "metadata": {},
   "outputs": [
    {
     "ename": "NameError",
     "evalue": "name 'y_pred_svc' is not defined",
     "output_type": "error",
     "traceback": [
      "\u001b[1;31m---------------------------------------------------------------------------\u001b[0m",
      "\u001b[1;31mNameError\u001b[0m                                 Traceback (most recent call last)",
      "\u001b[1;32m<ipython-input-226-0495f98f8b7f>\u001b[0m in \u001b[0;36m<module>\u001b[1;34m\u001b[0m\n\u001b[1;32m----> 1\u001b[1;33m \u001b[0msendPredictionToCfmFormat\u001b[0m\u001b[1;33m(\u001b[0m\u001b[0my_pred_svc\u001b[0m\u001b[1;33m,\u001b[0m\u001b[0mfileName\u001b[0m\u001b[1;33m=\u001b[0m\u001b[1;34m'predictionSVC'\u001b[0m\u001b[1;33m)\u001b[0m\u001b[1;33m\u001b[0m\u001b[1;33m\u001b[0m\u001b[0m\n\u001b[0m",
      "\u001b[1;31mNameError\u001b[0m: name 'y_pred_svc' is not defined"
     ]
    }
   ],
   "source": [
    "sendPredictionToCfmFormat(y_pred_svc,fileName='predictionSVC')"
   ]
  },
  {
   "cell_type": "markdown",
   "metadata": {},
   "source": [
    "# Logistic regress with loss function : CMF"
   ]
  },
  {
   "cell_type": "code",
   "execution_count": 319,
   "metadata": {},
   "outputs": [
    {
     "name": "stdout",
     "output_type": "stream",
     "text": [
      "Epoch 1/20\n",
      "596261/596261 [==============================] - 4s 7us/step - loss: 0.6953 - binary_accuracy: 0.5139\n",
      "Epoch 2/20\n",
      "596261/596261 [==============================] - 3s 6us/step - loss: 0.6927 - binary_accuracy: 0.5177\n",
      "Epoch 3/20\n",
      "596261/596261 [==============================] - 3s 6us/step - loss: 0.6922 - binary_accuracy: 0.5193\n",
      "Epoch 4/20\n",
      "596261/596261 [==============================] - 3s 6us/step - loss: 0.6920 - binary_accuracy: 0.5207\n",
      "Epoch 5/20\n",
      "596261/596261 [==============================] - 3s 6us/step - loss: 0.6919 - binary_accuracy: 0.5214\n",
      "Epoch 6/20\n",
      "596261/596261 [==============================] - 3s 6us/step - loss: 0.6919 - binary_accuracy: 0.5214\n",
      "Epoch 7/20\n",
      "596261/596261 [==============================] - 3s 6us/step - loss: 0.6918 - binary_accuracy: 0.5221\n",
      "Epoch 8/20\n",
      "596261/596261 [==============================] - 3s 6us/step - loss: 0.6917 - binary_accuracy: 0.5216\n",
      "Epoch 9/20\n",
      "596261/596261 [==============================] - 3s 6us/step - loss: 0.6916 - binary_accuracy: 0.5232\n",
      "Epoch 10/20\n",
      "596261/596261 [==============================] - 3s 6us/step - loss: 0.6914 - binary_accuracy: 0.5238\n",
      "Epoch 11/20\n",
      "596261/596261 [==============================] - 3s 6us/step - loss: 0.6913 - binary_accuracy: 0.5244\n",
      "Epoch 12/20\n",
      "596261/596261 [==============================] - 3s 6us/step - loss: 0.6910 - binary_accuracy: 0.5258\n",
      "Epoch 13/20\n",
      "596261/596261 [==============================] - 4s 7us/step - loss: 0.6909 - binary_accuracy: 0.5259\n",
      "Epoch 14/20\n",
      "596261/596261 [==============================] - 4s 6us/step - loss: 0.6907 - binary_accuracy: 0.5265\n",
      "Epoch 15/20\n",
      "596261/596261 [==============================] - 4s 6us/step - loss: 0.6906 - binary_accuracy: 0.5281\n",
      "Epoch 16/20\n",
      "596261/596261 [==============================] - 4s 6us/step - loss: 0.6904 - binary_accuracy: 0.5285\n",
      "Epoch 17/20\n",
      "596261/596261 [==============================] - 4s 6us/step - loss: 0.6902 - binary_accuracy: 0.5290\n",
      "Epoch 18/20\n",
      "596261/596261 [==============================] - 4s 6us/step - loss: 0.6901 - binary_accuracy: 0.5301\n",
      "Epoch 19/20\n",
      "596261/596261 [==============================] - 4s 6us/step - loss: 0.6899 - binary_accuracy: 0.5301\n",
      "Epoch 20/20\n",
      "596261/596261 [==============================] - 4s 6us/step - loss: 0.6898 - binary_accuracy: 0.5311\n"
     ]
    },
    {
     "data": {
      "text/plain": [
       "<keras.callbacks.History at 0x263c483eb70>"
      ]
     },
     "execution_count": 319,
     "metadata": {},
     "output_type": "execute_result"
    }
   ],
   "source": [
    "Y_train = np_utils.to_categorical(y_train,2 )\n",
    "Y_test = np_utils.to_categorical(y_test,2 )\n",
    "model = Sequential()\n",
    "model.add(Dense(X_train.shape[1],  input_dim=X_train.shape[1], name='fc1',kernel_initializer=glorot_normal()))\n",
    "model.add(Activation('tanh'))\n",
    "model.add(Dense(2,name='fc2',activation='softmax'))\n",
    "adam = Adamax()\n",
    "model.compile(loss=\"categorical_crossentropy\",optimizer='rmsprop',metrics=[\"binary_accuracy\"])\n",
    "batch_size=500\n",
    "n_epoch=20\n",
    "model.fit(X_train,Y_train,epochs=n_epoch,batch_size=batch_size,verbose=1)"
   ]
  },
  {
   "cell_type": "code",
   "execution_count": 320,
   "metadata": {},
   "outputs": [
    {
     "name": "stdout",
     "output_type": "stream",
     "text": [
      "596261/596261 [==============================] - 13s 22us/step\n",
      "[0.6890742437319987, 0.5337981186092325]\n",
      "149066/149066 [==============================] - 4s 24us/step\n",
      "[0.6942616479415021, 0.5131149960424215]\n"
     ]
    }
   ],
   "source": [
    "print(model.evaluate(X_train,Y_train,verbose=1))\n",
    "print(model.evaluate(X_test,Y_test,verbose=1))"
   ]
  },
  {
   "cell_type": "code",
   "execution_count": 321,
   "metadata": {},
   "outputs": [
    {
     "data": {
      "text/plain": [
       "0.5296614774454702"
      ]
     },
     "execution_count": 321,
     "metadata": {},
     "output_type": "execute_result"
    }
   ],
   "source": [
    "y_pred = model.predict_proba(data_train_clean)\n",
    "CFM_metrics(pd.DataFrame(output_train[\"end_of_day_return\"].values),pd.DataFrame(y_pred[:,1]))"
   ]
  },
  {
   "cell_type": "code",
   "execution_count": 322,
   "metadata": {},
   "outputs": [
    {
     "name": "stdout",
     "output_type": "stream",
     "text": [
      "prediction send toNN.csv\n"
     ]
    }
   ],
   "source": [
    "test_pred =  model.predict_proba(data_test_clean)\n",
    "sendPredictionToCfmFormat(test_pred[:,1],fileName='NN')"
   ]
  },
  {
   "cell_type": "code",
   "execution_count": 318,
   "metadata": {},
   "outputs": [
    {
     "data": {
      "text/plain": [
       "array([[0.44033068, 0.5596693 ],\n",
       "       [0.44104674, 0.5589532 ],\n",
       "       [0.52120835, 0.4787916 ],\n",
       "       ...,\n",
       "       [0.5627397 , 0.4372603 ],\n",
       "       [0.49365795, 0.50634205],\n",
       "       [0.46194956, 0.5380505 ]], dtype=float32)"
      ]
     },
     "execution_count": 318,
     "metadata": {},
     "output_type": "execute_result"
    }
   ],
   "source": [
    "test_pred"
   ]
  },
  {
   "cell_type": "code",
   "execution_count": null,
   "metadata": {},
   "outputs": [],
   "source": []
  }
 ],
 "metadata": {
  "kernelspec": {
   "display_name": "Python 3",
   "language": "python",
   "name": "python3"
  },
  "language_info": {
   "codemirror_mode": {
    "name": "ipython",
    "version": 3
   },
   "file_extension": ".py",
   "mimetype": "text/x-python",
   "name": "python",
   "nbconvert_exporter": "python",
   "pygments_lexer": "ipython3",
   "version": "3.6.8"
  }
 },
 "nbformat": 4,
 "nbformat_minor": 2
}
