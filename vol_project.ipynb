{
 "cells": [
  {
   "cell_type": "markdown",
   "metadata": {},
   "source": [
    "# Projet RCP 209 : prédiction de rendement de stock"
   ]
  },
  {
   "cell_type": "markdown",
   "metadata": {},
   "source": [
    "## Import library"
   ]
  },
  {
   "cell_type": "code",
   "execution_count": 1,
   "metadata": {},
   "outputs": [],
   "source": [
    "import pandas as pd\n",
    "import numpy as np\n",
    "import matplotlib.pyplot as plt"
   ]
  },
  {
   "cell_type": "markdown",
   "metadata": {},
   "source": [
    "# Accuracy function"
   ]
  },
  {
   "cell_type": "code",
   "execution_count": 2,
   "metadata": {},
   "outputs": [],
   "source": [
    "def CFM_metrics(y_true, y_pred):\n",
    "    \"\"\"\n",
    "    Return the metrics used for the CFM Data Challenge 2019.\n",
    "\n",
    "    This metrics is simply the accuracy of the prediction of positive returns\n",
    "    (see below for details), but based on true *returns* (y_true) and\n",
    "    probabilities (of returns being positive).\n",
    "\n",
    "    Args\n",
    "        y_true: Pandas Dataframe\n",
    "            target returns. Positive returns will give True, and negative ones False.\n",
    "\n",
    "        y_pred: Pandas Dataframe\n",
    "            predicted probability of positive returns.\n",
    "\n",
    "    \"\"\"\n",
    "    return ((y_true.values > 0) == (y_pred.values > 0.5)).mean()"
   ]
  },
  {
   "cell_type": "markdown",
   "metadata": {},
   "source": [
    "# Get data"
   ]
  },
  {
   "cell_type": "code",
   "execution_count": 3,
   "metadata": {},
   "outputs": [],
   "source": [
    "data_test = pd.read_csv(\"data_stock\\\\test_input.csv\", sep=',')\n",
    "data_train = pd.read_csv(\"data_stock\\\\training_input.csv\", sep=',')\n",
    "output_train = pd.read_csv(\"data_stock\\\\training_output.csv\", sep=',')"
   ]
  },
  {
   "cell_type": "markdown",
   "metadata": {},
   "source": [
    "# Clean the data"
   ]
  },
  {
   "cell_type": "code",
   "execution_count": 4,
   "metadata": {},
   "outputs": [
    {
     "data": {
      "text/html": [
       "<div>\n",
       "<style scoped>\n",
       "    .dataframe tbody tr th:only-of-type {\n",
       "        vertical-align: middle;\n",
       "    }\n",
       "\n",
       "    .dataframe tbody tr th {\n",
       "        vertical-align: top;\n",
       "    }\n",
       "\n",
       "    .dataframe thead th {\n",
       "        text-align: right;\n",
       "    }\n",
       "</style>\n",
       "<table border=\"1\" class=\"dataframe\">\n",
       "  <thead>\n",
       "    <tr style=\"text-align: right;\">\n",
       "      <th></th>\n",
       "      <th>ID</th>\n",
       "      <th>eqt_code</th>\n",
       "      <th>date</th>\n",
       "      <th>09:30:00</th>\n",
       "      <th>09:35:00</th>\n",
       "      <th>09:40:00</th>\n",
       "      <th>09:45:00</th>\n",
       "      <th>09:50:00</th>\n",
       "      <th>09:55:00</th>\n",
       "      <th>10:00:00</th>\n",
       "      <th>...</th>\n",
       "      <th>14:35:00</th>\n",
       "      <th>14:40:00</th>\n",
       "      <th>14:45:00</th>\n",
       "      <th>14:50:00</th>\n",
       "      <th>14:55:00</th>\n",
       "      <th>15:00:00</th>\n",
       "      <th>15:05:00</th>\n",
       "      <th>15:10:00</th>\n",
       "      <th>15:15:00</th>\n",
       "      <th>15:20:00</th>\n",
       "    </tr>\n",
       "  </thead>\n",
       "  <tbody>\n",
       "    <tr>\n",
       "      <th>0</th>\n",
       "      <td>0</td>\n",
       "      <td>975514820</td>\n",
       "      <td>2059277756</td>\n",
       "      <td>0.378421</td>\n",
       "      <td>0.062977</td>\n",
       "      <td>-1.699955</td>\n",
       "      <td>-0.253532</td>\n",
       "      <td>0.317230</td>\n",
       "      <td>-1.394081</td>\n",
       "      <td>-1.338014</td>\n",
       "      <td>...</td>\n",
       "      <td>-0.258339</td>\n",
       "      <td>-0.193950</td>\n",
       "      <td>0.129398</td>\n",
       "      <td>0.064666</td>\n",
       "      <td>0.323250</td>\n",
       "      <td>0.193705</td>\n",
       "      <td>0.387117</td>\n",
       "      <td>0.257687</td>\n",
       "      <td>0.064357</td>\n",
       "      <td>-0.193022</td>\n",
       "    </tr>\n",
       "    <tr>\n",
       "      <th>1</th>\n",
       "      <td>1</td>\n",
       "      <td>975514820</td>\n",
       "      <td>661006643</td>\n",
       "      <td>-0.588441</td>\n",
       "      <td>-0.393182</td>\n",
       "      <td>0.918810</td>\n",
       "      <td>0.392393</td>\n",
       "      <td>0.195901</td>\n",
       "      <td>-0.195754</td>\n",
       "      <td>0.000000</td>\n",
       "      <td>...</td>\n",
       "      <td>0.000000</td>\n",
       "      <td>-0.260940</td>\n",
       "      <td>0.000000</td>\n",
       "      <td>-0.130601</td>\n",
       "      <td>0.130666</td>\n",
       "      <td>0.130601</td>\n",
       "      <td>0.130536</td>\n",
       "      <td>0.521881</td>\n",
       "      <td>0.260419</td>\n",
       "      <td>0.910557</td>\n",
       "    </tr>\n",
       "    <tr>\n",
       "      <th>2</th>\n",
       "      <td>2</td>\n",
       "      <td>975514820</td>\n",
       "      <td>2252275018</td>\n",
       "      <td>-0.974472</td>\n",
       "      <td>1.789703</td>\n",
       "      <td>-0.105310</td>\n",
       "      <td>-0.456042</td>\n",
       "      <td>0.894337</td>\n",
       "      <td>-0.341168</td>\n",
       "      <td>-0.373679</td>\n",
       "      <td>...</td>\n",
       "      <td>-0.331103</td>\n",
       "      <td>-0.236124</td>\n",
       "      <td>-0.256959</td>\n",
       "      <td>-0.229774</td>\n",
       "      <td>0.063974</td>\n",
       "      <td>-0.570371</td>\n",
       "      <td>0.133774</td>\n",
       "      <td>-0.123741</td>\n",
       "      <td>-0.764930</td>\n",
       "      <td>0.230346</td>\n",
       "    </tr>\n",
       "    <tr>\n",
       "      <th>3</th>\n",
       "      <td>3</td>\n",
       "      <td>975514820</td>\n",
       "      <td>901241465</td>\n",
       "      <td>-4.612982</td>\n",
       "      <td>1.746131</td>\n",
       "      <td>1.092367</td>\n",
       "      <td>-0.030626</td>\n",
       "      <td>0.996415</td>\n",
       "      <td>-1.391209</td>\n",
       "      <td>0.169799</td>\n",
       "      <td>...</td>\n",
       "      <td>0.336335</td>\n",
       "      <td>-0.185523</td>\n",
       "      <td>0.521719</td>\n",
       "      <td>-0.095356</td>\n",
       "      <td>-0.207925</td>\n",
       "      <td>0.318842</td>\n",
       "      <td>0.119798</td>\n",
       "      <td>-0.155044</td>\n",
       "      <td>0.290896</td>\n",
       "      <td>-0.058833</td>\n",
       "    </tr>\n",
       "    <tr>\n",
       "      <th>4</th>\n",
       "      <td>4</td>\n",
       "      <td>975514820</td>\n",
       "      <td>1213815424</td>\n",
       "      <td>-2.642804</td>\n",
       "      <td>-0.772708</td>\n",
       "      <td>-0.115318</td>\n",
       "      <td>0.145272</td>\n",
       "      <td>-0.136105</td>\n",
       "      <td>0.450894</td>\n",
       "      <td>-0.046230</td>\n",
       "      <td>...</td>\n",
       "      <td>0.631221</td>\n",
       "      <td>0.090185</td>\n",
       "      <td>-0.169416</td>\n",
       "      <td>-0.081212</td>\n",
       "      <td>-0.275152</td>\n",
       "      <td>-0.249646</td>\n",
       "      <td>0.042280</td>\n",
       "      <td>0.483204</td>\n",
       "      <td>0.394914</td>\n",
       "      <td>-0.619209</td>\n",
       "    </tr>\n",
       "  </tbody>\n",
       "</table>\n",
       "<p>5 rows × 74 columns</p>\n",
       "</div>"
      ],
      "text/plain": [
       "   ID   eqt_code        date  09:30:00  09:35:00  09:40:00  09:45:00  \\\n",
       "0   0  975514820  2059277756  0.378421  0.062977 -1.699955 -0.253532   \n",
       "1   1  975514820   661006643 -0.588441 -0.393182  0.918810  0.392393   \n",
       "2   2  975514820  2252275018 -0.974472  1.789703 -0.105310 -0.456042   \n",
       "3   3  975514820   901241465 -4.612982  1.746131  1.092367 -0.030626   \n",
       "4   4  975514820  1213815424 -2.642804 -0.772708 -0.115318  0.145272   \n",
       "\n",
       "   09:50:00  09:55:00  10:00:00    ...     14:35:00  14:40:00  14:45:00  \\\n",
       "0  0.317230 -1.394081 -1.338014    ...    -0.258339 -0.193950  0.129398   \n",
       "1  0.195901 -0.195754  0.000000    ...     0.000000 -0.260940  0.000000   \n",
       "2  0.894337 -0.341168 -0.373679    ...    -0.331103 -0.236124 -0.256959   \n",
       "3  0.996415 -1.391209  0.169799    ...     0.336335 -0.185523  0.521719   \n",
       "4 -0.136105  0.450894 -0.046230    ...     0.631221  0.090185 -0.169416   \n",
       "\n",
       "   14:50:00  14:55:00  15:00:00  15:05:00  15:10:00  15:15:00  15:20:00  \n",
       "0  0.064666  0.323250  0.193705  0.387117  0.257687  0.064357 -0.193022  \n",
       "1 -0.130601  0.130666  0.130601  0.130536  0.521881  0.260419  0.910557  \n",
       "2 -0.229774  0.063974 -0.570371  0.133774 -0.123741 -0.764930  0.230346  \n",
       "3 -0.095356 -0.207925  0.318842  0.119798 -0.155044  0.290896 -0.058833  \n",
       "4 -0.081212 -0.275152 -0.249646  0.042280  0.483204  0.394914 -0.619209  \n",
       "\n",
       "[5 rows x 74 columns]"
      ]
     },
     "execution_count": 4,
     "metadata": {},
     "output_type": "execute_result"
    }
   ],
   "source": [
    "data_train.head()"
   ]
  },
  {
   "cell_type": "code",
   "execution_count": 5,
   "metadata": {},
   "outputs": [
    {
     "data": {
      "text/plain": [
       "((745327, 74), (319769, 74), (745327, 2))"
      ]
     },
     "execution_count": 5,
     "metadata": {},
     "output_type": "execute_result"
    }
   ],
   "source": [
    "data_train.shape, data_test.shape, output_train.shape"
   ]
  },
  {
   "cell_type": "code",
   "execution_count": 6,
   "metadata": {},
   "outputs": [
    {
     "data": {
      "text/plain": [
       "eqt_code     680\n",
       "date        1511\n",
       "dtype: int64"
      ]
     },
     "execution_count": 6,
     "metadata": {},
     "output_type": "execute_result"
    }
   ],
   "source": [
    "data_train[[\"eqt_code\",\"date\"]].nunique()"
   ]
  },
  {
   "cell_type": "markdown",
   "metadata": {},
   "source": [
    "# Premiere analyse"
   ]
  },
  {
   "cell_type": "code",
   "execution_count": 12,
   "metadata": {},
   "outputs": [
    {
     "data": {
      "text/plain": [
       "(52918217, 0, 0.0)"
      ]
     },
     "execution_count": 12,
     "metadata": {},
     "output_type": "execute_result"
    }
   ],
   "source": [
    "nb_donnee = data_train.iloc[:,3:].size\n",
    "nb_nan = data_train.iloc[:,3:].isna().sum().sum()\n",
    "nb_donnee,nb_nan,nb_nan/nb_donnee * 100"
   ]
  },
  {
   "cell_type": "code",
   "execution_count": 13,
   "metadata": {},
   "outputs": [],
   "source": [
    "#we linearly interpolate the NaN for the volatility and extrapolate to 0 \n",
    "data_train.iloc[:,3:57] = data_train.iloc[:,3:].interpolate(axis=1)\n",
    "data_test.iloc[:,3:57]  = data_test.iloc[:,3:].interpolate(axis=1)\n",
    "#we use a flat extrapolation\n",
    "data_train.fillna(0,inplace=True)\n",
    "data_test.fillna(0,inplace=True)"
   ]
  },
  {
   "cell_type": "code",
   "execution_count": 14,
   "metadata": {},
   "outputs": [],
   "source": [
    "#check if there is some NaN\n",
    "#NAs = pd.concat([data_train.isnull().sum(), data_test.isnull().sum()], axis=1, keys=['Train', 'Test'])\n",
    "#NAs[NAs.sum(axis=1) > 0]"
   ]
  },
  {
   "cell_type": "code",
   "execution_count": 15,
   "metadata": {},
   "outputs": [],
   "source": [
    "#drop not necessary data\n",
    "data_train_clean = data_train.drop(['ID', 'eqt_code', 'date'], axis=1, inplace=False)\n",
    "data_test_clean = data_test.drop(['ID', 'eqt_code', 'date'], axis=1, inplace=False)\n",
    "y_train = output_train[\"end_of_day_return\"].values"
   ]
  },
  {
   "cell_type": "markdown",
   "metadata": {},
   "source": [
    "# Linear regression"
   ]
  },
  {
   "cell_type": "code",
   "execution_count": 17,
   "metadata": {},
   "outputs": [],
   "source": [
    "def trainData(model,train_set=data_train_clean,test_set=data_test_clean,output=y_train):\n",
    "    print(\"we train\")\n",
    "    model.fit(train_set,output)\n",
    "    print(\"training done, we start the prediction\")\n",
    "    y_pred = model.predict(train_set)\n",
    "    print('Train error =', round(CFM_metrics(pd.DataFrame(data=output), pd.DataFrame(data=y_pred)), 4), '%')\n",
    "    print(\"we return the test prediction\")\n",
    "    return model.predict(test_set)\n",
    "\n",
    "def sendPredictionToCfmFormat(prediction, test = data_test, fileName = 'predictions'):\n",
    "    output = pd.DataFrame()\n",
    "    output[\"ID\"] = test[\"ID\"]\n",
    "    output[\"end_of_day_return\"] = prediction\n",
    "    output.to_csv(fileName+'.csv', sep=',', index=False)\n",
    "    print(\"prediction send to\"+fileName+'.csv')\n",
    "    \n",
    "def compare(y1,y2):\n",
    "    delta = y1 * y2\n",
    "    return CFM_metrics(pd.DataFrame(y1), pd.DataFrame(y2)), np.sum(delta >=0)/len(y1)*100"
   ]
  },
  {
   "cell_type": "code",
   "execution_count": 18,
   "metadata": {},
   "outputs": [
    {
     "name": "stdout",
     "output_type": "stream",
     "text": [
      "we train\n",
      "training done, we start the prediction\n",
      "Train error = 0.5029 %\n",
      "we return the test prediction\n"
     ]
    }
   ],
   "source": [
    "from sklearn.linear_model import LinearRegression\n",
    "regrLinWeighted = LinearRegression()\n",
    "y_pred_linearReg = trainData(regrLinWeighted)"
   ]
  },
  {
   "cell_type": "code",
   "execution_count": 19,
   "metadata": {},
   "outputs": [
    {
     "name": "stdout",
     "output_type": "stream",
     "text": [
      "prediction send topredictionLinReg.csv\n"
     ]
    }
   ],
   "source": [
    "sendPredictionToCfmFormat(y_pred_linearReg,fileName='predictionLinReg')"
   ]
  },
  {
   "cell_type": "code",
   "execution_count": 20,
   "metadata": {},
   "outputs": [
    {
     "data": {
      "text/plain": [
       "[<matplotlib.lines.Line2D at 0xba07eb8>]"
      ]
     },
     "execution_count": 20,
     "metadata": {},
     "output_type": "execute_result"
    },
    {
     "data": {
      "image/png": "[encoded data removed]",
      "text/plain": [
       "<Figure size 432x288 with 1 Axes>"
      ]
     },
     "metadata": {},
     "output_type": "display_data"
    }
   ],
   "source": [
    "plt.plot(y_pred_linearReg)"
   ]
  },
  {
   "cell_type": "markdown",
   "metadata": {},
   "source": [
    "## Regression with regularization : Lasso"
   ]
  },
  {
   "cell_type": "code",
   "execution_count": 21,
   "metadata": {},
   "outputs": [
    {
     "name": "stdout",
     "output_type": "stream",
     "text": [
      "we train\n",
      "training done, we start the prediction\n",
      "Train error = 0.5029 %\n",
      "we return the test prediction\n"
     ]
    }
   ],
   "source": [
    "from sklearn.linear_model import Lasso\n",
    "lasso = Lasso(alpha=.5)\n",
    "y_pred_linearRegLasso = trainData(lasso)"
   ]
  },
  {
   "cell_type": "code",
   "execution_count": 22,
   "metadata": {},
   "outputs": [
    {
     "name": "stdout",
     "output_type": "stream",
     "text": [
      "prediction send topredictionLinLasso.csv\n"
     ]
    }
   ],
   "source": [
    "sendPredictionToCfmFormat(y_pred_linearRegLasso,fileName='predictionLinLasso')"
   ]
  },
  {
   "cell_type": "code",
   "execution_count": 23,
   "metadata": {},
   "outputs": [
    {
     "data": {
      "text/plain": [
       "(0.0002220352817189909, 50.26941323267734)"
      ]
     },
     "execution_count": 23,
     "metadata": {},
     "output_type": "execute_result"
    }
   ],
   "source": [
    "compare(y_pred_linearRegLasso, y_pred_linearReg)"
   ]
  },
  {
   "cell_type": "markdown",
   "metadata": {},
   "source": [
    "## Regression with regularisation : Ridge"
   ]
  },
  {
   "cell_type": "code",
   "execution_count": 24,
   "metadata": {},
   "outputs": [
    {
     "name": "stdout",
     "output_type": "stream",
     "text": [
      "we train\n",
      "training done, we start the prediction\n",
      "Train error = 0.5029 %\n",
      "we return the test prediction\n"
     ]
    }
   ],
   "source": [
    "from sklearn.linear_model import Ridge\n",
    "ridge = Ridge(alpha=2.0)\n",
    "y_pred_linearRegRidge = trainData(ridge)"
   ]
  },
  {
   "cell_type": "code",
   "execution_count": 25,
   "metadata": {},
   "outputs": [
    {
     "name": "stdout",
     "output_type": "stream",
     "text": [
      "prediction send topredictionLinRidge.csv\n"
     ]
    }
   ],
   "source": [
    "sendPredictionToCfmFormat(y_pred_linearRegRidge,fileName='predictionLinRidge')"
   ]
  },
  {
   "cell_type": "code",
   "execution_count": 26,
   "metadata": {},
   "outputs": [
    {
     "data": {
      "text/plain": [
       "(0.4975341574699236, 99.99937454850219)"
      ]
     },
     "execution_count": 26,
     "metadata": {},
     "output_type": "execute_result"
    }
   ],
   "source": [
    "compare(y_pred_linearRegRidge, y_pred_linearReg)"
   ]
  },
  {
   "cell_type": "markdown",
   "metadata": {},
   "source": [
    "# Logistic regression"
   ]
  },
  {
   "cell_type": "code",
   "execution_count": 27,
   "metadata": {},
   "outputs": [],
   "source": [
    "output_logistic= pd.DataFrame()\n",
    "output_logistic[\"ID\"] = output_train[\"ID\"]\n",
    "output_logistic[\"end_of_day_return\"] = output_train[\"end_of_day_return\"].apply(lambda row : 1 if row > 0 else -1)"
   ]
  },
  {
   "cell_type": "code",
   "execution_count": 28,
   "metadata": {},
   "outputs": [
    {
     "name": "stdout",
     "output_type": "stream",
     "text": [
      "we train\n",
      "training done, we start the prediction\n",
      "Train error = 0.5217 %\n",
      "we return the test prediction\n"
     ]
    }
   ],
   "source": [
    "from sklearn.linear_model import LogisticRegression\n",
    "logistic = LogisticRegression()\n",
    "y_pred_logistic = trainData(logistic,output=output_logistic[\"end_of_day_return\"].values)"
   ]
  },
  {
   "cell_type": "code",
   "execution_count": 66,
   "metadata": {},
   "outputs": [
    {
     "name": "stdout",
     "output_type": "stream",
     "text": [
      "prediction send topredictionLogistic.csv\n"
     ]
    }
   ],
   "source": [
    "sendPredictionToCfmFormat(y_pred_logistic,fileName='predictionLogistic')"
   ]
  },
  {
   "cell_type": "code",
   "execution_count": 67,
   "metadata": {},
   "outputs": [
    {
     "data": {
      "text/plain": [
       "(0.5631721649065419, 89.06304238372074)"
      ]
     },
     "execution_count": 67,
     "metadata": {},
     "output_type": "execute_result"
    }
   ],
   "source": [
    "compare(y_pred_logistic, y_pred_linearReg)"
   ]
  },
  {
   "cell_type": "markdown",
   "metadata": {},
   "source": [
    "# SVM"
   ]
  },
  {
   "cell_type": "markdown",
   "metadata": {},
   "source": [
    "## Linear"
   ]
  },
  {
   "cell_type": "code",
   "execution_count": 29,
   "metadata": {},
   "outputs": [
    {
     "name": "stdout",
     "output_type": "stream",
     "text": [
      "we train\n",
      "[LibLinear]training done, we start the prediction\n",
      "Train error = 0.5222 %\n",
      "we return the test prediction\n"
     ]
    },
    {
     "name": "stderr",
     "output_type": "stream",
     "text": [
      "C:\\Users\\jerpetit\\AppData\\Local\\Continuum\\anaconda3\\lib\\site-packages\\sklearn\\svm\\base.py:898: ConvergenceWarning: Liblinear failed to converge, increase the number of iterations.\n",
      "  \"the number of iterations.\", ConvergenceWarning)\n"
     ]
    }
   ],
   "source": [
    "from sklearn.svm import LinearSVC\n",
    "svc = LinearSVC(tol=1.e-5,verbose=1)\n",
    "y_pred_svc = trainData(svc,output=output_logistic[\"end_of_day_return\"].values)"
   ]
  },
  {
   "cell_type": "code",
   "execution_count": 31,
   "metadata": {},
   "outputs": [
    {
     "name": "stdout",
     "output_type": "stream",
     "text": [
      "prediction send topredictionLogisticCV.csv\n"
     ]
    }
   ],
   "source": [
    "sendPredictionToCfmFormat(y_pred_svc,fileName='predictionLogisticCV')"
   ]
  },
  {
   "cell_type": "code",
   "execution_count": 32,
   "metadata": {},
   "outputs": [
    {
     "data": {
      "text/plain": [
       "(0.9399034928338894, 93.99034928338894)"
      ]
     },
     "execution_count": 32,
     "metadata": {},
     "output_type": "execute_result"
    }
   ],
   "source": [
    "compare(y_pred_logistic, y_pred_svc)"
   ]
  },
  {
   "cell_type": "markdown",
   "metadata": {},
   "source": [
    "## Kernel"
   ]
  },
  {
   "cell_type": "code",
   "execution_count": null,
   "metadata": {},
   "outputs": [
    {
     "name": "stdout",
     "output_type": "stream",
     "text": [
      "we train\n"
     ]
    }
   ],
   "source": [
    "from sklearn.svm import SVC\n",
    "svcGaussian = SVC(kernel='sigmoid', tol=1e-5, verbose=1)\n",
    "y_pred_gaussian = trainData(svcGaussian,output=output_logistic[\"end_of_day_return\"].values)"
   ]
  },
  {
   "cell_type": "code",
   "execution_count": null,
   "metadata": {},
   "outputs": [],
   "source": []
  }
 ],
 "metadata": {
  "kernelspec": {
   "display_name": "Python 3",
   "language": "python",
   "name": "python3"
  },
  "language_info": {
   "codemirror_mode": {
    "name": "ipython",
    "version": 3
   },
   "file_extension": ".py",
   "mimetype": "text/x-python",
   "name": "python",
   "nbconvert_exporter": "python",
   "pygments_lexer": "ipython3",
   "version": "3.6.4"
  }
 },
 "nbformat": 4,
 "nbformat_minor": 2
}
